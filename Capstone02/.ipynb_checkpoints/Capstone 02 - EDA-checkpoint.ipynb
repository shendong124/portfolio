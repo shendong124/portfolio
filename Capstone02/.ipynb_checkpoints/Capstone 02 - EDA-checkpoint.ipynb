{
 "cells": [
  {
   "cell_type": "markdown",
   "id": "c43868d7-e441-46c0-b83d-a262692a3b82",
   "metadata": {},
   "source": [
    "**EDA recepes and reviews datasets- Executive summary**\n",
    "\n",
    "**I-  Correlation between features and average rating**\n",
    "\n",
    "1. Simplification of the dataset \n",
    "   \n",
    "In our merged dataset genearated from the data wrangling, each recepes with numerical features and categorical features, and the review rating from each reviewers that gave a rating. We also previousely calculated the average rating and will use this as target feature.\n",
    "\n",
    "We will only use the average rating for each recepe and discard each rating from each reviewers\n",
    "\n",
    "**RESULTS: Generation of \"df_singlet dataset\" dataframe**\n",
    "\n",
    "2. How does numerical features of the recepes correlated with the average ratings? \n",
    "\n",
    "A- Is there a correlation between complexity of a recepe and its average rating? :\n",
    "- Ingredients counts/recepe ('ingredient_count')\n",
    "- Description length: ('description_length')\n",
    "- Instruction length: 'Instruction_length'\n",
    "- Duration: ('TotalTimeMinutes') \n",
    "\n",
    "**RESULTS: we did not find any correlation with the average rating!**\n",
    "        \n",
    "B- Is there a correlation between nutrient composition and calories? investigation of correlation significance and and p-values estimation.\n",
    "- 'Calories' \n",
    "- 'FatContent'\n",
    "- 'SaturatedFatContent'\n",
    "- 'CholesterolContent'\n",
    "- 'SodiumContent'\n",
    "- 'CarbohydrateContent'\n",
    "- 'FiberContent' \n",
    "- 'SugarContent'\n",
    "- 'ProteinContent'\n",
    "        \n",
    "**RESULTS: we did not find any correlation with the average ratings but we found that:**\n",
    "**- Calories are more corellated to sugar contents than fat content**\n",
    "**- calories are more related to protein and fiber than fat**\n",
    "\n",
    "    \n",
    "C- Statistical analysis:\n",
    "- Investigate the distribution of the target features\n",
    "- Investigate significance of the pearson correlation coef between nutrient features and calories using permutation strategy. We will consider Null hypothesis H0 = there are no differences between pearson correlation coefficient with permutated data vs real data and we will compute p-values using the correct test based on a normal distribution.\n",
    "- We can observe different level of correlation between the nutrient conctents features and we will investigate significance of the difference. We will consider Null hypothesis H0 = there are no differences between pearson correlation coefficient and we will compute p-values using the correct test based on a normal distribution.\n",
    "\n",
    "**RESULTS:**\n",
    "**- pearson correlation coefficients between nutrient features and calories are significant (small p-values)**\n",
    "**- different level of correlation between the nutrient conctents features are significance (small p-values)**\n",
    "        \n",
    "**II-  Creation of Ingredient clusters for recepe recommendation model**\n",
    "\n",
    "- Standardization of the ingredient names using the pyfood library\n",
    "- Clustering recepes according to ingredient list\n",
    "- Top 10 ingredient from each cluster\n",
    "- Generate the final dataframe for regression model to recommend recepes to the reviewers based on ingredient list. "
   ]
  },
  {
   "cell_type": "code",
   "execution_count": 1,
   "id": "3a32f8f6-51f6-426d-be95-3cf44bc12861",
   "metadata": {},
   "outputs": [],
   "source": [
    "import numpy as np\n",
    "import pandas as pd\n",
    "import matplotlib.pyplot as plt\n",
    "import seaborn as sns\n",
    "from scipy.stats import norm\n",
    "from collections import Counter\n",
    "\n"
   ]
  },
  {
   "cell_type": "code",
   "execution_count": 3,
   "id": "004abafd-681d-4a41-9fea-c61db5301301",
   "metadata": {},
   "outputs": [],
   "source": [
    "# import the dataframe\n",
    "df = pd.read_pickle('/Users/shendong/Desktop/Springboard_local/Springboard_old/data capstone 2/merged_df')"
   ]
  },
  {
   "cell_type": "code",
   "execution_count": 4,
   "id": "77f2df98-5629-499e-9d25-e2de7c45a2b8",
   "metadata": {},
   "outputs": [
    {
     "name": "stdout",
     "output_type": "stream",
     "text": [
      "<class 'pandas.core.frame.DataFrame'>\n",
      "RangeIndex: 864122 entries, 0 to 864121\n",
      "Data columns (total 33 columns):\n",
      " #   Column                      Non-Null Count   Dtype              \n",
      "---  ------                      --------------   -----              \n",
      " 0   RecipeId                    864122 non-null  float64            \n",
      " 1   Name                        864122 non-null  object             \n",
      " 2   AuthorId_recipe             864122 non-null  int64              \n",
      " 3   AuthorName_recipe           864122 non-null  object             \n",
      " 4   TotalTime                   864122 non-null  object             \n",
      " 5   DatePublished               864122 non-null  datetime64[ns, UTC]\n",
      " 6   Description                 864122 non-null  object             \n",
      " 7   RecipeCategory              864122 non-null  object             \n",
      " 8   Keywords                    864122 non-null  object             \n",
      " 9   RecipeIngredientQuantities  864122 non-null  object             \n",
      " 10  RecipeIngredientParts       864122 non-null  object             \n",
      " 11  Calories                    864122 non-null  float64            \n",
      " 12  FatContent                  864122 non-null  float64            \n",
      " 13  SaturatedFatContent         864122 non-null  float64            \n",
      " 14  CholesterolContent          864122 non-null  float64            \n",
      " 15  SodiumContent               864122 non-null  float64            \n",
      " 16  CarbohydrateContent         864122 non-null  float64            \n",
      " 17  FiberContent                864122 non-null  float64            \n",
      " 18  SugarContent                864122 non-null  float64            \n",
      " 19  ProteinContent              864122 non-null  float64            \n",
      " 20  RecipeServings              864122 non-null  float64            \n",
      " 21  RecipeInstructions          864122 non-null  object             \n",
      " 22  TotalTimeMinutes            864122 non-null  int64              \n",
      " 23  description_length          864122 non-null  int64              \n",
      " 24  ReviewId                    864122 non-null  int32              \n",
      " 25  AuthorId_review             864122 non-null  int32              \n",
      " 26  AuthorName_review           864122 non-null  object             \n",
      " 27  Rating                      864122 non-null  int32              \n",
      " 28  Review                      864122 non-null  object             \n",
      " 29  DateSubmitted               864122 non-null  datetime64[us, UTC]\n",
      " 30  DateModified                864122 non-null  datetime64[us, UTC]\n",
      " 31  average_rating              864122 non-null  float64            \n",
      " 32  rating_count                864122 non-null  int64              \n",
      "dtypes: datetime64[ns, UTC](1), datetime64[us, UTC](2), float64(12), int32(3), int64(4), object(11)\n",
      "memory usage: 207.7+ MB\n"
     ]
    }
   ],
   "source": [
    "#summary of the dataframe\n",
    "df.info()"
   ]
  },
  {
   "cell_type": "markdown",
   "id": "6bd987cf-e02f-4dd6-acb3-81504b2ce194",
   "metadata": {},
   "source": [
    "**I-  Correlation between features and average rating**\n",
    "\n",
    "1. Simplification of the dataset "
   ]
  },
  {
   "cell_type": "code",
   "execution_count": 5,
   "id": "26b0cef5-99bd-41d7-9d9d-68411d847edf",
   "metadata": {},
   "outputs": [],
   "source": [
    "#dropping off some unused columns\n",
    "df = df.drop(['Name', 'AuthorName_recipe', 'Description', 'TotalTime','DateSubmitted', 'DateModified'], axis =1)"
   ]
  },
  {
   "cell_type": "code",
   "execution_count": 6,
   "id": "3e5ae843-8ec7-401b-ac0f-ab9cc36e404a",
   "metadata": {},
   "outputs": [
    {
     "data": {
      "text/plain": [
       "(864122, 27)"
      ]
     },
     "execution_count": 6,
     "metadata": {},
     "output_type": "execute_result"
    }
   ],
   "source": [
    "df.shape"
   ]
  },
  {
   "cell_type": "code",
   "execution_count": 7,
   "id": "264649d0-f795-40a3-a420-e704755b2bc6",
   "metadata": {},
   "outputs": [],
   "source": [
    "#remove recepe multiplicate (each recepe was listed with individual rating from different reviewers)\n",
    "df_singlet = df.drop_duplicates(subset=['RecipeId', 'AuthorId_recipe', 'DatePublished', 'RecipeCategory',\n",
    "       'Keywords', 'RecipeIngredientQuantities', 'RecipeIngredientParts',\n",
    "       'Calories', 'FatContent', 'SaturatedFatContent', 'CholesterolContent',\n",
    "       'SodiumContent', 'CarbohydrateContent', 'FiberContent', 'SugarContent',\n",
    "       'ProteinContent', 'RecipeServings', 'RecipeInstructions',\n",
    "       'TotalTimeMinutes', 'description_length'], keep='first')"
   ]
  },
  {
   "cell_type": "code",
   "execution_count": 8,
   "id": "a647f9bb-4a80-42ab-a6df-befc726d5f31",
   "metadata": {},
   "outputs": [
    {
     "data": {
      "text/plain": [
       "(172299, 27)"
      ]
     },
     "execution_count": 8,
     "metadata": {},
     "output_type": "execute_result"
    }
   ],
   "source": [
    "#check dataframe shape to verify if the drop_duplicate worked\n",
    "df_singlet.shape"
   ]
  },
  {
   "cell_type": "markdown",
   "id": "53a46023-8fbf-4ba1-9de2-79add0405aa1",
   "metadata": {},
   "source": [
    "2. How does numerical features of the recepes correlated with the average ratings? "
   ]
  },
  {
   "cell_type": "code",
   "execution_count": 9,
   "id": "909a8975-f443-437f-b7c5-3a57f0501bb0",
   "metadata": {},
   "outputs": [
    {
     "name": "stderr",
     "output_type": "stream",
     "text": [
      "/var/folders/dt/t3ds7b0j66d_kpdgqfq1qtcm0000gn/T/ipykernel_51540/12009916.py:3: SettingWithCopyWarning: \n",
      "A value is trying to be set on a copy of a slice from a DataFrame.\n",
      "Try using .loc[row_indexer,col_indexer] = value instead\n",
      "\n",
      "See the caveats in the documentation: https://pandas.pydata.org/pandas-docs/stable/user_guide/indexing.html#returning-a-view-versus-a-copy\n",
      "  df_singlet['Instruction_length'] = df_singlet['RecipeInstructions'].str.len()\n"
     ]
    },
    {
     "data": {
      "text/plain": [
       "0          9\n",
       "4         11\n",
       "5          5\n",
       "14        15\n",
       "16         4\n",
       "          ..\n",
       "864117     6\n",
       "864118     6\n",
       "864119     3\n",
       "864120     2\n",
       "864121     2\n",
       "Name: Instruction_length, Length: 172299, dtype: int64"
      ]
     },
     "execution_count": 9,
     "metadata": {},
     "output_type": "execute_result"
    }
   ],
   "source": [
    "#create features linked to complexity of a recepe\n",
    "#Instruction length\n",
    "df_singlet['Instruction_length'] = df_singlet['RecipeInstructions'].str.len()\n",
    "df_singlet['Instruction_length']"
   ]
  },
  {
   "cell_type": "code",
   "execution_count": 10,
   "id": "ca3142cd-a5eb-4457-8770-5177fe680663",
   "metadata": {},
   "outputs": [
    {
     "name": "stderr",
     "output_type": "stream",
     "text": [
      "/var/folders/dt/t3ds7b0j66d_kpdgqfq1qtcm0000gn/T/ipykernel_51540/1695022226.py:3: SettingWithCopyWarning: \n",
      "A value is trying to be set on a copy of a slice from a DataFrame.\n",
      "Try using .loc[row_indexer,col_indexer] = value instead\n",
      "\n",
      "See the caveats in the documentation: https://pandas.pydata.org/pandas-docs/stable/user_guide/indexing.html#returning-a-view-versus-a-copy\n",
      "  df_singlet['ingredient_count'] = df_singlet['RecipeIngredientParts'].apply(len)\n"
     ]
    }
   ],
   "source": [
    "#create features linked to complexity of a recepe\n",
    "#Ingredient counts\n",
    "df_singlet['ingredient_count'] = df_singlet['RecipeIngredientParts'].apply(len)"
   ]
  },
  {
   "cell_type": "code",
   "execution_count": 11,
   "id": "5f7225e8-54b4-4934-8e94-74daf1e69a03",
   "metadata": {},
   "outputs": [
    {
     "name": "stderr",
     "output_type": "stream",
     "text": [
      "/var/folders/dt/t3ds7b0j66d_kpdgqfq1qtcm0000gn/T/ipykernel_51540/3205783588.py:3: SettingWithCopyWarning: \n",
      "A value is trying to be set on a copy of a slice from a DataFrame.\n",
      "Try using .loc[row_indexer,col_indexer] = value instead\n",
      "\n",
      "See the caveats in the documentation: https://pandas.pydata.org/pandas-docs/stable/user_guide/indexing.html#returning-a-view-versus-a-copy\n",
      "  df_singlet['Review_length'] = df_singlet['Review'].apply(len)\n"
     ]
    }
   ],
   "source": [
    "#create features linked to complexity of a recepe\n",
    "#Instruction length\n",
    "df_singlet['Review_length'] = df_singlet['Review'].apply(len)"
   ]
  },
  {
   "cell_type": "code",
   "execution_count": 12,
   "id": "cd292852-2427-4c4c-89a8-8dae3a186852",
   "metadata": {},
   "outputs": [
    {
     "data": {
      "text/plain": [
       "Index(['RecipeId', 'AuthorId_recipe', 'DatePublished', 'RecipeCategory',\n",
       "       'Keywords', 'RecipeIngredientQuantities', 'RecipeIngredientParts',\n",
       "       'Calories', 'FatContent', 'SaturatedFatContent', 'CholesterolContent',\n",
       "       'SodiumContent', 'CarbohydrateContent', 'FiberContent', 'SugarContent',\n",
       "       'ProteinContent', 'RecipeServings', 'RecipeInstructions',\n",
       "       'TotalTimeMinutes', 'description_length', 'ReviewId', 'AuthorId_review',\n",
       "       'AuthorName_review', 'Rating', 'Review', 'average_rating',\n",
       "       'rating_count', 'Instruction_length', 'ingredient_count',\n",
       "       'Review_length'],\n",
       "      dtype='object')"
      ]
     },
     "execution_count": 12,
     "metadata": {},
     "output_type": "execute_result"
    }
   ],
   "source": [
    "df_singlet.columns"
   ]
  },
  {
   "cell_type": "code",
   "execution_count": 13,
   "id": "ebb7993a-7397-4378-97df-ff25e0203e62",
   "metadata": {},
   "outputs": [
    {
     "data": {
      "text/plain": [
       "Index(['Calories', 'FatContent', 'SaturatedFatContent', 'CholesterolContent',\n",
       "       'SodiumContent', 'CarbohydrateContent', 'FiberContent', 'SugarContent',\n",
       "       'ProteinContent', 'TotalTimeMinutes', 'description_length',\n",
       "       'average_rating', 'Instruction_length', 'ingredient_count'],\n",
       "      dtype='object')"
      ]
     },
     "execution_count": 13,
     "metadata": {},
     "output_type": "execute_result"
    }
   ],
   "source": [
    "#making a dataframe with only the relevant features\n",
    "df1 = df_singlet[['Calories', 'FatContent', 'SaturatedFatContent', 'CholesterolContent', 'SodiumContent', 'CarbohydrateContent', 'FiberContent', 'SugarContent', 'ProteinContent', 'TotalTimeMinutes', 'description_length', 'average_rating', 'Instruction_length', 'ingredient_count']]\n",
    "df1.columns"
   ]
  },
  {
   "cell_type": "code",
   "execution_count": 14,
   "id": "1f397f76-95e1-45a5-8345-dab3b1ce0e04",
   "metadata": {},
   "outputs": [
    {
     "data": {
      "text/plain": [
       "<Axes: >"
      ]
     },
     "execution_count": 14,
     "metadata": {},
     "output_type": "execute_result"
    },
    {
     "data": {
      "image/png": "[encoded data removed]",
      "text/plain": [
       "<Figure size 640x480 with 2 Axes>"
      ]
     },
     "metadata": {},
     "output_type": "display_data"
    }
   ],
   "source": [
    "#generate correlation matrix and heatmap\n",
    "correlation_matrix = df1.corr()\n",
    "\n",
    "sns.heatmap(correlation_matrix)"
   ]
  },
  {
   "cell_type": "code",
   "execution_count": 34,
   "id": "84a3275f-9594-4661-8f90-57368e8b9d2a",
   "metadata": {},
   "outputs": [
    {
     "data": {
      "text/html": [
       "<div>\n",
       "<style scoped>\n",
       "    .dataframe tbody tr th:only-of-type {\n",
       "        vertical-align: middle;\n",
       "    }\n",
       "\n",
       "    .dataframe tbody tr th {\n",
       "        vertical-align: top;\n",
       "    }\n",
       "\n",
       "    .dataframe thead th {\n",
       "        text-align: right;\n",
       "    }\n",
       "</style>\n",
       "<table border=\"1\" class=\"dataframe\">\n",
       "  <thead>\n",
       "    <tr style=\"text-align: right;\">\n",
       "      <th></th>\n",
       "      <th>Calories</th>\n",
       "      <th>FatContent</th>\n",
       "      <th>SaturatedFatContent</th>\n",
       "      <th>CholesterolContent</th>\n",
       "      <th>SodiumContent</th>\n",
       "      <th>CarbohydrateContent</th>\n",
       "      <th>FiberContent</th>\n",
       "      <th>SugarContent</th>\n",
       "      <th>ProteinContent</th>\n",
       "      <th>TotalTimeMinutes</th>\n",
       "      <th>description_length</th>\n",
       "      <th>average_rating</th>\n",
       "      <th>Instruction_length</th>\n",
       "      <th>ingredient_count</th>\n",
       "    </tr>\n",
       "  </thead>\n",
       "  <tbody>\n",
       "    <tr>\n",
       "      <th>Calories</th>\n",
       "      <td>1.000000</td>\n",
       "      <td>0.377126</td>\n",
       "      <td>0.307980</td>\n",
       "      <td>0.205154</td>\n",
       "      <td>0.102865</td>\n",
       "      <td>0.961026</td>\n",
       "      <td>0.720247</td>\n",
       "      <td>0.947572</td>\n",
       "      <td>0.419207</td>\n",
       "      <td>0.020755</td>\n",
       "      <td>0.006841</td>\n",
       "      <td>-0.016968</td>\n",
       "      <td>0.048697</td>\n",
       "      <td>0.054740</td>\n",
       "    </tr>\n",
       "    <tr>\n",
       "      <th>FatContent</th>\n",
       "      <td>0.377126</td>\n",
       "      <td>1.000000</td>\n",
       "      <td>0.857112</td>\n",
       "      <td>0.539067</td>\n",
       "      <td>0.114504</td>\n",
       "      <td>0.118364</td>\n",
       "      <td>0.170298</td>\n",
       "      <td>0.094383</td>\n",
       "      <td>0.509980</td>\n",
       "      <td>0.051990</td>\n",
       "      <td>0.026684</td>\n",
       "      <td>-0.008524</td>\n",
       "      <td>0.124797</td>\n",
       "      <td>0.124705</td>\n",
       "    </tr>\n",
       "    <tr>\n",
       "      <th>SaturatedFatContent</th>\n",
       "      <td>0.307980</td>\n",
       "      <td>0.857112</td>\n",
       "      <td>1.000000</td>\n",
       "      <td>0.609623</td>\n",
       "      <td>0.105360</td>\n",
       "      <td>0.081363</td>\n",
       "      <td>0.132711</td>\n",
       "      <td>0.058483</td>\n",
       "      <td>0.473072</td>\n",
       "      <td>0.047787</td>\n",
       "      <td>0.023852</td>\n",
       "      <td>-0.007324</td>\n",
       "      <td>0.150769</td>\n",
       "      <td>0.110952</td>\n",
       "    </tr>\n",
       "    <tr>\n",
       "      <th>CholesterolContent</th>\n",
       "      <td>0.205154</td>\n",
       "      <td>0.539067</td>\n",
       "      <td>0.609623</td>\n",
       "      <td>1.000000</td>\n",
       "      <td>0.103162</td>\n",
       "      <td>0.023485</td>\n",
       "      <td>0.016121</td>\n",
       "      <td>0.010015</td>\n",
       "      <td>0.716085</td>\n",
       "      <td>0.052531</td>\n",
       "      <td>0.022516</td>\n",
       "      <td>-0.008498</td>\n",
       "      <td>0.153068</td>\n",
       "      <td>0.133547</td>\n",
       "    </tr>\n",
       "    <tr>\n",
       "      <th>SodiumContent</th>\n",
       "      <td>0.102865</td>\n",
       "      <td>0.114504</td>\n",
       "      <td>0.105360</td>\n",
       "      <td>0.103162</td>\n",
       "      <td>1.000000</td>\n",
       "      <td>0.069624</td>\n",
       "      <td>0.085446</td>\n",
       "      <td>0.057182</td>\n",
       "      <td>0.152386</td>\n",
       "      <td>0.032438</td>\n",
       "      <td>0.010735</td>\n",
       "      <td>-0.008847</td>\n",
       "      <td>0.018560</td>\n",
       "      <td>0.036094</td>\n",
       "    </tr>\n",
       "    <tr>\n",
       "      <th>CarbohydrateContent</th>\n",
       "      <td>0.961026</td>\n",
       "      <td>0.118364</td>\n",
       "      <td>0.081363</td>\n",
       "      <td>0.023485</td>\n",
       "      <td>0.069624</td>\n",
       "      <td>1.000000</td>\n",
       "      <td>0.724070</td>\n",
       "      <td>0.993942</td>\n",
       "      <td>0.239052</td>\n",
       "      <td>0.002380</td>\n",
       "      <td>-0.000439</td>\n",
       "      <td>-0.015770</td>\n",
       "      <td>0.013599</td>\n",
       "      <td>0.016654</td>\n",
       "    </tr>\n",
       "    <tr>\n",
       "      <th>FiberContent</th>\n",
       "      <td>0.720247</td>\n",
       "      <td>0.170298</td>\n",
       "      <td>0.132711</td>\n",
       "      <td>0.016121</td>\n",
       "      <td>0.085446</td>\n",
       "      <td>0.724070</td>\n",
       "      <td>1.000000</td>\n",
       "      <td>0.679949</td>\n",
       "      <td>0.292004</td>\n",
       "      <td>0.014993</td>\n",
       "      <td>0.011049</td>\n",
       "      <td>-0.010769</td>\n",
       "      <td>0.021727</td>\n",
       "      <td>0.129688</td>\n",
       "    </tr>\n",
       "    <tr>\n",
       "      <th>SugarContent</th>\n",
       "      <td>0.947572</td>\n",
       "      <td>0.094383</td>\n",
       "      <td>0.058483</td>\n",
       "      <td>0.010015</td>\n",
       "      <td>0.057182</td>\n",
       "      <td>0.993942</td>\n",
       "      <td>0.679949</td>\n",
       "      <td>1.000000</td>\n",
       "      <td>0.209916</td>\n",
       "      <td>0.002563</td>\n",
       "      <td>-0.002381</td>\n",
       "      <td>-0.012945</td>\n",
       "      <td>0.003964</td>\n",
       "      <td>-0.000337</td>\n",
       "    </tr>\n",
       "    <tr>\n",
       "      <th>ProteinContent</th>\n",
       "      <td>0.419207</td>\n",
       "      <td>0.509980</td>\n",
       "      <td>0.473072</td>\n",
       "      <td>0.716085</td>\n",
       "      <td>0.152386</td>\n",
       "      <td>0.239052</td>\n",
       "      <td>0.292004</td>\n",
       "      <td>0.209916</td>\n",
       "      <td>1.000000</td>\n",
       "      <td>0.080487</td>\n",
       "      <td>0.017860</td>\n",
       "      <td>-0.009569</td>\n",
       "      <td>0.104047</td>\n",
       "      <td>0.156713</td>\n",
       "    </tr>\n",
       "    <tr>\n",
       "      <th>TotalTimeMinutes</th>\n",
       "      <td>0.020755</td>\n",
       "      <td>0.051990</td>\n",
       "      <td>0.047787</td>\n",
       "      <td>0.052531</td>\n",
       "      <td>0.032438</td>\n",
       "      <td>0.002380</td>\n",
       "      <td>0.014993</td>\n",
       "      <td>0.002563</td>\n",
       "      <td>0.080487</td>\n",
       "      <td>1.000000</td>\n",
       "      <td>0.046659</td>\n",
       "      <td>-0.028677</td>\n",
       "      <td>0.098486</td>\n",
       "      <td>0.088420</td>\n",
       "    </tr>\n",
       "    <tr>\n",
       "      <th>description_length</th>\n",
       "      <td>0.006841</td>\n",
       "      <td>0.026684</td>\n",
       "      <td>0.023852</td>\n",
       "      <td>0.022516</td>\n",
       "      <td>0.010735</td>\n",
       "      <td>-0.000439</td>\n",
       "      <td>0.011049</td>\n",
       "      <td>-0.002381</td>\n",
       "      <td>0.017860</td>\n",
       "      <td>0.046659</td>\n",
       "      <td>1.000000</td>\n",
       "      <td>-0.011737</td>\n",
       "      <td>0.113094</td>\n",
       "      <td>0.109893</td>\n",
       "    </tr>\n",
       "    <tr>\n",
       "      <th>average_rating</th>\n",
       "      <td>-0.016968</td>\n",
       "      <td>-0.008524</td>\n",
       "      <td>-0.007324</td>\n",
       "      <td>-0.008498</td>\n",
       "      <td>-0.008847</td>\n",
       "      <td>-0.015770</td>\n",
       "      <td>-0.010769</td>\n",
       "      <td>-0.012945</td>\n",
       "      <td>-0.009569</td>\n",
       "      <td>-0.028677</td>\n",
       "      <td>-0.011737</td>\n",
       "      <td>1.000000</td>\n",
       "      <td>-0.026017</td>\n",
       "      <td>-0.016264</td>\n",
       "    </tr>\n",
       "    <tr>\n",
       "      <th>Instruction_length</th>\n",
       "      <td>0.048697</td>\n",
       "      <td>0.124797</td>\n",
       "      <td>0.150769</td>\n",
       "      <td>0.153068</td>\n",
       "      <td>0.018560</td>\n",
       "      <td>0.013599</td>\n",
       "      <td>0.021727</td>\n",
       "      <td>0.003964</td>\n",
       "      <td>0.104047</td>\n",
       "      <td>0.098486</td>\n",
       "      <td>0.113094</td>\n",
       "      <td>-0.026017</td>\n",
       "      <td>1.000000</td>\n",
       "      <td>0.339991</td>\n",
       "    </tr>\n",
       "    <tr>\n",
       "      <th>ingredient_count</th>\n",
       "      <td>0.054740</td>\n",
       "      <td>0.124705</td>\n",
       "      <td>0.110952</td>\n",
       "      <td>0.133547</td>\n",
       "      <td>0.036094</td>\n",
       "      <td>0.016654</td>\n",
       "      <td>0.129688</td>\n",
       "      <td>-0.000337</td>\n",
       "      <td>0.156713</td>\n",
       "      <td>0.088420</td>\n",
       "      <td>0.109893</td>\n",
       "      <td>-0.016264</td>\n",
       "      <td>0.339991</td>\n",
       "      <td>1.000000</td>\n",
       "    </tr>\n",
       "  </tbody>\n",
       "</table>\n",
       "</div>"
      ],
      "text/plain": [
       "                     Calories  FatContent  SaturatedFatContent  \\\n",
       "Calories             1.000000    0.377126             0.307980   \n",
       "FatContent           0.377126    1.000000             0.857112   \n",
       "SaturatedFatContent  0.307980    0.857112             1.000000   \n",
       "CholesterolContent   0.205154    0.539067             0.609623   \n",
       "SodiumContent        0.102865    0.114504             0.105360   \n",
       "CarbohydrateContent  0.961026    0.118364             0.081363   \n",
       "FiberContent         0.720247    0.170298             0.132711   \n",
       "SugarContent         0.947572    0.094383             0.058483   \n",
       "ProteinContent       0.419207    0.509980             0.473072   \n",
       "TotalTimeMinutes     0.020755    0.051990             0.047787   \n",
       "description_length   0.006841    0.026684             0.023852   \n",
       "average_rating      -0.016968   -0.008524            -0.007324   \n",
       "Instruction_length   0.048697    0.124797             0.150769   \n",
       "ingredient_count     0.054740    0.124705             0.110952   \n",
       "\n",
       "                     CholesterolContent  SodiumContent  CarbohydrateContent  \\\n",
       "Calories                       0.205154       0.102865             0.961026   \n",
       "FatContent                     0.539067       0.114504             0.118364   \n",
       "SaturatedFatContent            0.609623       0.105360             0.081363   \n",
       "CholesterolContent             1.000000       0.103162             0.023485   \n",
       "SodiumContent                  0.103162       1.000000             0.069624   \n",
       "CarbohydrateContent            0.023485       0.069624             1.000000   \n",
       "FiberContent                   0.016121       0.085446             0.724070   \n",
       "SugarContent                   0.010015       0.057182             0.993942   \n",
       "ProteinContent                 0.716085       0.152386             0.239052   \n",
       "TotalTimeMinutes               0.052531       0.032438             0.002380   \n",
       "description_length             0.022516       0.010735            -0.000439   \n",
       "average_rating                -0.008498      -0.008847            -0.015770   \n",
       "Instruction_length             0.153068       0.018560             0.013599   \n",
       "ingredient_count               0.133547       0.036094             0.016654   \n",
       "\n",
       "                     FiberContent  SugarContent  ProteinContent  \\\n",
       "Calories                 0.720247      0.947572        0.419207   \n",
       "FatContent               0.170298      0.094383        0.509980   \n",
       "SaturatedFatContent      0.132711      0.058483        0.473072   \n",
       "CholesterolContent       0.016121      0.010015        0.716085   \n",
       "SodiumContent            0.085446      0.057182        0.152386   \n",
       "CarbohydrateContent      0.724070      0.993942        0.239052   \n",
       "FiberContent             1.000000      0.679949        0.292004   \n",
       "SugarContent             0.679949      1.000000        0.209916   \n",
       "ProteinContent           0.292004      0.209916        1.000000   \n",
       "TotalTimeMinutes         0.014993      0.002563        0.080487   \n",
       "description_length       0.011049     -0.002381        0.017860   \n",
       "average_rating          -0.010769     -0.012945       -0.009569   \n",
       "Instruction_length       0.021727      0.003964        0.104047   \n",
       "ingredient_count         0.129688     -0.000337        0.156713   \n",
       "\n",
       "                     TotalTimeMinutes  description_length  average_rating  \\\n",
       "Calories                     0.020755            0.006841       -0.016968   \n",
       "FatContent                   0.051990            0.026684       -0.008524   \n",
       "SaturatedFatContent          0.047787            0.023852       -0.007324   \n",
       "CholesterolContent           0.052531            0.022516       -0.008498   \n",
       "SodiumContent                0.032438            0.010735       -0.008847   \n",
       "CarbohydrateContent          0.002380           -0.000439       -0.015770   \n",
       "FiberContent                 0.014993            0.011049       -0.010769   \n",
       "SugarContent                 0.002563           -0.002381       -0.012945   \n",
       "ProteinContent               0.080487            0.017860       -0.009569   \n",
       "TotalTimeMinutes             1.000000            0.046659       -0.028677   \n",
       "description_length           0.046659            1.000000       -0.011737   \n",
       "average_rating              -0.028677           -0.011737        1.000000   \n",
       "Instruction_length           0.098486            0.113094       -0.026017   \n",
       "ingredient_count             0.088420            0.109893       -0.016264   \n",
       "\n",
       "                     Instruction_length  ingredient_count  \n",
       "Calories                       0.048697          0.054740  \n",
       "FatContent                     0.124797          0.124705  \n",
       "SaturatedFatContent            0.150769          0.110952  \n",
       "CholesterolContent             0.153068          0.133547  \n",
       "SodiumContent                  0.018560          0.036094  \n",
       "CarbohydrateContent            0.013599          0.016654  \n",
       "FiberContent                   0.021727          0.129688  \n",
       "SugarContent                   0.003964         -0.000337  \n",
       "ProteinContent                 0.104047          0.156713  \n",
       "TotalTimeMinutes               0.098486          0.088420  \n",
       "description_length             0.113094          0.109893  \n",
       "average_rating                -0.026017         -0.016264  \n",
       "Instruction_length             1.000000          0.339991  \n",
       "ingredient_count               0.339991          1.000000  "
      ]
     },
     "execution_count": 34,
     "metadata": {},
     "output_type": "execute_result"
    }
   ],
   "source": [
    "correlation_matrix"
   ]
  },
  {
   "cell_type": "markdown",
   "id": "a66c268a-a067-452f-84b0-a205f3f74597",
   "metadata": {},
   "source": [
    "there is no correlation with any of the features and the average ratings"
   ]
  },
  {
   "cell_type": "markdown",
   "id": "622a8c04-0beb-47a6-bab0-c1728556796b",
   "metadata": {},
   "source": [
    "B- Is there a correlation between nutrient composition and calories? investigation of correlation significance and and p-values estimation "
   ]
  },
  {
   "cell_type": "markdown",
   "id": "6eec312e-a47b-414d-a819-6e39d27c97ed",
   "metadata": {},
   "source": [
    "From previous correlation matrix we observed that:\n",
    "- Calories are more corellated to sugar contents than Fat content\n",
    "- calories are more related to protein and fiber than fat "
   ]
  },
  {
   "cell_type": "code",
   "execution_count": 15,
   "id": "fd15866f-0cfa-4197-81a8-90f4c95d1f82",
   "metadata": {},
   "outputs": [
    {
     "name": "stderr",
     "output_type": "stream",
     "text": [
      "/var/folders/dt/t3ds7b0j66d_kpdgqfq1qtcm0000gn/T/ipykernel_51540/2589017498.py:2: SettingWithCopyWarning: \n",
      "A value is trying to be set on a copy of a slice from a DataFrame.\n",
      "Try using .loc[row_indexer,col_indexer] = value instead\n",
      "\n",
      "See the caveats in the documentation: https://pandas.pydata.org/pandas-docs/stable/user_guide/indexing.html#returning-a-view-versus-a-copy\n",
      "  df_singlet['sugar'] = df_singlet['SugarContent'] + df_singlet['CarbohydrateContent']\n",
      "/var/folders/dt/t3ds7b0j66d_kpdgqfq1qtcm0000gn/T/ipykernel_51540/2589017498.py:3: SettingWithCopyWarning: \n",
      "A value is trying to be set on a copy of a slice from a DataFrame.\n",
      "Try using .loc[row_indexer,col_indexer] = value instead\n",
      "\n",
      "See the caveats in the documentation: https://pandas.pydata.org/pandas-docs/stable/user_guide/indexing.html#returning-a-view-versus-a-copy\n",
      "  df_singlet['fat'] = df_singlet['FatContent'] + df_singlet['SaturatedFatContent'] + df_singlet['CholesterolContent']\n"
     ]
    }
   ],
   "source": [
    "#simplify the datas by adding the different fat contents features together and same for the sugar contents features.\n",
    "df_singlet['sugar'] = df_singlet['SugarContent'] + df_singlet['CarbohydrateContent']\n",
    "df_singlet['fat'] = df_singlet['FatContent'] + df_singlet['SaturatedFatContent'] + df_singlet['CholesterolContent']"
   ]
  },
  {
   "cell_type": "code",
   "execution_count": 16,
   "id": "7ac657b5-0b21-4866-adac-8de92b047e07",
   "metadata": {},
   "outputs": [
    {
     "data": {
      "text/html": [
       "<div>\n",
       "<style scoped>\n",
       "    .dataframe tbody tr th:only-of-type {\n",
       "        vertical-align: middle;\n",
       "    }\n",
       "\n",
       "    .dataframe tbody tr th {\n",
       "        vertical-align: top;\n",
       "    }\n",
       "\n",
       "    .dataframe thead th {\n",
       "        text-align: right;\n",
       "    }\n",
       "</style>\n",
       "<table border=\"1\" class=\"dataframe\">\n",
       "  <thead>\n",
       "    <tr style=\"text-align: right;\">\n",
       "      <th></th>\n",
       "      <th>sugar</th>\n",
       "      <th>fat</th>\n",
       "      <th>SodiumContent</th>\n",
       "      <th>FiberContent</th>\n",
       "      <th>ProteinContent</th>\n",
       "      <th>Calories</th>\n",
       "    </tr>\n",
       "  </thead>\n",
       "  <tbody>\n",
       "    <tr>\n",
       "      <th>0</th>\n",
       "      <td>67.3</td>\n",
       "      <td>11.8</td>\n",
       "      <td>29.8</td>\n",
       "      <td>3.6</td>\n",
       "      <td>3.2</td>\n",
       "      <td>170.9</td>\n",
       "    </tr>\n",
       "    <tr>\n",
       "      <th>4</th>\n",
       "      <td>104.8</td>\n",
       "      <td>448.2</td>\n",
       "      <td>368.4</td>\n",
       "      <td>9.0</td>\n",
       "      <td>63.4</td>\n",
       "      <td>1110.7</td>\n",
       "    </tr>\n",
       "    <tr>\n",
       "      <th>5</th>\n",
       "      <td>158.7</td>\n",
       "      <td>0.2</td>\n",
       "      <td>1.8</td>\n",
       "      <td>0.4</td>\n",
       "      <td>0.3</td>\n",
       "      <td>311.1</td>\n",
       "    </tr>\n",
       "    <tr>\n",
       "      <th>14</th>\n",
       "      <td>96.3</td>\n",
       "      <td>27.8</td>\n",
       "      <td>1558.6</td>\n",
       "      <td>17.3</td>\n",
       "      <td>29.3</td>\n",
       "      <td>536.1</td>\n",
       "    </tr>\n",
       "    <tr>\n",
       "      <th>16</th>\n",
       "      <td>42.8</td>\n",
       "      <td>0.5</td>\n",
       "      <td>959.3</td>\n",
       "      <td>4.8</td>\n",
       "      <td>4.3</td>\n",
       "      <td>103.6</td>\n",
       "    </tr>\n",
       "  </tbody>\n",
       "</table>\n",
       "</div>"
      ],
      "text/plain": [
       "    sugar    fat  SodiumContent  FiberContent  ProteinContent  Calories\n",
       "0    67.3   11.8           29.8           3.6             3.2     170.9\n",
       "4   104.8  448.2          368.4           9.0            63.4    1110.7\n",
       "5   158.7    0.2            1.8           0.4             0.3     311.1\n",
       "14   96.3   27.8         1558.6          17.3            29.3     536.1\n",
       "16   42.8    0.5          959.3           4.8             4.3     103.6"
      ]
     },
     "execution_count": 16,
     "metadata": {},
     "output_type": "execute_result"
    }
   ],
   "source": [
    "#dataframe for correlation analysis\n",
    "df_corr = df_singlet[['sugar', 'fat', 'SodiumContent', 'FiberContent', 'ProteinContent', 'Calories']]\n",
    "df_corr.head()"
   ]
  },
  {
   "cell_type": "code",
   "execution_count": 17,
   "id": "f674f07b-a808-4424-8895-66164b36ea3c",
   "metadata": {
    "scrolled": true
   },
   "outputs": [
    {
     "data": {
      "text/plain": [
       "<Axes: >"
      ]
     },
     "execution_count": 17,
     "metadata": {},
     "output_type": "execute_result"
    },
    {
     "data": {
      "image/png": "[encoded data removed]",
      "text/plain": [
       "<Figure size 640x480 with 2 Axes>"
      ]
     },
     "metadata": {},
     "output_type": "display_data"
    }
   ],
   "source": [
    "\n",
    "\n",
    "# look at the correlation matrix with the newly generated data \n",
    "correlation_matrix2 = df_corr.corr()\n",
    "\n",
    "sns.heatmap(correlation_matrix2)"
   ]
  },
  {
   "cell_type": "markdown",
   "id": "e5a45ffb-a4bf-41d3-89e2-4c676b7f50ed",
   "metadata": {},
   "source": [
    "Results: We see the different level of correlation with calories. The order from less corelated to most corrleated sodium<fat<protein<fiber<sugar. \n",
    "As expected Sugar contents is the more correlated to calories than the other nutrients.\n"
   ]
  },
  {
   "cell_type": "markdown",
   "id": "286fe927-0d0d-45ea-a7e3-97cb0d5d4c20",
   "metadata": {},
   "source": [
    "C- Statistical analysis:\n",
    "\n",
    "- Investigating the distribution of the target features\n"
   ]
  },
  {
   "cell_type": "code",
   "execution_count": 20,
   "id": "3d0b2275-a9f7-4924-b860-6bc515e7f693",
   "metadata": {},
   "outputs": [
    {
     "data": {
      "image/png": "[encoded data removed]",
      "text/plain": [
       "<Figure size 1600x500 with 6 Axes>"
      ]
     },
     "metadata": {},
     "output_type": "display_data"
    }
   ],
   "source": [
    "# Define percentiles to clip extreme values\n",
    "lower_percentile = 1\n",
    "upper_percentile = 99\n",
    "\n",
    "df_test = df_corr.copy()\n",
    "for column in df_corr.columns:\n",
    "    lower_bound = df_corr[column].quantile(lower_percentile / 100)\n",
    "    upper_bound = df_corr[column].quantile(upper_percentile / 100)\n",
    "    df_test[column] = df_corr[column].clip(lower_bound, upper_bound)  # Clip extreme values\n",
    "\n",
    "# Plot histograms with filtered data\n",
    "num_columns = df_test.shape[1]\n",
    "fig, axes = plt.subplots(nrows=1, ncols=num_columns, figsize=(16, 5), constrained_layout=True)\n",
    "\n",
    "for i, column in enumerate(df_test.columns):\n",
    "    axes[i].hist(df_test[column], bins=50, edgecolor='black')  # Reduce bins for better visibility\n",
    "    axes[i].set_title(f'Histogram of {column}')\n",
    "    axes[i].set_xlabel(column)\n",
    "    axes[i].set_ylabel('Frequency')\n",
    "\n",
    "plt.show()\n"
   ]
  },
  {
   "cell_type": "code",
   "execution_count": 73,
   "id": "fb4fef0c-5373-4941-a42e-8fe24dee0af2",
   "metadata": {},
   "outputs": [
    {
     "data": {
      "text/html": [
       "<div>\n",
       "<style scoped>\n",
       "    .dataframe tbody tr th:only-of-type {\n",
       "        vertical-align: middle;\n",
       "    }\n",
       "\n",
       "    .dataframe tbody tr th {\n",
       "        vertical-align: top;\n",
       "    }\n",
       "\n",
       "    .dataframe thead th {\n",
       "        text-align: right;\n",
       "    }\n",
       "</style>\n",
       "<table border=\"1\" class=\"dataframe\">\n",
       "  <thead>\n",
       "    <tr style=\"text-align: right;\">\n",
       "      <th></th>\n",
       "      <th>sugar</th>\n",
       "      <th>fat</th>\n",
       "      <th>SodiumContent</th>\n",
       "      <th>FiberContent</th>\n",
       "      <th>ProteinContent</th>\n",
       "      <th>Calories</th>\n",
       "    </tr>\n",
       "  </thead>\n",
       "  <tbody>\n",
       "    <tr>\n",
       "      <th>count</th>\n",
       "      <td>172299.000000</td>\n",
       "      <td>172299.000000</td>\n",
       "      <td>172299.000000</td>\n",
       "      <td>172299.000000</td>\n",
       "      <td>172299.000000</td>\n",
       "      <td>172299.000000</td>\n",
       "    </tr>\n",
       "    <tr>\n",
       "      <th>mean</th>\n",
       "      <td>46.170408</td>\n",
       "      <td>94.075912</td>\n",
       "      <td>562.658015</td>\n",
       "      <td>3.046739</td>\n",
       "      <td>15.738497</td>\n",
       "      <td>356.275816</td>\n",
       "    </tr>\n",
       "    <tr>\n",
       "      <th>std</th>\n",
       "      <td>483.859338</td>\n",
       "      <td>132.558717</td>\n",
       "      <td>2706.561130</td>\n",
       "      <td>6.284793</td>\n",
       "      <td>22.402146</td>\n",
       "      <td>1118.094465</td>\n",
       "    </tr>\n",
       "    <tr>\n",
       "      <th>min</th>\n",
       "      <td>0.000000</td>\n",
       "      <td>0.000000</td>\n",
       "      <td>0.000000</td>\n",
       "      <td>0.000000</td>\n",
       "      <td>0.000000</td>\n",
       "      <td>0.000000</td>\n",
       "    </tr>\n",
       "    <tr>\n",
       "      <th>25%</th>\n",
       "      <td>15.900000</td>\n",
       "      <td>16.400000</td>\n",
       "      <td>122.000000</td>\n",
       "      <td>0.800000</td>\n",
       "      <td>3.400000</td>\n",
       "      <td>165.000000</td>\n",
       "    </tr>\n",
       "    <tr>\n",
       "      <th>50%</th>\n",
       "      <td>33.500000</td>\n",
       "      <td>62.100000</td>\n",
       "      <td>324.900000</td>\n",
       "      <td>2.000000</td>\n",
       "      <td>8.800000</td>\n",
       "      <td>285.400000</td>\n",
       "    </tr>\n",
       "    <tr>\n",
       "      <th>75%</th>\n",
       "      <td>57.800000</td>\n",
       "      <td>129.300000</td>\n",
       "      <td>685.550000</td>\n",
       "      <td>3.900000</td>\n",
       "      <td>24.300000</td>\n",
       "      <td>448.100000</td>\n",
       "    </tr>\n",
       "    <tr>\n",
       "      <th>max</th>\n",
       "      <td>198976.900000</td>\n",
       "      <td>15622.500000</td>\n",
       "      <td>704129.600000</td>\n",
       "      <td>1748.600000</td>\n",
       "      <td>3270.300000</td>\n",
       "      <td>434360.200000</td>\n",
       "    </tr>\n",
       "  </tbody>\n",
       "</table>\n",
       "</div>"
      ],
      "text/plain": [
       "               sugar            fat  SodiumContent   FiberContent  \\\n",
       "count  172299.000000  172299.000000  172299.000000  172299.000000   \n",
       "mean       46.170408      94.075912     562.658015       3.046739   \n",
       "std       483.859338     132.558717    2706.561130       6.284793   \n",
       "min         0.000000       0.000000       0.000000       0.000000   \n",
       "25%        15.900000      16.400000     122.000000       0.800000   \n",
       "50%        33.500000      62.100000     324.900000       2.000000   \n",
       "75%        57.800000     129.300000     685.550000       3.900000   \n",
       "max    198976.900000   15622.500000  704129.600000    1748.600000   \n",
       "\n",
       "       ProteinContent       Calories  \n",
       "count   172299.000000  172299.000000  \n",
       "mean        15.738497     356.275816  \n",
       "std         22.402146    1118.094465  \n",
       "min          0.000000       0.000000  \n",
       "25%          3.400000     165.000000  \n",
       "50%          8.800000     285.400000  \n",
       "75%         24.300000     448.100000  \n",
       "max       3270.300000  434360.200000  "
      ]
     },
     "execution_count": 73,
     "metadata": {},
     "output_type": "execute_result"
    }
   ],
   "source": [
    "df_corr.describe() "
   ]
  },
  {
   "cell_type": "markdown",
   "id": "49d6706e-e663-4994-8150-0b86613cf66e",
   "metadata": {},
   "source": [
    "The data distribution could suggest a poisson distribution but the variance is much larger than the mean. (for a poisson distribution the std should be the square root of the mean). This suggests that the data may be modeled by Negative Binomial distribution, which can account for greater variance relative to the mean. "
   ]
  },
  {
   "cell_type": "markdown",
   "id": "2447af4d-f886-45bf-b126-b70f77655853",
   "metadata": {},
   "source": [
    "- Next, we aim to investigate the significance of the Pearson correlation coefficient between nutrient content features and calorie values using a permutation-based strategy. The null hypothesis (H0​) states that there is no difference between the Pearson correlation coefficients obtained from the permuted data and the real data. To test this hypothesis, we will compute p-values based on the appropriate statistical test, assuming the z-score values follow a normal distribution under the null hypothesis."
   ]
  },
  {
   "cell_type": "code",
   "execution_count": 39,
   "id": "05da6456-e6c2-40ea-8b9b-a22eca41a817",
   "metadata": {},
   "outputs": [],
   "source": [
    "from scipy.stats import pearsonr\n",
    "\n",
    "\n",
    "#function that will generate pearson correlation coefficients between each columns of the dataframe\n",
    "def calculate_pearson_for_dataframe(df):\n",
    "    results = {}\n",
    "    \n",
    "    # Iterate over each combination of columns\n",
    "    for col1 in df.columns:\n",
    "        for col2 in df.columns:\n",
    "            if col1 != col2:  \n",
    "                r_value, p_value = pearsonr(df[col1], df[col2])\n",
    "                results[(col1, col2)] = (r_value, p_value)\n",
    "                \n",
    "    correlation_coefficients = {key: value[0] for key, value in results.items()}\n",
    "    \n",
    "    return correlation_coefficients\n"
   ]
  },
  {
   "cell_type": "code",
   "execution_count": 40,
   "id": "80124ad7-9bed-4aad-900b-effde212e299",
   "metadata": {},
   "outputs": [],
   "source": [
    "#permute the values in each column of the data frame\n",
    "permuted_df = pd.DataFrame()\n",
    "for column in df_corr.columns:\n",
    "    permuted_df[column] = np.random.permutation(df_corr[column].values)\n"
   ]
  },
  {
   "cell_type": "code",
   "execution_count": 41,
   "id": "5d0492ae-eabf-4e6c-91a7-0f3b697f4fc1",
   "metadata": {},
   "outputs": [
    {
     "data": {
      "text/plain": [
       "{('Calories', 'sugar'): 0.9563510447900588,\n",
       " ('Calories', 'fat'): 0.2714854526744435,\n",
       " ('Calories', 'SodiumContent'): 0.10286483017878319,\n",
       " ('Calories', 'FiberContent'): 0.7202473849377652,\n",
       " ('Calories', 'ProteinContent'): 0.4192066875146333}"
      ]
     },
     "execution_count": 41,
     "metadata": {},
     "output_type": "execute_result"
    }
   ],
   "source": [
    "#pass the function to the dataframe used for the correlation matrix (real data)\n",
    "pearson_real = calculate_pearson_for_dataframe(df_corr)\n",
    "\n",
    "#print pearson correlation coeffs for different nutrient features vs Calories\n",
    "calories_corr_real = {key: value for key, value in pearson_real.items() if key[0] == 'Calories'}\n",
    "calories_corr_real"
   ]
  },
  {
   "cell_type": "code",
   "execution_count": 42,
   "id": "d7031469-1c94-4acb-8512-7f7084dfa476",
   "metadata": {},
   "outputs": [
    {
     "data": {
      "text/plain": [
       "{('Calories', 'sugar'): 0.00023642054418178396,\n",
       " ('Calories', 'fat'): 0.00022065468454056424,\n",
       " ('Calories', 'SodiumContent'): 0.00048768554325993245,\n",
       " ('Calories', 'FiberContent'): -0.0016304634565452907,\n",
       " ('Calories', 'ProteinContent'): -0.001007454879564484}"
      ]
     },
     "execution_count": 42,
     "metadata": {},
     "output_type": "execute_result"
    }
   ],
   "source": [
    "#pass the function to the dataframe with permuted values and print the coefficients\n",
    "pearson_perm = calculate_pearson_for_dataframe(permuted_df)\n",
    "calories_corr_perm = {key: value for key, value in pearson_perm.items() if key[0] == 'Calories'}\n",
    "calories_corr_perm"
   ]
  },
  {
   "cell_type": "code",
   "execution_count": 43,
   "id": "d8f479d8-6cf7-4b37-b702-e4373cf75121",
   "metadata": {},
   "outputs": [],
   "source": [
    "#function for applying Fisher's Z-transformation to Pearson correlation coefficient to to transform correlation coefficients so that they can be treated as normally distributed values\n",
    "def fisher_z(r):\n",
    "    return 0.5 * np.log((1 + r) / (1 - r))\n",
    "    \n",
    "#Calculate Z-score for the difference between two Fisher Z-transformed correlations\n",
    "def z_score_diff_fisher(r1, r2, n):\n",
    "    z1 = fisher_z(r1)\n",
    "    z2 = fisher_z(r2)\n",
    "    # Standard error (assuming same n for both datasets)\n",
    "    se = np.sqrt(2 / (n - 3))\n",
    "    # Z-score for the difference\n",
    "    return (z1 - z2) / se\n",
    "\n",
    "#Convert Z-score to a two-tailed p-value. H0 hypothesis is z1 - z2 = 0 (e.g. there is no differences between z-scores calculated from real data and z-scores from permutated data)\n",
    "def calculate_p_value(z):\n",
    "    return 2 * (1 - norm.cdf(abs(z)))"
   ]
  },
  {
   "cell_type": "code",
   "execution_count": 44,
   "id": "816028a4-ea4f-41e9-9862-a02a9f5753bf",
   "metadata": {},
   "outputs": [
    {
     "data": {
      "text/plain": [
       "{('Calories', 'sugar'): 557.9891412540596,\n",
       " ('Calories', 'fat'): 81.66796175926248,\n",
       " ('Calories', 'SodiumContent'): 30.15586432700439,\n",
       " ('Calories', 'FiberContent'): 267.03207464059585,\n",
       " ('Calories', 'ProteinContent'): 131.41509034070486}"
      ]
     },
     "execution_count": 44,
     "metadata": {},
     "output_type": "execute_result"
    }
   ],
   "source": [
    "#calculate z-score difference for each sets of real z-score and permutated z-score\n",
    "z_all = {}\n",
    "for key1, value1 in calories_corr_real.items():\n",
    "    if key1 in calories_corr_perm:\n",
    "        value2 = calories_corr_perm[key1]\n",
    "        z = z_score_diff_fisher(value1, value2, len(df_corr))\n",
    "        z_all[key1] = z\n",
    "z_all"
   ]
  },
  {
   "cell_type": "code",
   "execution_count": 45,
   "id": "bd210844-b754-4d6e-b82a-e9883b9bed8f",
   "metadata": {},
   "outputs": [
    {
     "data": {
      "text/plain": [
       "{('Calories', 'sugar'): 0.0,\n",
       " ('Calories', 'fat'): 0.0,\n",
       " ('Calories', 'SodiumContent'): 0.0,\n",
       " ('Calories', 'FiberContent'): 0.0,\n",
       " ('Calories', 'ProteinContent'): 0.0}"
      ]
     },
     "execution_count": 45,
     "metadata": {},
     "output_type": "execute_result"
    }
   ],
   "source": [
    "#calculate p-value. \n",
    "p_values ={}\n",
    "for key, value in z_all.items():\n",
    "    p = calculate_p_value(value)\n",
    "    p_values[key]= p\n",
    "\n",
    "p_values"
   ]
  },
  {
   "cell_type": "markdown",
   "id": "1a9bb3bc-0db1-4875-b29e-5593fe869481",
   "metadata": {},
   "source": [
    "The p-values for the differences between the Pearson correlations from the real data and the permuted data are very small. This suggests that even small correlation values observed in the real data are statistically significant and unlikely to be due to random chance."
   ]
  },
  {
   "cell_type": "code",
   "execution_count": null,
   "id": "c0865057-f172-4843-b55c-90b4e72dd008",
   "metadata": {},
   "outputs": [],
   "source": []
  },
  {
   "cell_type": "markdown",
   "id": "c18b8e10-a5a5-4124-87f0-209e8f04cac9",
   "metadata": {},
   "source": [
    "- Then, we will invesgate the significance of the pearson correlation differences between the features. We previousely noted that sugar is more correlated to calories than fiber> protein > fat > sodium. We want to test if those differences are significant.  We will consider Null hypothesis H0 as no differences between pearson correlation coefficient and we will compute z-score and p-values based on a normal distribution of the z-score."
   ]
  },
  {
   "cell_type": "code",
   "execution_count": 46,
   "id": "e4bcb7ee-f5e8-47ed-bbe5-52463e29a995",
   "metadata": {},
   "outputs": [
    {
     "data": {
      "text/plain": [
       "{(('Calories', 'sugar'), ('Calories', 'fat')): 0.0,\n",
       " (('Calories', 'sugar'), ('Calories', 'SodiumContent')): 0.0,\n",
       " (('Calories', 'sugar'), ('Calories', 'FiberContent')): 0.0,\n",
       " (('Calories', 'sugar'), ('Calories', 'ProteinContent')): 0.0,\n",
       " (('Calories', 'fat'), ('Calories', 'SodiumContent')): 0.0,\n",
       " (('Calories', 'fat'), ('Calories', 'FiberContent')): 0.0,\n",
       " (('Calories', 'fat'), ('Calories', 'ProteinContent')): 0.0,\n",
       " (('Calories', 'SodiumContent'), ('Calories', 'FiberContent')): 0.0,\n",
       " (('Calories', 'SodiumContent'), ('Calories', 'ProteinContent')): 0.0,\n",
       " (('Calories', 'FiberContent'), ('Calories', 'ProteinContent')): 0.0}"
      ]
     },
     "execution_count": 46,
     "metadata": {},
     "output_type": "execute_result"
    }
   ],
   "source": [
    "#calculate p-values for the differences between z-score for pearson correlation to calories for the different features.\n",
    "#H0 hypothesis is z1 - z2 = 0 (e.g. there is no differences between z-scores calculated from feature1 and z-scores from feature2)  \n",
    "\n",
    "p_values = {}\n",
    "features = list(z_all.keys())\n",
    "\n",
    "for i in range(len(features)):\n",
    "        for j in range(i + 1, len(features)):\n",
    "            f1 = features[i]\n",
    "            f2 = features[j]\n",
    "            z1 = z_all[f1]\n",
    "            z2 = z_all[f2]\n",
    "            se = np.sqrt(2 / (len(features) - 3))\n",
    "            z_diff = (z1 - z2) / se\n",
    "            p_value = 2 * (1 - norm.cdf(abs(z_diff)))  # two-tailed test\n",
    "            p_values[(f1, f2)] = p_value\n",
    "            \n",
    "\n",
    "p_values\n"
   ]
  },
  {
   "cell_type": "markdown",
   "id": "f1072c99-0d4b-40c6-9215-cac04400a299",
   "metadata": {},
   "source": [
    "The very small p-values indicate that the differences in Pearson correlations between each feature and calories are statistically significant. This confirms that recipes with higher sugar and fiber content typically have more calories compared to those rich in protein or fat.\n"
   ]
  },
  {
   "cell_type": "markdown",
   "id": "97dbfee8-cafd-45ed-be49-6970ac5887d6",
   "metadata": {},
   "source": [
    "**II-  Clustering recepes accoding to ingredients**\n",
    "\n",
    "None of the features were correlated to the average ratings, we will not be able to generate a regression model based on numerical features.\n",
    "\n",
    "We chose to implement a clustering approach based on the ingredients and combine it with a regression model to predict recipe ratings. This approach will also allow us to recommend recipes to reviewers based on the ingredients they prefer."
   ]
  },
  {
   "cell_type": "markdown",
   "id": "64384935-d1aa-47ae-acf5-2051568d3d09",
   "metadata": {},
   "source": [
    "- Step 1: homogenize ingrediant names using the pyfood library (not perfect approach but the most simple)\n"
   ]
  },
  {
   "cell_type": "code",
   "execution_count": 50,
   "id": "6cf1c634-b6b8-485c-a430-35d4526ebff6",
   "metadata": {},
   "outputs": [
    {
     "data": {
      "text/plain": [
       "Index(['RecipeId', 'AuthorId_recipe', 'DatePublished', 'RecipeCategory',\n",
       "       'Keywords', 'RecipeIngredientQuantities', 'RecipeIngredientParts',\n",
       "       'Calories', 'FatContent', 'SaturatedFatContent', 'CholesterolContent',\n",
       "       'SodiumContent', 'CarbohydrateContent', 'FiberContent', 'SugarContent',\n",
       "       'ProteinContent', 'RecipeServings', 'RecipeInstructions',\n",
       "       'TotalTimeMinutes', 'description_length', 'ReviewId', 'AuthorId_review',\n",
       "       'AuthorName_review', 'Rating', 'Review', 'average_rating',\n",
       "       'rating_count', 'Review_length', 'Instruction_length',\n",
       "       'ingredient_count', 'sugar', 'fat'],\n",
       "      dtype='object')"
      ]
     },
     "execution_count": 50,
     "metadata": {},
     "output_type": "execute_result"
    }
   ],
   "source": [
    "df_singlet.columns"
   ]
  },
  {
   "cell_type": "code",
   "execution_count": 98,
   "id": "1beeb42a-aee0-4561-88c2-3e646e27e043",
   "metadata": {},
   "outputs": [],
   "source": [
    "#keep only the useful feature\n",
    "df_singlet_ingredients = df_singlet[['RecipeId', 'RecipeIngredientParts']]"
   ]
  },
  {
   "cell_type": "code",
   "execution_count": 99,
   "id": "d9c0ce4f-7e3b-4030-b130-39f3df9580e9",
   "metadata": {},
   "outputs": [
    {
     "data": {
      "text/html": [
       "<div>\n",
       "<style scoped>\n",
       "    .dataframe tbody tr th:only-of-type {\n",
       "        vertical-align: middle;\n",
       "    }\n",
       "\n",
       "    .dataframe tbody tr th {\n",
       "        vertical-align: top;\n",
       "    }\n",
       "\n",
       "    .dataframe thead th {\n",
       "        text-align: right;\n",
       "    }\n",
       "</style>\n",
       "<table border=\"1\" class=\"dataframe\">\n",
       "  <thead>\n",
       "    <tr style=\"text-align: right;\">\n",
       "      <th></th>\n",
       "      <th>RecipeId</th>\n",
       "      <th>RecipeIngredientParts</th>\n",
       "    </tr>\n",
       "  </thead>\n",
       "  <tbody>\n",
       "    <tr>\n",
       "      <th>0</th>\n",
       "      <td>38.0</td>\n",
       "      <td>(blueberries, granulated sugar, vanilla yogurt...</td>\n",
       "    </tr>\n",
       "    <tr>\n",
       "      <th>4</th>\n",
       "      <td>39.0</td>\n",
       "      <td>(saffron, milk, hot green chili peppers, onion...</td>\n",
       "    </tr>\n",
       "    <tr>\n",
       "      <th>5</th>\n",
       "      <td>40.0</td>\n",
       "      <td>(sugar, lemons, rind of, lemon, zest of, fresh...</td>\n",
       "    </tr>\n",
       "    <tr>\n",
       "      <th>14</th>\n",
       "      <td>41.0</td>\n",
       "      <td>(extra firm tofu, eggplant, zucchini, mushroom...</td>\n",
       "    </tr>\n",
       "    <tr>\n",
       "      <th>16</th>\n",
       "      <td>42.0</td>\n",
       "      <td>(plain tomato juice, cabbage, onion, carrots, ...</td>\n",
       "    </tr>\n",
       "  </tbody>\n",
       "</table>\n",
       "</div>"
      ],
      "text/plain": [
       "    RecipeId                              RecipeIngredientParts\n",
       "0       38.0  (blueberries, granulated sugar, vanilla yogurt...\n",
       "4       39.0  (saffron, milk, hot green chili peppers, onion...\n",
       "5       40.0  (sugar, lemons, rind of, lemon, zest of, fresh...\n",
       "14      41.0  (extra firm tofu, eggplant, zucchini, mushroom...\n",
       "16      42.0  (plain tomato juice, cabbage, onion, carrots, ..."
      ]
     },
     "execution_count": 99,
     "metadata": {},
     "output_type": "execute_result"
    }
   ],
   "source": [
    "df_singlet_ingredients.head()"
   ]
  },
  {
   "cell_type": "code",
   "execution_count": 100,
   "id": "d012ca5d-53ed-464b-b1b3-8eb89da3c32b",
   "metadata": {},
   "outputs": [
    {
     "name": "stderr",
     "output_type": "stream",
     "text": [
      "/var/folders/dt/t3ds7b0j66d_kpdgqfq1qtcm0000gn/T/ipykernel_35942/3467892409.py:2: SettingWithCopyWarning: \n",
      "A value is trying to be set on a copy of a slice from a DataFrame.\n",
      "Try using .loc[row_indexer,col_indexer] = value instead\n",
      "\n",
      "See the caveats in the documentation: https://pandas.pydata.org/pandas-docs/stable/user_guide/indexing.html#returning-a-view-versus-a-copy\n",
      "  df_singlet_ingredients['ProcessedIngredients'] = df_singlet_ingredients['RecipeIngredientParts'].apply(list)\n"
     ]
    },
    {
     "data": {
      "text/html": [
       "<div>\n",
       "<style scoped>\n",
       "    .dataframe tbody tr th:only-of-type {\n",
       "        vertical-align: middle;\n",
       "    }\n",
       "\n",
       "    .dataframe tbody tr th {\n",
       "        vertical-align: top;\n",
       "    }\n",
       "\n",
       "    .dataframe thead th {\n",
       "        text-align: right;\n",
       "    }\n",
       "</style>\n",
       "<table border=\"1\" class=\"dataframe\">\n",
       "  <thead>\n",
       "    <tr style=\"text-align: right;\">\n",
       "      <th></th>\n",
       "      <th>RecipeId</th>\n",
       "      <th>RecipeIngredientParts</th>\n",
       "      <th>ProcessedIngredients</th>\n",
       "    </tr>\n",
       "  </thead>\n",
       "  <tbody>\n",
       "    <tr>\n",
       "      <th>0</th>\n",
       "      <td>38.0</td>\n",
       "      <td>(blueberries, granulated sugar, vanilla yogurt...</td>\n",
       "      <td>[blueberries, granulated sugar, vanilla yogurt...</td>\n",
       "    </tr>\n",
       "    <tr>\n",
       "      <th>4</th>\n",
       "      <td>39.0</td>\n",
       "      <td>(saffron, milk, hot green chili peppers, onion...</td>\n",
       "      <td>[saffron, milk, hot green chili peppers, onion...</td>\n",
       "    </tr>\n",
       "    <tr>\n",
       "      <th>5</th>\n",
       "      <td>40.0</td>\n",
       "      <td>(sugar, lemons, rind of, lemon, zest of, fresh...</td>\n",
       "      <td>[sugar, lemons, rind of, lemon, zest of, fresh...</td>\n",
       "    </tr>\n",
       "    <tr>\n",
       "      <th>14</th>\n",
       "      <td>41.0</td>\n",
       "      <td>(extra firm tofu, eggplant, zucchini, mushroom...</td>\n",
       "      <td>[extra firm tofu, eggplant, zucchini, mushroom...</td>\n",
       "    </tr>\n",
       "    <tr>\n",
       "      <th>16</th>\n",
       "      <td>42.0</td>\n",
       "      <td>(plain tomato juice, cabbage, onion, carrots, ...</td>\n",
       "      <td>[plain tomato juice, cabbage, onion, carrots, ...</td>\n",
       "    </tr>\n",
       "    <tr>\n",
       "      <th>...</th>\n",
       "      <td>...</td>\n",
       "      <td>...</td>\n",
       "      <td>...</td>\n",
       "    </tr>\n",
       "    <tr>\n",
       "      <th>864117</th>\n",
       "      <td>540717.0</td>\n",
       "      <td>(grapefruit juice, fresh lime juice, honey syr...</td>\n",
       "      <td>[grapefruit juice, fresh lime juice, honey syr...</td>\n",
       "    </tr>\n",
       "    <tr>\n",
       "      <th>864118</th>\n",
       "      <td>540836.0</td>\n",
       "      <td>(French style green beans, purple onions, swee...</td>\n",
       "      <td>[French style green beans, purple onions, swee...</td>\n",
       "    </tr>\n",
       "    <tr>\n",
       "      <th>864119</th>\n",
       "      <td>540876.0</td>\n",
       "      <td>(eggs, mayonnaise, Dijon mustard, red onions, ...</td>\n",
       "      <td>[eggs, mayonnaise, Dijon mustard, red onions, ...</td>\n",
       "    </tr>\n",
       "    <tr>\n",
       "      <th>864120</th>\n",
       "      <td>541001.0</td>\n",
       "      <td>(salt, paprika, ground black pepper, onion pow...</td>\n",
       "      <td>[salt, paprika, ground black pepper, onion pow...</td>\n",
       "    </tr>\n",
       "    <tr>\n",
       "      <th>864121</th>\n",
       "      <td>541298.0</td>\n",
       "      <td>(tomato paste, white sugar, cold water, allspi...</td>\n",
       "      <td>[tomato paste, white sugar, cold water, allspi...</td>\n",
       "    </tr>\n",
       "  </tbody>\n",
       "</table>\n",
       "<p>172299 rows × 3 columns</p>\n",
       "</div>"
      ],
      "text/plain": [
       "        RecipeId                              RecipeIngredientParts  \\\n",
       "0           38.0  (blueberries, granulated sugar, vanilla yogurt...   \n",
       "4           39.0  (saffron, milk, hot green chili peppers, onion...   \n",
       "5           40.0  (sugar, lemons, rind of, lemon, zest of, fresh...   \n",
       "14          41.0  (extra firm tofu, eggplant, zucchini, mushroom...   \n",
       "16          42.0  (plain tomato juice, cabbage, onion, carrots, ...   \n",
       "...          ...                                                ...   \n",
       "864117  540717.0  (grapefruit juice, fresh lime juice, honey syr...   \n",
       "864118  540836.0  (French style green beans, purple onions, swee...   \n",
       "864119  540876.0  (eggs, mayonnaise, Dijon mustard, red onions, ...   \n",
       "864120  541001.0  (salt, paprika, ground black pepper, onion pow...   \n",
       "864121  541298.0  (tomato paste, white sugar, cold water, allspi...   \n",
       "\n",
       "                                     ProcessedIngredients  \n",
       "0       [blueberries, granulated sugar, vanilla yogurt...  \n",
       "4       [saffron, milk, hot green chili peppers, onion...  \n",
       "5       [sugar, lemons, rind of, lemon, zest of, fresh...  \n",
       "14      [extra firm tofu, eggplant, zucchini, mushroom...  \n",
       "16      [plain tomato juice, cabbage, onion, carrots, ...  \n",
       "...                                                   ...  \n",
       "864117  [grapefruit juice, fresh lime juice, honey syr...  \n",
       "864118  [French style green beans, purple onions, swee...  \n",
       "864119  [eggs, mayonnaise, Dijon mustard, red onions, ...  \n",
       "864120  [salt, paprika, ground black pepper, onion pow...  \n",
       "864121  [tomato paste, white sugar, cold water, allspi...  \n",
       "\n",
       "[172299 rows x 3 columns]"
      ]
     },
     "execution_count": 100,
     "metadata": {},
     "output_type": "execute_result"
    }
   ],
   "source": [
    "# Convert the tuples to lists to process through pyfood\n",
    "df_singlet_ingredients['ProcessedIngredients'] = df_singlet_ingredients['RecipeIngredientParts'].apply(list)\n",
    "\n",
    "# Display the updated DataFrame\n",
    "df_singlet_ingredients\n"
   ]
  },
  {
   "cell_type": "code",
   "execution_count": 53,
   "id": "5ac9f1f9-0753-47b4-a9ed-de8a3e898466",
   "metadata": {},
   "outputs": [],
   "source": [
    "from pyfood.utils import Shelf\n",
    "shelf = Shelf(month_id=0)"
   ]
  },
  {
   "cell_type": "code",
   "execution_count": 54,
   "id": "e5d089f8-93a1-4849-81b3-32b563bc5e03",
   "metadata": {},
   "outputs": [
    {
     "name": "stderr",
     "output_type": "stream",
     "text": [
      "/opt/anaconda3/lib/python3.11/site-packages/sklearn/base.py:318: UserWarning: Trying to unpickle estimator TfidfTransformer from version 0.24.1 when using version 1.2.2. This might lead to breaking code or invalid results. Use at your own risk. For more info please refer to:\n",
      "https://scikit-learn.org/stable/model_persistence.html#security-maintainability-limitations\n",
      "  warnings.warn(\n",
      "/opt/anaconda3/lib/python3.11/site-packages/sklearn/base.py:318: UserWarning: Trying to unpickle estimator TfidfVectorizer from version 0.24.1 when using version 1.2.2. This might lead to breaking code or invalid results. Use at your own risk. For more info please refer to:\n",
      "https://scikit-learn.org/stable/model_persistence.html#security-maintainability-limitations\n",
      "  warnings.warn(\n"
     ]
    }
   ],
   "source": [
    "#Standardization of the ingredient names using the pyfood library.\n",
    "# we will pass the whole dataframe through shelf.process_ingredients by chunk to make the process faster\n",
    "\n",
    "#iterate by chunk of 10000 rows through the whole ingredient column\n",
    "chunksize = 1000\n",
    "num_rows = len(df_singlet_ingredients)\n",
    "final = []\n",
    "for start in range(0, num_rows, chunksize):\n",
    "    end = min(start + chunksize, num_rows)\n",
    "    chunk = df_singlet_ingredients.iloc[start:end]\n",
    "    \n",
    "#process each chunk with shelf.process_ingredients and extract ingredient standard names \n",
    "    result_chunk =[]\n",
    "    for value in chunk['ProcessedIngredients']:\n",
    "            test = shelf.process_ingredients(value)\n",
    "            if test is not None:\n",
    "\n",
    "    # extract ingredient standard names from 'ingredients_by_taxon' key\n",
    "                test2 = test.get('ingredients_by_taxon', [])\n",
    "    \n",
    "    # add the names from the 'HS' key. HS has the name of the food out of season. shelf.process_ingredients() has a month argument in order to have the name of the ingredients in season. 'HS' lists the ingredients out of season (\"Hors Saison\"). We do not care about the season so we are adding it to the list of ingredients.\n",
    "                test2 = [item[0] for item in test2] + test.get('HS', [])\n",
    "                result_chunk.append(test2)\n",
    "            else:\n",
    "    # Handle the case where test is None (you can append an empty list or handle it differently)\n",
    "                result_chunk.append([])\n",
    "#append all the data in final list\n",
    "    final.append(result_chunk)\n",
    "\n"
   ]
  },
  {
   "cell_type": "code",
   "execution_count": 63,
   "id": "19ff77f6-8fc0-4e2e-9d1b-50674fffb6bf",
   "metadata": {},
   "outputs": [
    {
     "data": {
      "text/plain": [
       "172299"
      ]
     },
     "execution_count": 63,
     "metadata": {},
     "output_type": "execute_result"
    }
   ],
   "source": [
    "# Flatten the outermost level (from list of lists of lists to list of lists)\n",
    "final2 = [sublist for inner_list in final for sublist in inner_list]\n",
    "\n",
    "# Print the length of the result. THere should be 172299 ingredient lists \n",
    "len(final2)\n"
   ]
  },
  {
   "cell_type": "code",
   "execution_count": 112,
   "id": "edc03724-4cc6-411d-bb5e-27ef22f753ba",
   "metadata": {},
   "outputs": [
    {
     "name": "stderr",
     "output_type": "stream",
     "text": [
      "/var/folders/dt/t3ds7b0j66d_kpdgqfq1qtcm0000gn/T/ipykernel_35942/2429310820.py:2: SettingWithCopyWarning: \n",
      "A value is trying to be set on a copy of a slice from a DataFrame.\n",
      "Try using .loc[row_indexer,col_indexer] = value instead\n",
      "\n",
      "See the caveats in the documentation: https://pandas.pydata.org/pandas-docs/stable/user_guide/indexing.html#returning-a-view-versus-a-copy\n",
      "  df_singlet_ingredients['homogen_ingredient'] = final2\n"
     ]
    },
    {
     "data": {
      "text/html": [
       "<div>\n",
       "<style scoped>\n",
       "    .dataframe tbody tr th:only-of-type {\n",
       "        vertical-align: middle;\n",
       "    }\n",
       "\n",
       "    .dataframe tbody tr th {\n",
       "        vertical-align: top;\n",
       "    }\n",
       "\n",
       "    .dataframe thead th {\n",
       "        text-align: right;\n",
       "    }\n",
       "</style>\n",
       "<table border=\"1\" class=\"dataframe\">\n",
       "  <thead>\n",
       "    <tr style=\"text-align: right;\">\n",
       "      <th></th>\n",
       "      <th>RecipeId</th>\n",
       "      <th>RecipeIngredientParts</th>\n",
       "      <th>ProcessedIngredients</th>\n",
       "      <th>homogen_ingredient</th>\n",
       "      <th>ingredient_vect</th>\n",
       "      <th>Cluster</th>\n",
       "    </tr>\n",
       "  </thead>\n",
       "  <tbody>\n",
       "    <tr>\n",
       "      <th>0</th>\n",
       "      <td>38.0</td>\n",
       "      <td>(blueberries, granulated sugar, vanilla yogurt...</td>\n",
       "      <td>[blueberries, granulated sugar, vanilla yogurt...</td>\n",
       "      <td>[lemon, sugar, yogurt, blueberry]</td>\n",
       "      <td>blueberry, lemon, sugar, yogurt</td>\n",
       "      <td>4</td>\n",
       "    </tr>\n",
       "    <tr>\n",
       "      <th>4</th>\n",
       "      <td>39.0</td>\n",
       "      <td>(saffron, milk, hot green chili peppers, onion...</td>\n",
       "      <td>[saffron, milk, hot green chili peppers, onion...</td>\n",
       "      <td>[lemon, onion, cashew, alghe, poppy seeds, min...</td>\n",
       "      <td>tomato, raisin, saffron, milk, poppy seeds, al...</td>\n",
       "      <td>0</td>\n",
       "    </tr>\n",
       "    <tr>\n",
       "      <th>5</th>\n",
       "      <td>40.0</td>\n",
       "      <td>(sugar, lemons, rind of, lemon, zest of, fresh...</td>\n",
       "      <td>[sugar, lemons, rind of, lemon, zest of, fresh...</td>\n",
       "      <td>[lemon, water, sugar]</td>\n",
       "      <td>lemon, sugar, water</td>\n",
       "      <td>4</td>\n",
       "    </tr>\n",
       "    <tr>\n",
       "      <th>14</th>\n",
       "      <td>41.0</td>\n",
       "      <td>(extra firm tofu, eggplant, zucchini, mushroom...</td>\n",
       "      <td>[extra firm tofu, eggplant, zucchini, mushroom...</td>\n",
       "      <td>[lemon, garlic, tofu, mushroom, pepper, soy sa...</td>\n",
       "      <td>pepper, tofu, soy sauce, maple syrup, mushroom...</td>\n",
       "      <td>1</td>\n",
       "    </tr>\n",
       "    <tr>\n",
       "      <th>16</th>\n",
       "      <td>42.0</td>\n",
       "      <td>(plain tomato juice, cabbage, onion, carrots, ...</td>\n",
       "      <td>[plain tomato juice, cabbage, onion, carrots, ...</td>\n",
       "      <td>[cabbage, tomato]</td>\n",
       "      <td>tomato, cabbage</td>\n",
       "      <td>1</td>\n",
       "    </tr>\n",
       "  </tbody>\n",
       "</table>\n",
       "</div>"
      ],
      "text/plain": [
       "    RecipeId                              RecipeIngredientParts  \\\n",
       "0       38.0  (blueberries, granulated sugar, vanilla yogurt...   \n",
       "4       39.0  (saffron, milk, hot green chili peppers, onion...   \n",
       "5       40.0  (sugar, lemons, rind of, lemon, zest of, fresh...   \n",
       "14      41.0  (extra firm tofu, eggplant, zucchini, mushroom...   \n",
       "16      42.0  (plain tomato juice, cabbage, onion, carrots, ...   \n",
       "\n",
       "                                 ProcessedIngredients  \\\n",
       "0   [blueberries, granulated sugar, vanilla yogurt...   \n",
       "4   [saffron, milk, hot green chili peppers, onion...   \n",
       "5   [sugar, lemons, rind of, lemon, zest of, fresh...   \n",
       "14  [extra firm tofu, eggplant, zucchini, mushroom...   \n",
       "16  [plain tomato juice, cabbage, onion, carrots, ...   \n",
       "\n",
       "                                   homogen_ingredient  \\\n",
       "0                   [lemon, sugar, yogurt, blueberry]   \n",
       "4   [lemon, onion, cashew, alghe, poppy seeds, min...   \n",
       "5                               [lemon, water, sugar]   \n",
       "14  [lemon, garlic, tofu, mushroom, pepper, soy sa...   \n",
       "16                                  [cabbage, tomato]   \n",
       "\n",
       "                                      ingredient_vect  Cluster  \n",
       "0                     blueberry, lemon, sugar, yogurt        4  \n",
       "4   tomato, raisin, saffron, milk, poppy seeds, al...        0  \n",
       "5                                 lemon, sugar, water        4  \n",
       "14  pepper, tofu, soy sauce, maple syrup, mushroom...        1  \n",
       "16                                    tomato, cabbage        1  "
      ]
     },
     "execution_count": 112,
     "metadata": {},
     "output_type": "execute_result"
    }
   ],
   "source": [
    "#add the list of ingredients to the dataframe with the recepe_ID\n",
    "df_singlet_ingredients['homogen_ingredient'] = final2\n",
    "df_singlet_ingredients.head()"
   ]
  },
  {
   "cell_type": "markdown",
   "id": "5f30bbe0-5192-4a4a-9faf-11c62e604af2",
   "metadata": {},
   "source": [
    "- Step 2: cluster the recepes according to the ingredients\n"
   ]
  },
  {
   "cell_type": "code",
   "execution_count": 65,
   "id": "e959df0b-130d-4407-8a96-eb5bbe5b06a1",
   "metadata": {},
   "outputs": [],
   "source": [
    "from sklearn.feature_extraction.text import CountVectorizer\n",
    "from sklearn.cluster import KMeans"
   ]
  },
  {
   "cell_type": "code",
   "execution_count": 113,
   "id": "bcab8af7-5dcc-4096-8b28-00036c8ba671",
   "metadata": {},
   "outputs": [
    {
     "name": "stderr",
     "output_type": "stream",
     "text": [
      "/var/folders/dt/t3ds7b0j66d_kpdgqfq1qtcm0000gn/T/ipykernel_35942/1971284180.py:2: SettingWithCopyWarning: \n",
      "A value is trying to be set on a copy of a slice from a DataFrame.\n",
      "Try using .loc[row_indexer,col_indexer] = value instead\n",
      "\n",
      "See the caveats in the documentation: https://pandas.pydata.org/pandas-docs/stable/user_guide/indexing.html#returning-a-view-versus-a-copy\n",
      "  df_singlet_ingredients['ingredient_vect'] = df_singlet_ingredients['homogen_ingredient'].apply(lambda x: ', '.join(x))\n"
     ]
    }
   ],
   "source": [
    "#joining the elements into a single string, where each ingredient is separated by a comma and a space (', ') in order to prepare the data for vectorization.\n",
    "df_singlet_ingredients['ingredient_vect'] = df_singlet_ingredients['homogen_ingredient'].apply(lambda x: ', '.join(x))"
   ]
  },
  {
   "cell_type": "code",
   "execution_count": 114,
   "id": "1401a27d-d9aa-4f4d-a62d-5b569342e31c",
   "metadata": {},
   "outputs": [
    {
     "name": "stderr",
     "output_type": "stream",
     "text": [
      "/opt/anaconda3/lib/python3.11/site-packages/sklearn/feature_extraction/text.py:528: UserWarning: The parameter 'token_pattern' will not be used since 'tokenizer' is not None'\n",
      "  warnings.warn(\n"
     ]
    }
   ],
   "source": [
    "#vectorization\n",
    "vectorizer = CountVectorizer(tokenizer=lambda x: x.split(', '))\n",
    "X = vectorizer.fit_transform(df_singlet_ingredients['ingredient_vect'])"
   ]
  },
  {
   "cell_type": "code",
   "execution_count": 115,
   "id": "2159a94f-c0a8-4ccb-9b3f-4a50b42bcebc",
   "metadata": {},
   "outputs": [
    {
     "name": "stderr",
     "output_type": "stream",
     "text": [
      "/opt/anaconda3/lib/python3.11/site-packages/sklearn/cluster/_kmeans.py:870: FutureWarning: The default value of `n_init` will change from 10 to 'auto' in 1.4. Set the value of `n_init` explicitly to suppress the warning\n",
      "  warnings.warn(\n",
      "/var/folders/dt/t3ds7b0j66d_kpdgqfq1qtcm0000gn/T/ipykernel_35942/3829707608.py:3: SettingWithCopyWarning: \n",
      "A value is trying to be set on a copy of a slice from a DataFrame.\n",
      "Try using .loc[row_indexer,col_indexer] = value instead\n",
      "\n",
      "See the caveats in the documentation: https://pandas.pydata.org/pandas-docs/stable/user_guide/indexing.html#returning-a-view-versus-a-copy\n",
      "  df_singlet_ingredients['Cluster'] = kmeans.fit_predict(X)\n"
     ]
    }
   ],
   "source": [
    "# Define the number of clusters\n",
    "kmeans = KMeans(n_clusters=6, random_state=42)  \n",
    "df_singlet_ingredients['Cluster'] = kmeans.fit_predict(X)\n"
   ]
  },
  {
   "cell_type": "code",
   "execution_count": 116,
   "id": "c4488714-725e-4374-8d5b-68311d9d331c",
   "metadata": {},
   "outputs": [
    {
     "name": "stderr",
     "output_type": "stream",
     "text": [
      "/var/folders/dt/t3ds7b0j66d_kpdgqfq1qtcm0000gn/T/ipykernel_35942/3053583455.py:2: SettingWithCopyWarning: \n",
      "A value is trying to be set on a copy of a slice from a DataFrame.\n",
      "Try using .loc[row_indexer,col_indexer] = value instead\n",
      "\n",
      "See the caveats in the documentation: https://pandas.pydata.org/pandas-docs/stable/user_guide/indexing.html#returning-a-view-versus-a-copy\n",
      "  df_singlet_ingredients['ingredient_vect'] = df_singlet_ingredients['ingredient_vect'].str.strip()\n",
      "/var/folders/dt/t3ds7b0j66d_kpdgqfq1qtcm0000gn/T/ipykernel_35942/3053583455.py:3: SettingWithCopyWarning: \n",
      "A value is trying to be set on a copy of a slice from a DataFrame.\n",
      "Try using .loc[row_indexer,col_indexer] = value instead\n",
      "\n",
      "See the caveats in the documentation: https://pandas.pydata.org/pandas-docs/stable/user_guide/indexing.html#returning-a-view-versus-a-copy\n",
      "  df_singlet_ingredients['ingredient_vect'] = df_singlet_ingredients['ingredient_vect'].str.replace('\\n', '', regex=False)\n"
     ]
    }
   ],
   "source": [
    "#clean the n\\ and empty spaces\n",
    "df_singlet_ingredients['ingredient_vect'] = df_singlet_ingredients['ingredient_vect'].str.strip()\n",
    "df_singlet_ingredients['ingredient_vect'] = df_singlet_ingredients['ingredient_vect'].str.replace('\\n', '', regex=False)"
   ]
  },
  {
   "cell_type": "code",
   "execution_count": 117,
   "id": "d56e50fb-407a-46a6-aefc-2f96ac4d3aeb",
   "metadata": {},
   "outputs": [
    {
     "data": {
      "text/plain": [
       "Cluster\n",
       "0    65451\n",
       "5    24671\n",
       "1    23588\n",
       "4    21934\n",
       "2    19400\n",
       "3    17255\n",
       "Name: count, dtype: int64"
      ]
     },
     "execution_count": 117,
     "metadata": {},
     "output_type": "execute_result"
    }
   ],
   "source": [
    "df_singlet_ingredients['Cluster'].value_counts()"
   ]
  },
  {
   "cell_type": "code",
   "execution_count": 92,
   "id": "dd458d42-bd38-4b08-aaf5-4362c56e4e3b",
   "metadata": {},
   "outputs": [
    {
     "name": "stdout",
     "output_type": "stream",
     "text": [
      "<class 'pandas.core.frame.DataFrame'>\n",
      "Index: 172299 entries, 0 to 864121\n",
      "Data columns (total 6 columns):\n",
      " #   Column                 Non-Null Count   Dtype  \n",
      "---  ------                 --------------   -----  \n",
      " 0   RecipeId               172299 non-null  float64\n",
      " 1   RecipeIngredientParts  172299 non-null  object \n",
      " 2   ProcessedIngredients   172299 non-null  object \n",
      " 3   homogen_ingredient     172299 non-null  object \n",
      " 4   ingredient_vect        172299 non-null  object \n",
      " 5   Cluster                172299 non-null  int32  \n",
      "dtypes: float64(1), int32(1), object(4)\n",
      "memory usage: 8.5+ MB\n"
     ]
    }
   ],
   "source": [
    "df_singlet_ingredients.info()"
   ]
  },
  {
   "cell_type": "code",
   "execution_count": 118,
   "id": "995c91d2-2575-434d-a2e3-7a63e5a2b903",
   "metadata": {},
   "outputs": [
    {
     "data": {
      "image/png": "[encoded data removed]",
      "text/plain": [
       "<Figure size 640x480 with 1 Axes>"
      ]
     },
     "metadata": {},
     "output_type": "display_data"
    }
   ],
   "source": [
    "#look at the clusters by PCA\n",
    "\n",
    "from sklearn.decomposition import PCA\n",
    "import matplotlib.pyplot as plt\n",
    "pca = PCA(n_components=2)\n",
    "components = pca.fit_transform(X.toarray())\n",
    "for cluster in sorted(df_singlet_ingredients['Cluster'].unique()):\n",
    "    cluster_data = components[df_singlet_ingredients['Cluster'] == cluster]\n",
    "    plt.scatter(cluster_data[:, 0], cluster_data[:, 1], label=f'Cluster {cluster}',  s= 5)\n",
    "\n",
    "plt.title('Recipe Clustering Based on Ingredients')\n",
    "plt.xlabel('Principal Component 1')\n",
    "plt.ylabel('Principal Component 2')\n",
    "plt.legend(title=\"Cluster\")\n",
    "plt.show()"
   ]
  },
  {
   "cell_type": "markdown",
   "id": "9a2d167c-6df0-451b-8d7e-fc85fdd4f132",
   "metadata": {},
   "source": [
    "- Step 3: Look at the top 10 ingredients from each cluster"
   ]
  },
  {
   "cell_type": "code",
   "execution_count": 132,
   "id": "b38ae282-25ec-4d22-b023-5b8c3e5baf2a",
   "metadata": {},
   "outputs": [],
   "source": [
    "#function top 10 ingredients from each cluster\n",
    "\n",
    "def top_ingredients(df):\n",
    "    ingredients_list = [ingredient for sublist in df['homogen_ingredient'] for ingredient in sublist]\n",
    "    ingredient_counts = Counter(ingredients_list)\n",
    "    # Get the top 10 ingredients\n",
    "    top_10 = ingredient_counts.most_common(10)\n",
    "    return pd.Series(dict(top_10), name='Top Ingredients')\n"
   ]
  },
  {
   "cell_type": "code",
   "execution_count": 134,
   "id": "01302f8d-b7a8-4a05-967e-ef27c5eff553",
   "metadata": {},
   "outputs": [
    {
     "name": "stdout",
     "output_type": "stream",
     "text": [
      "    Cluster      level_1  Top Ingredients\n",
      "0         0        onion            11043\n",
      "1         0        sugar            10494\n",
      "2         0       butter             9722\n",
      "3         0        water             8822\n",
      "4         0    olive oil             6065\n",
      "5         0        lemon             6027\n",
      "6         0       pepper             5997\n",
      "7         0          egg             5830\n",
      "8         0         milk             5769\n",
      "9         0  brown sugar             5356\n",
      "10        1          egg            20553\n",
      "11        1        sugar            17353\n",
      "12        1       butter            10546\n",
      "13        1      Qing Pi            10009\n",
      "14        1        flour             8607\n",
      "15        1    rye flour             7214\n",
      "16        1      vanilla             6740\n",
      "17        1         salt             5554\n",
      "18        1      Ying Su             4508\n",
      "19        1         milk             4102\n",
      "20        2       tomato            23860\n",
      "21        2        onion            10785\n",
      "22        2    olive oil             6160\n",
      "23        2         salt             5195\n",
      "24        2         beef             4292\n",
      "25        2      oregano             3331\n",
      "26        2        basil             3283\n",
      "27        2        chili             3000\n",
      "28        2      parsley             2968\n",
      "29        2        water             2667\n",
      "30        3      chicken            21019\n",
      "31        3        onion             5669\n",
      "32        3         salt             4754\n",
      "33        3       butter             3952\n",
      "34        3    olive oil             3694\n",
      "35        3        lemon             2309\n",
      "36        3      parsley             2288\n",
      "37        3       pepper             2092\n",
      "38        3        flour             2003\n",
      "39        3       tomato             1864\n",
      "40        4       garlic            21930\n",
      "41        4    olive oil             8005\n",
      "42        4         salt             6773\n",
      "43        4      chicken             5408\n",
      "44        4       tomato             4449\n",
      "45        4        lemon             3928\n",
      "46        4      parsley             3590\n",
      "47        4    soy sauce             3566\n",
      "48        4       pepper             3525\n",
      "49        4       butter             3111\n",
      "50        5         salt            24671\n",
      "51        5       butter             5983\n",
      "52        5        onion             5596\n",
      "53        5          egg             5246\n",
      "54        5        water             5074\n",
      "55        5        sugar             4499\n",
      "56        5    olive oil             3740\n",
      "57        5        flour             3222\n",
      "58        5         milk             2705\n",
      "59        5        lemon             2667\n"
     ]
    }
   ],
   "source": [
    "top_ingredients_by_cluster = df_singlet_ingredients.groupby('Cluster').apply(top_ingredients).reset_index()\n",
    "\n",
    "print(top_ingredients_by_cluster)\n"
   ]
  },
  {
   "cell_type": "markdown",
   "id": "a393ca51-4bda-4716-a3e5-bc31fc2dd4e9",
   "metadata": {},
   "source": [
    "- Step 4: reassign individual rating to each recepe --> final dataframe to use for regression models for rating prediction"
   ]
  },
  {
   "cell_type": "code",
   "execution_count": 79,
   "id": "bb3f5848-0ea6-4c54-84ba-f7af9d1591c2",
   "metadata": {},
   "outputs": [],
   "source": [
    "df_ingredients = df_singlet_ingredients[['RecipeId', 'homogen_ingredient','ingredient_vect', 'Cluster']]\n",
    "df_review = df[['RecipeId', 'ReviewId', 'Rating']]\n",
    "\n",
    "df_combined = pd.merge(df_ingredients,df_review, on='RecipeId', how='inner')"
   ]
  },
  {
   "cell_type": "code",
   "execution_count": 80,
   "id": "839536b3-a136-4758-8923-1dd27031c402",
   "metadata": {},
   "outputs": [
    {
     "data": {
      "text/html": [
       "<div>\n",
       "<style scoped>\n",
       "    .dataframe tbody tr th:only-of-type {\n",
       "        vertical-align: middle;\n",
       "    }\n",
       "\n",
       "    .dataframe tbody tr th {\n",
       "        vertical-align: top;\n",
       "    }\n",
       "\n",
       "    .dataframe thead th {\n",
       "        text-align: right;\n",
       "    }\n",
       "</style>\n",
       "<table border=\"1\" class=\"dataframe\">\n",
       "  <thead>\n",
       "    <tr style=\"text-align: right;\">\n",
       "      <th></th>\n",
       "      <th>RecipeId</th>\n",
       "      <th>homogen_ingredient</th>\n",
       "      <th>ingredient_vect</th>\n",
       "      <th>Cluster</th>\n",
       "      <th>ReviewId</th>\n",
       "      <th>Rating</th>\n",
       "    </tr>\n",
       "  </thead>\n",
       "  <tbody>\n",
       "    <tr>\n",
       "      <th>0</th>\n",
       "      <td>38.0</td>\n",
       "      <td>[lemon, sugar, yogurt, blueberry]</td>\n",
       "      <td>lemon, sugar, yogurt, blueberry</td>\n",
       "      <td>0</td>\n",
       "      <td>579149</td>\n",
       "      <td>5</td>\n",
       "    </tr>\n",
       "    <tr>\n",
       "      <th>1</th>\n",
       "      <td>38.0</td>\n",
       "      <td>[lemon, sugar, yogurt, blueberry]</td>\n",
       "      <td>lemon, sugar, yogurt, blueberry</td>\n",
       "      <td>0</td>\n",
       "      <td>789264</td>\n",
       "      <td>4</td>\n",
       "    </tr>\n",
       "    <tr>\n",
       "      <th>2</th>\n",
       "      <td>38.0</td>\n",
       "      <td>[lemon, sugar, yogurt, blueberry]</td>\n",
       "      <td>lemon, sugar, yogurt, blueberry</td>\n",
       "      <td>0</td>\n",
       "      <td>1448544</td>\n",
       "      <td>4</td>\n",
       "    </tr>\n",
       "    <tr>\n",
       "      <th>3</th>\n",
       "      <td>38.0</td>\n",
       "      <td>[lemon, sugar, yogurt, blueberry]</td>\n",
       "      <td>lemon, sugar, yogurt, blueberry</td>\n",
       "      <td>0</td>\n",
       "      <td>1450744</td>\n",
       "      <td>4</td>\n",
       "    </tr>\n",
       "    <tr>\n",
       "      <th>4</th>\n",
       "      <td>39.0</td>\n",
       "      <td>[lemon, onion, cashew, alghe, poppy seeds, min...</td>\n",
       "      <td>lemon, onion, cashew, alghe, poppy seeds, mint...</td>\n",
       "      <td>2</td>\n",
       "      <td>361851</td>\n",
       "      <td>3</td>\n",
       "    </tr>\n",
       "  </tbody>\n",
       "</table>\n",
       "</div>"
      ],
      "text/plain": [
       "   RecipeId                                 homogen_ingredient  \\\n",
       "0      38.0                  [lemon, sugar, yogurt, blueberry]   \n",
       "1      38.0                  [lemon, sugar, yogurt, blueberry]   \n",
       "2      38.0                  [lemon, sugar, yogurt, blueberry]   \n",
       "3      38.0                  [lemon, sugar, yogurt, blueberry]   \n",
       "4      39.0  [lemon, onion, cashew, alghe, poppy seeds, min...   \n",
       "\n",
       "                                     ingredient_vect  Cluster  ReviewId  \\\n",
       "0                    lemon, sugar, yogurt, blueberry        0    579149   \n",
       "1                    lemon, sugar, yogurt, blueberry        0    789264   \n",
       "2                    lemon, sugar, yogurt, blueberry        0   1448544   \n",
       "3                    lemon, sugar, yogurt, blueberry        0   1450744   \n",
       "4  lemon, onion, cashew, alghe, poppy seeds, mint...        2    361851   \n",
       "\n",
       "   Rating  \n",
       "0       5  \n",
       "1       4  \n",
       "2       4  \n",
       "3       4  \n",
       "4       3  "
      ]
     },
     "execution_count": 80,
     "metadata": {},
     "output_type": "execute_result"
    }
   ],
   "source": [
    "df_combined.head()"
   ]
  },
  {
   "cell_type": "markdown",
   "id": "4a281231-06ec-4188-ac34-7a8c6316bf3b",
   "metadata": {},
   "source": [
    "**CONCLUSIONS**\n",
    "\n",
    "- The correlation between nutrient content and calorie counts is both statistically significant and biologically plausible. Therefore, users can confidently rely on the nutritional information provided by this database.\n",
    "- We created a DataFrame for subsequent regression analysis to recommend recipes to users based on their previous preferences and the ingredients in each recipe."
   ]
  },
  {
   "cell_type": "code",
   "execution_count": null,
   "id": "e918446f-6b6f-4fcd-a812-105d45257870",
   "metadata": {},
   "outputs": [],
   "source": []
  }
 ],
 "metadata": {
  "kernelspec": {
   "display_name": "Python 3 (ipykernel)",
   "language": "python",
   "name": "python3"
  },
  "language_info": {
   "codemirror_mode": {
    "name": "ipython",
    "version": 3
   },
   "file_extension": ".py",
   "mimetype": "text/x-python",
   "name": "python",
   "nbconvert_exporter": "python",
   "pygments_lexer": "ipython3",
   "version": "3.11.7"
  }
 },
 "nbformat": 4,
 "nbformat_minor": 5
}
