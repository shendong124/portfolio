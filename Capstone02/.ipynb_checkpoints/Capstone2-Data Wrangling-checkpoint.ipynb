{
 "cells": [
  {
   "cell_type": "code",
   "execution_count": 28,
   "id": "7151e2b7-5d11-42cc-a1d9-f3c1730ad85a",
   "metadata": {},
   "outputs": [],
   "source": [
    "#importing packages needed for the data wrangling\n",
    "import numpy as np\n",
    "import pandas as pd\n",
    "import matplotlib.pyplot as plt\n",
    "import seaborn as sns\n",
    "import isodate"
   ]
  },
  {
   "cell_type": "markdown",
   "id": "55576a56-5dda-4a2a-a2c4-54edbf1f9aa7",
   "metadata": {},
   "source": [
    "I- Importing data and data overview"
   ]
  },
  {
   "cell_type": "code",
   "execution_count": 2,
   "id": "2dfcf143-9a0b-45ff-a80e-e7fd85731426",
   "metadata": {},
   "outputs": [],
   "source": [
    "#parquet files were downloaded from the kaggle website\n",
    "# Read the Parquet file into a DataFrame\n",
    "recipes = pd.read_parquet('/Users/shendong/Desktop/Springboard/Capstone02/data capstone 2/recipes.parquet')\n",
    "reviews = pd.read_parquet('/Users/shendong/Desktop/Springboard/Capstone02/data capstone 2/reviews.parquet')"
   ]
  },
  {
   "cell_type": "code",
   "execution_count": 3,
   "id": "9193bdee-70ec-4e90-b3c2-39b862886a86",
   "metadata": {},
   "outputs": [
    {
     "name": "stdout",
     "output_type": "stream",
     "text": [
      "   RecipeId                               Name  AuthorId      AuthorName  \\\n",
      "0      38.0  Low-Fat Berry Blue Frozen Dessert      1533          Dancer   \n",
      "1      39.0                            Biryani      1567        elly9812   \n",
      "2      40.0                      Best Lemonade      1566  Stephen Little   \n",
      "3      41.0     Carina's Tofu-Vegetable Kebabs      1586         Cyclopz   \n",
      "4      42.0                       Cabbage Soup      1538       Duckie067   \n",
      "\n",
      "  CookTime PrepTime TotalTime             DatePublished  \\\n",
      "0    PT24H    PT45M  PT24H45M 1999-08-09 21:46:00+00:00   \n",
      "1    PT25M     PT4H   PT4H25M 1999-08-29 13:12:00+00:00   \n",
      "2     PT5M    PT30M     PT35M 1999-09-05 19:52:00+00:00   \n",
      "3    PT20M    PT24H  PT24H20M 1999-09-03 14:54:00+00:00   \n",
      "4    PT30M    PT20M     PT50M 1999-09-19 06:19:00+00:00   \n",
      "\n",
      "                                         Description  \\\n",
      "0  Make and share this Low-Fat Berry Blue Frozen ...   \n",
      "1  Make and share this Biryani recipe from Food.com.   \n",
      "2  This is from one of my  first Good House Keepi...   \n",
      "3  This dish is best prepared a day in advance to...   \n",
      "4  Make and share this Cabbage Soup recipe from F...   \n",
      "\n",
      "                                              Images  ... SaturatedFatContent  \\\n",
      "0  [https://img.sndimg.com/food/image/upload/w_55...  ...                 1.3   \n",
      "1  [https://img.sndimg.com/food/image/upload/w_55...  ...                16.6   \n",
      "2  [https://img.sndimg.com/food/image/upload/w_55...  ...                 0.0   \n",
      "3  [https://img.sndimg.com/food/image/upload/w_55...  ...                 3.8   \n",
      "4  [https://img.sndimg.com/food/image/upload/w_55...  ...                 0.1   \n",
      "\n",
      "  CholesterolContent SodiumContent CarbohydrateContent  FiberContent  \\\n",
      "0                8.0          29.8                37.1           3.6   \n",
      "1              372.8         368.4                84.4           9.0   \n",
      "2                0.0           1.8                81.5           0.4   \n",
      "3                0.0        1558.6                64.2          17.3   \n",
      "4                0.0         959.3                25.1           4.8   \n",
      "\n",
      "   SugarContent  ProteinContent  RecipeServings  RecipeYield  \\\n",
      "0          30.2             3.2             4.0         None   \n",
      "1          20.4            63.4             6.0         None   \n",
      "2          77.2             0.3             4.0         None   \n",
      "3          32.1            29.3             2.0     4 kebabs   \n",
      "4          17.7             4.3             4.0         None   \n",
      "\n",
      "                                  RecipeInstructions  \n",
      "0  [Toss 2 cups berries with sugar., Let stand fo...  \n",
      "1  [Soak saffron in warm milk for 5 minutes and p...  \n",
      "2  [Into a 1 quart Jar with tight fitting lid, pu...  \n",
      "3  [Drain the tofu, carefully squeezing out exces...  \n",
      "4  [Mix everything together and bring to a boil.,...  \n",
      "\n",
      "[5 rows x 28 columns]\n"
     ]
    }
   ],
   "source": [
    "#overview of the recipe dataframe\n",
    "print(recipes.head())"
   ]
  },
  {
   "cell_type": "code",
   "execution_count": 4,
   "id": "bd8772d5-2f49-4dc4-bb91-9e4476343592",
   "metadata": {},
   "outputs": [
    {
     "name": "stdout",
     "output_type": "stream",
     "text": [
      "   ReviewId  RecipeId  AuthorId        AuthorName  Rating  \\\n",
      "0         2       992      2008         gayg msft       5   \n",
      "1         7      4384      1634     Bill Hilbrich       4   \n",
      "2         9      4523      2046  Gay Gilmore ckpt       2   \n",
      "3        13      7435      1773     Malarkey Test       5   \n",
      "4        14        44      2085        Tony Small       5   \n",
      "\n",
      "                                              Review  \\\n",
      "0       better than any you can get at a restaurant!   \n",
      "1  I cut back on the mayo, and made up the differ...   \n",
      "2  i think i did something wrong because i could ...   \n",
      "3  easily the best i have ever had.  juicy flavor...   \n",
      "4                                 An excellent dish.   \n",
      "\n",
      "              DateSubmitted              DateModified  \n",
      "0 2000-01-25 21:44:00+00:00 2000-01-25 21:44:00+00:00  \n",
      "1 2001-10-17 16:49:59+00:00 2001-10-17 16:49:59+00:00  \n",
      "2 2000-02-25 09:00:00+00:00 2000-02-25 09:00:00+00:00  \n",
      "3 2000-03-13 21:15:00+00:00 2000-03-13 21:15:00+00:00  \n",
      "4 2000-03-28 12:51:00+00:00 2000-03-28 12:51:00+00:00  \n"
     ]
    }
   ],
   "source": [
    "#overview of the reviews dataframe\n",
    "print(reviews.head())"
   ]
  },
  {
   "cell_type": "code",
   "execution_count": 5,
   "id": "6b8d5762-36d6-4586-ad11-312241b35f2d",
   "metadata": {},
   "outputs": [
    {
     "name": "stdout",
     "output_type": "stream",
     "text": [
      "<class 'pandas.core.frame.DataFrame'>\n",
      "RangeIndex: 522517 entries, 0 to 522516\n",
      "Data columns (total 28 columns):\n",
      " #   Column                      Non-Null Count   Dtype              \n",
      "---  ------                      --------------   -----              \n",
      " 0   RecipeId                    522517 non-null  float64            \n",
      " 1   Name                        522517 non-null  object             \n",
      " 2   AuthorId                    522517 non-null  int32              \n",
      " 3   AuthorName                  522517 non-null  object             \n",
      " 4   CookTime                    439972 non-null  object             \n",
      " 5   PrepTime                    522517 non-null  object             \n",
      " 6   TotalTime                   522517 non-null  object             \n",
      " 7   DatePublished               522517 non-null  datetime64[us, UTC]\n",
      " 8   Description                 522512 non-null  object             \n",
      " 9   Images                      522516 non-null  object             \n",
      " 10  RecipeCategory              521766 non-null  object             \n",
      " 11  Keywords                    522517 non-null  object             \n",
      " 12  RecipeIngredientQuantities  522517 non-null  object             \n",
      " 13  RecipeIngredientParts       522517 non-null  object             \n",
      " 14  AggregatedRating            269294 non-null  float64            \n",
      " 15  ReviewCount                 275028 non-null  float64            \n",
      " 16  Calories                    522517 non-null  float64            \n",
      " 17  FatContent                  522517 non-null  float64            \n",
      " 18  SaturatedFatContent         522517 non-null  float64            \n",
      " 19  CholesterolContent          522517 non-null  float64            \n",
      " 20  SodiumContent               522517 non-null  float64            \n",
      " 21  CarbohydrateContent         522517 non-null  float64            \n",
      " 22  FiberContent                522517 non-null  float64            \n",
      " 23  SugarContent                522517 non-null  float64            \n",
      " 24  ProteinContent              522517 non-null  float64            \n",
      " 25  RecipeServings              339606 non-null  float64            \n",
      " 26  RecipeYield                 174446 non-null  object             \n",
      " 27  RecipeInstructions          522517 non-null  object             \n",
      "dtypes: datetime64[us, UTC](1), float64(13), int32(1), object(13)\n",
      "memory usage: 109.6+ MB\n"
     ]
    }
   ],
   "source": [
    "#overview of the recipe dataframe\n",
    "recipes.info()"
   ]
  },
  {
   "cell_type": "code",
   "execution_count": 6,
   "id": "686eb01c-ecd8-4a65-ac01-9df743fad08f",
   "metadata": {},
   "outputs": [
    {
     "name": "stdout",
     "output_type": "stream",
     "text": [
      "<class 'pandas.core.frame.DataFrame'>\n",
      "RangeIndex: 1401982 entries, 0 to 1401981\n",
      "Data columns (total 8 columns):\n",
      " #   Column         Non-Null Count    Dtype              \n",
      "---  ------         --------------    -----              \n",
      " 0   ReviewId       1401982 non-null  int32              \n",
      " 1   RecipeId       1401982 non-null  int32              \n",
      " 2   AuthorId       1401982 non-null  int32              \n",
      " 3   AuthorName     1401982 non-null  object             \n",
      " 4   Rating         1401982 non-null  int32              \n",
      " 5   Review         1401982 non-null  object             \n",
      " 6   DateSubmitted  1401982 non-null  datetime64[us, UTC]\n",
      " 7   DateModified   1401982 non-null  datetime64[us, UTC]\n",
      "dtypes: datetime64[us, UTC](2), int32(4), object(2)\n",
      "memory usage: 64.2+ MB\n"
     ]
    }
   ],
   "source": [
    "#overview of the reviews dataframe\n",
    "reviews.info()"
   ]
  },
  {
   "cell_type": "code",
   "execution_count": 7,
   "id": "665bd877-7d62-44b2-82dd-f03c8a0bbae5",
   "metadata": {},
   "outputs": [
    {
     "name": "stdout",
     "output_type": "stream",
     "text": [
      "[<class 'numpy.ndarray'> <class 'NoneType'>]\n"
     ]
    }
   ],
   "source": [
    "#checking the data type of the image column in recipe dataframe\n",
    "print(recipes['Images'].apply(type).unique())"
   ]
  },
  {
   "cell_type": "code",
   "execution_count": 8,
   "id": "3969e7c5-8b2f-493a-8468-6b7119d5c1fc",
   "metadata": {},
   "outputs": [],
   "source": [
    "# info() does not return Nonetype as null data. In order to count the nonetype we will use value_counts but numpy arrays are not hashable.\n",
    "# So converting all the numpy arrays into tuple.\n",
    "def convert_arrays_to_tuples(df):\n",
    "    for column in df.columns:\n",
    "        df[column] = df[column].apply(lambda x: tuple(x) if isinstance(x, np.ndarray) else x)\n",
    "    return df\n",
    "\n",
    "# Apply the function to the DataFrame\n",
    "recipes_converted = convert_arrays_to_tuples(recipes)"
   ]
  },
  {
   "cell_type": "code",
   "execution_count": 9,
   "id": "46222bc2-8b25-4210-bf4e-d9dc9acda845",
   "metadata": {},
   "outputs": [
    {
     "name": "stdout",
     "output_type": "stream",
     "text": [
      "Column 'RecipeId' does not contain numpy array values.\n",
      "Column 'Name' does not contain numpy array values.\n",
      "Column 'AuthorId' does not contain numpy array values.\n",
      "Column 'AuthorName' does not contain numpy array values.\n",
      "Column 'CookTime' does not contain numpy array values.\n",
      "Column 'PrepTime' does not contain numpy array values.\n",
      "Column 'TotalTime' does not contain numpy array values.\n",
      "Column 'DatePublished' does not contain numpy array values.\n",
      "Column 'Description' does not contain numpy array values.\n",
      "Column 'Images' does not contain numpy array values.\n",
      "Column 'RecipeCategory' does not contain numpy array values.\n",
      "Column 'Keywords' does not contain numpy array values.\n",
      "Column 'RecipeIngredientQuantities' does not contain numpy array values.\n",
      "Column 'RecipeIngredientParts' does not contain numpy array values.\n",
      "Column 'AggregatedRating' does not contain numpy array values.\n",
      "Column 'ReviewCount' does not contain numpy array values.\n",
      "Column 'Calories' does not contain numpy array values.\n",
      "Column 'FatContent' does not contain numpy array values.\n",
      "Column 'SaturatedFatContent' does not contain numpy array values.\n",
      "Column 'CholesterolContent' does not contain numpy array values.\n",
      "Column 'SodiumContent' does not contain numpy array values.\n",
      "Column 'CarbohydrateContent' does not contain numpy array values.\n",
      "Column 'FiberContent' does not contain numpy array values.\n",
      "Column 'SugarContent' does not contain numpy array values.\n",
      "Column 'ProteinContent' does not contain numpy array values.\n",
      "Column 'RecipeServings' does not contain numpy array values.\n",
      "Column 'RecipeYield' does not contain numpy array values.\n",
      "Column 'RecipeInstructions' does not contain numpy array values.\n"
     ]
    }
   ],
   "source": [
    "#making sure there are no more numpy in recipes_converted\n",
    "\n",
    "def is_numpy_array(column):\n",
    "    return any(isinstance(x, np.ndarray) for x in column)\n",
    "\n",
    "# Check each column\n",
    "for column in recipes.columns:\n",
    "    if is_numpy_array(recipes_converted[column]):\n",
    "        print(f\"Column '{column}' contains numpy array values.\")\n",
    "    else:\n",
    "        print(f\"Column '{column}' does not contain numpy array values.\")"
   ]
  },
  {
   "cell_type": "code",
   "execution_count": 10,
   "id": "f27db0b7-af91-45ab-8fd9-12f6bd4778b7",
   "metadata": {},
   "outputs": [
    {
     "name": "stdout",
     "output_type": "stream",
     "text": [
      "Column 'ReviewId' does not contain numpy array values.\n",
      "Column 'RecipeId' does not contain numpy array values.\n",
      "Column 'AuthorId' does not contain numpy array values.\n",
      "Column 'AuthorName' does not contain numpy array values.\n",
      "Column 'Rating' does not contain numpy array values.\n",
      "Column 'Review' does not contain numpy array values.\n",
      "Column 'DateSubmitted' does not contain numpy array values.\n",
      "Column 'DateModified' does not contain numpy array values.\n"
     ]
    }
   ],
   "source": [
    "#check if reviews contains numpy\n",
    "\n",
    "for column in reviews.columns:\n",
    "    if is_numpy_array(reviews[column]):\n",
    "        print(f\"Column '{column}' contains numpy array values.\")\n",
    "    else:\n",
    "        print(f\"Column '{column}' does not contain numpy array values.\")"
   ]
  },
  {
   "cell_type": "markdown",
   "id": "a16f221b-bf74-4f34-9b8d-bd91900aa8d0",
   "metadata": {},
   "source": [
    "II- Data Cleaning"
   ]
  },
  {
   "cell_type": "markdown",
   "id": "d2a34eab-ff4e-4fdd-ac74-f210254f8331",
   "metadata": {},
   "source": [
    "Recipes dataframe"
   ]
  },
  {
   "cell_type": "markdown",
   "id": "8fc3abab-32f0-46c8-b245-d01cf02f3eb2",
   "metadata": {},
   "source": [
    "1. What to do with \"Images\" column? "
   ]
  },
  {
   "cell_type": "code",
   "execution_count": 11,
   "id": "2739321a-36b6-4c0a-a761-9186cf65283c",
   "metadata": {},
   "outputs": [
    {
     "name": "stdout",
     "output_type": "stream",
     "text": [
      "Images\n",
      "()                                                                                                                                                                                                                                                                                                                                                                                                                                                                                                                                                                                                                                                                                                                                                                                                                                                                                                                                                                                                                                              68.250411\n",
      "(https://img.sndimg.com/food/image/upload/w_555,h_416,c_fit,fl_progressive,q_95/v1/img/submissions/recipe/328048/UA5Dcq1TuWIvkPQGEnaF_19665238_10213729935786773_1392967516122563224_n.jpg,)                                                                                                                                                                                                                                                                                                                                                                                                                                                                                                                                                                                                                                                                                                                                                                                                                                                     0.000383\n",
      "(https://img.sndimg.com/food/image/upload/w_555,h_416,c_fit,fl_progressive,q_95/v1/img/recipes/rz/.3/67/85/0/8Xgg1bgMRCCl8wmrLaM4_codfishYoghurtPotatoes.jpg,)                                                                                                                                                                                                                                                                                                                                                                                                                                                                                                                                                                                                                                                                                                                                                                                                                                                                                   0.000383\n",
      "(https://img.sndimg.com/food/image/upload/w_555,h_416,c_fit,fl_progressive,q_95/v1/img/submissions/recipe/1802649943/NwpJL4MLRrSWd0jwtfsi_EC_Nutella%20cinnamon%20muffins.jpg,)                                                                                                                                                                                                                                                                                                                                                                                                                                                                                                                                                                                                                                                                                                                                                                                                                                                                  0.000383\n",
      "(https://img.sndimg.com/food/image/upload/w_555,h_416,c_fit,fl_progressive,q_95/v1/img/recipes/rz/.3/62/34/5/HCGEXfRsC640NpSnbUUg_Zucchini%20cupcake%20chocolate1.jpg,)                                                                                                                                                                                                                                                                                                                                                                                                                                                                                                                                                                                                                                                                                                                                                                                                                                                                          0.000383\n",
      "                                                                                                                                                                                                                                                                                                                                                                                                                                                                                                                                                                                                                                                                                                                                                                                                                                                                                                                                                                                                                                                  ...    \n",
      "(https://img.sndimg.com/food/image/upload/w_555,h_416,c_fit,fl_progressive,q_95/v1/img/recipes/17/61/74/pic4z6que.jpg, https://img.sndimg.com/food/image/upload/w_555,h_416,c_fit,fl_progressive,q_95/v1/img/recipes/17/61/74/picSzPmJ0.jpg, https://img.sndimg.com/food/image/upload/w_555,h_416,c_fit,fl_progressive,q_95/v1/img/recipes/17/61/74/picUA1r70.jpg)                                                                                                                                                                                                                                                                                                                                                                                                                                                                                                                                                                                                                                                                               0.000191\n",
      "(https://img.sndimg.com/food/image/upload/w_555,h_416,c_fit,fl_progressive,q_95/v1/img/recipes/17/61/76/picFz9w7d.jpg,)                                                                                                                                                                                                                                                                                                                                                                                                                                                                                                                                                                                                                                                                                                                                                                                                                                                                                                                          0.000191\n",
      "(https://img.sndimg.com/food/image/upload/w_555,h_416,c_fit,fl_progressive,q_95/v1/img/recipes/17/61/79/picT65392.jpg, https://img.sndimg.com/food/image/upload/w_555,h_416,c_fit,fl_progressive,q_95/v1/img/recipes/17/61/79/piczkLFRh.jpg, https://img.sndimg.com/food/image/upload/w_555,h_416,c_fit,fl_progressive,q_95/v1/img/recipes/17/61/79/picvLSarP.jpg, https://img.sndimg.com/food/image/upload/w_555,h_416,c_fit,fl_progressive,q_95/v1/img/recipes/17/61/79/picrWpQyk.jpg)                                                                                                                                                                                                                                                                                                                                                                                                                                                                                                                                                         0.000191\n",
      "(https://img.sndimg.com/food/image/upload/w_555,h_416,c_fit,fl_progressive,q_95/v1/img/recipes/17/61/80/BToNS5gDSlQRWkRJPVwa_GRY_0612.jpg, https://img.sndimg.com/food/image/upload/w_555,h_416,c_fit,fl_progressive,q_95/v1/img/recipes/17/61/80/picycxzeX.jpg, https://img.sndimg.com/food/image/upload/w_555,h_416,c_fit,fl_progressive,q_95/v1/img/recipes/17/61/80/nOO9p4G1R9OvzmZiOCCe_GRY_0620.jpg, https://img.sndimg.com/food/image/upload/w_555,h_416,c_fit,fl_progressive,q_95/v1/img/recipes/17/61/80/eVWl1GppTGiy5Aqm3DUQ_GRY_0616.jpg, https://img.sndimg.com/food/image/upload/w_555,h_416,c_fit,fl_progressive,q_95/v1/img/recipes/17/61/80/pic5ZqjiJ.jpg, https://img.sndimg.com/food/image/upload/w_555,h_416,c_fit,fl_progressive,q_95/v1/img/recipes/17/61/80/picc7it4K.jpg, https://img.sndimg.com/food/image/upload/w_555,h_416,c_fit,fl_progressive,q_95/v1/img/recipes/17/61/80/picJvlsIN.jpg, https://img.sndimg.com/food/image/upload/w_555,h_416,c_fit,fl_progressive,q_95/v1/img/recipes/17/61/80/pic44rsY6.jpg)     0.000191\n",
      "(https://img.sndimg.com/food/image/upload/w_555,h_416,c_fit,fl_progressive,q_95/v1/img/submissions/recipe/2001004241/iozyo37LSxy1lG4ujjYh_Asian-Cucumber-8_Fotor-1024x768.jpg,)                                                                                                                                                                                                                                                                                                                                                                                                                                                                                                                                                                                                                                                                                                                                                                                                                                                                  0.000191\n",
      "Name: count, Length: 165889, dtype: float64\n"
     ]
    }
   ],
   "source": [
    "# Counting the unique values in the column Image using value_counts() and calculating the percentage of the each unique values in the Image column\n",
    "unique_counts = recipes_converted['Images'].value_counts()\n",
    "unique_percentages = (unique_counts / len(recipes)) * 100\n",
    "# Print unique values\n",
    "print(unique_percentages)\n",
    "\n",
    "#We can see that 68.25 % of the recipes do not have link to an image so this column will be dropped"
   ]
  },
  {
   "cell_type": "code",
   "execution_count": 12,
   "id": "50179baa-31ba-4cd3-b903-f532b5ef2286",
   "metadata": {},
   "outputs": [],
   "source": [
    "#drop Images column\n",
    "recipes_converted= recipes_converted.drop(columns = ['Images'])"
   ]
  },
  {
   "cell_type": "markdown",
   "id": "40e8886d-4a12-4b87-b161-6d33610838af",
   "metadata": {},
   "source": [
    "Initial strategy was to generate a new column indicating the presentce or not of a image to a recipe and see if it could influence the rating of a recipe. But I decided to drop this column as 68% of the recipes do not have a image linked ot it. "
   ]
  },
  {
   "cell_type": "markdown",
   "id": "f5fa7a2b-e2b2-4bea-a7cb-f02ae4b03167",
   "metadata": {},
   "source": [
    "2. Null values"
   ]
  },
  {
   "cell_type": "code",
   "execution_count": 13,
   "id": "d66ec732-d0bd-4ab5-a5b7-22d7a9a3ce10",
   "metadata": {},
   "outputs": [
    {
     "data": {
      "text/plain": [
       "RecipeId                       0.000000\n",
       "Name                           0.000000\n",
       "AuthorId                       0.000000\n",
       "AuthorName                     0.000000\n",
       "CookTime                      15.797572\n",
       "PrepTime                       0.000000\n",
       "TotalTime                      0.000000\n",
       "DatePublished                  0.000000\n",
       "Description                    0.000957\n",
       "RecipeCategory                 0.143727\n",
       "Keywords                       0.000000\n",
       "RecipeIngredientQuantities     0.000000\n",
       "RecipeIngredientParts          0.000000\n",
       "AggregatedRating              48.462155\n",
       "ReviewCount                   47.364775\n",
       "Calories                       0.000000\n",
       "FatContent                     0.000000\n",
       "SaturatedFatContent            0.000000\n",
       "CholesterolContent             0.000000\n",
       "SodiumContent                  0.000000\n",
       "CarbohydrateContent            0.000000\n",
       "FiberContent                   0.000000\n",
       "SugarContent                   0.000000\n",
       "ProteinContent                 0.000000\n",
       "RecipeServings                35.005751\n",
       "RecipeYield                   66.614292\n",
       "RecipeInstructions             0.000000\n",
       "dtype: float64"
      ]
     },
     "execution_count": 13,
     "metadata": {},
     "output_type": "execute_result"
    }
   ],
   "source": [
    "#Counting percentage of null values in the rest of dataframe.\n",
    "#printing percentage of null values for each column\n",
    "null_counts = recipes_converted.isnull().sum()\n",
    "null_perc = null_counts / len(recipes) * 100\n",
    "null_perc"
   ]
  },
  {
   "cell_type": "code",
   "execution_count": 14,
   "id": "cc7ac40c-1b0d-4c8f-9f2e-a826f8eeec30",
   "metadata": {},
   "outputs": [
    {
     "data": {
      "text/plain": [
       "RecipeId                           0\n",
       "Name                               0\n",
       "AuthorId                           0\n",
       "AuthorName                         0\n",
       "CookTime                       82545\n",
       "PrepTime                           0\n",
       "TotalTime                          0\n",
       "DatePublished                      0\n",
       "Description                        5\n",
       "RecipeCategory                   751\n",
       "Keywords                           0\n",
       "RecipeIngredientQuantities         0\n",
       "RecipeIngredientParts              0\n",
       "AggregatedRating              253223\n",
       "ReviewCount                   247489\n",
       "Calories                           0\n",
       "FatContent                         0\n",
       "SaturatedFatContent                0\n",
       "CholesterolContent                 0\n",
       "SodiumContent                      0\n",
       "CarbohydrateContent                0\n",
       "FiberContent                       0\n",
       "SugarContent                       0\n",
       "ProteinContent                     0\n",
       "RecipeServings                182911\n",
       "RecipeYield                   348071\n",
       "RecipeInstructions                 0\n",
       "dtype: int64"
      ]
     },
     "execution_count": 14,
     "metadata": {},
     "output_type": "execute_result"
    }
   ],
   "source": [
    "#printing count of null values for each column\n",
    "null_counts"
   ]
  },
  {
   "cell_type": "code",
   "execution_count": 15,
   "id": "3025b01c-349e-4bb7-b829-d428d34e6b5d",
   "metadata": {},
   "outputs": [],
   "source": [
    "#drop columns with high percentage of null values.\n",
    "#'AggregatedRating', 'ReviewCount' are the rating values but they contain almost 50% of missing values. \n",
    "#We are droping those 2 columns and we will regenrate ratings using the reviews dataframe\n",
    "#Dropping also \"RecipeYield\" that contains 35% of null values and is redundant with \"RecipeServings\" but less valuable information.\n",
    "recipes_converted= recipes_converted.drop(columns = ['AggregatedRating', 'ReviewCount', 'RecipeYield'])"
   ]
  },
  {
   "cell_type": "code",
   "execution_count": 16,
   "id": "15bfaaf7-f2a0-429f-a7e0-3e033f0405a6",
   "metadata": {},
   "outputs": [],
   "source": [
    "#drop recipes with values Null values in \"RecipeCategory\"\n",
    "recipes_converted= recipes_converted.dropna(subset=['RecipeCategory'])"
   ]
  },
  {
   "cell_type": "code",
   "execution_count": 17,
   "id": "a95b642e-04e3-4501-ad47-4edd46484398",
   "metadata": {},
   "outputs": [],
   "source": [
    "#drop recipes with values Null values in \"RecipeServings\"\n",
    "recipes_converted = recipes_converted.dropna(subset=['RecipeServings'])"
   ]
  },
  {
   "cell_type": "code",
   "execution_count": 18,
   "id": "84936aa5-abb0-4aa1-9622-d42aff34c418",
   "metadata": {},
   "outputs": [
    {
     "data": {
      "text/plain": [
       "array(['PT45M', 'PT4H', 'PT30M', 'PT24H', 'PT20M', 'PT35M', 'PT2H15M',\n",
       "       'PT15M', 'PT5M', 'PT10M', 'PT1H', 'PT1H25M', 'PT40M', 'PT25M',\n",
       "       'PT1H10M', 'PT50M', 'PT55M', 'PT2H5M', 'PT1H15M', 'PT1H5M', 'PT0S',\n",
       "       'PT1H35M', 'PT1H20M', 'PT8H', 'PT1H30M', 'PT2H', 'PT1H40M', 'PT2M',\n",
       "       'PT3H55M', 'PT2H45M', 'PT8M', 'PT1M', 'PT3M', 'PT3H30M', 'PT23M',\n",
       "       'PT13M', 'PT4M', 'PT36H', 'PT7M', 'PT817H30M', 'PT12M', 'PT17M',\n",
       "       'PT3H', 'PT3H20M', 'PT6M', 'PT240H', 'PT5H', 'PT1H50M', 'PT10H',\n",
       "       'PT96H', 'PT31M', 'PT1H45M', 'PT51M', 'PT6H', 'PT12H', 'PT12H30M',\n",
       "       'PT168H', 'PT53H', 'PT192H', 'PT2H35M', 'PT14H', 'PT48H',\n",
       "       'PT4H15M', 'PT5H30M', 'PT18H', 'PT7H', 'PT72H', 'PT14M', 'PT18M',\n",
       "       'PT2H30M', 'PT19M', 'PT2H10M', 'PT24H20M', 'PT9H', 'PT30H',\n",
       "       'PT672H', 'PT400H', 'PT13H', 'PT16M', 'PT6H30M', 'PT1560H',\n",
       "       'PT25H', 'PT26H', 'PT2H20M', 'PT24M', 'PT29M', 'PT11M', 'PT336H',\n",
       "       'PT45H', 'PT2H50M', 'PT28H', 'PT2H40M', 'PT2H25M', 'PT9M',\n",
       "       'PT6H5M', 'PT3H10M', 'PT744H', 'PT32M', 'PT16H', 'PT120H20M',\n",
       "       'PT3H15M', 'PT120H35M', 'PT840H', 'PT15H', 'PT8H5M', 'PT2160H',\n",
       "       'PT264H', 'PT22M', 'PT720H', 'PT120H', 'PT1H34M', 'PT26M',\n",
       "       'PT7H20M', 'PT-30M', 'PT4H30M', 'PT33M', 'PT17H', 'PT20H', 'PT21M',\n",
       "       'PT3H5M', 'PT8H30M', 'PT1056H', 'PT1H55M', 'PT7H30M', 'PT2H12M',\n",
       "       'PT1H38M', 'PT2H24M', 'PT144H', 'PT8H15M', 'PT6H15M', 'PT28M',\n",
       "       'PT24H30M', 'PT39M', 'PT8H18M', 'PT5H15M', 'PT13H30M', 'PT360H',\n",
       "       'PT48M', 'PT37M', 'PT2H9M', 'PT11H', 'PT1H18M', 'PT10H45M',\n",
       "       'PT8H12M', 'PT1H9M', 'PT8H35M', 'PT27M', 'PT3H40M', 'PT1H12M',\n",
       "       'PT46M', 'PT25H25M', 'PT34M', 'PT38M', 'PT5H20M', 'PT36M',\n",
       "       'PT288H', 'PT56M', 'PT1H2M', 'PT1H6M', 'PT4H10M', 'PT1008H',\n",
       "       'PT21H', 'PT480H', 'PT42M', 'PT1H41M', 'PT4H40M', 'PT2H6M',\n",
       "       'PT504H', 'PT4H20M', 'PT3H45M', 'PT2H18M', 'PT-1M', 'PT2H55M',\n",
       "       'PT50H', 'PT1H23M', 'PT8H10M', 'PT40H', 'PT4H50M', 'PT6H10M',\n",
       "       'PT600H', 'PT384H', 'PT14H30M', 'PT8H9M', 'PT108H', 'PT1H29M',\n",
       "       'PT110H', 'PT44M', 'PT3H24M', 'PT1H3M', 'PT4H5M', 'PT4H45M',\n",
       "       'PT6H20M', 'PT2H16M', 'PT24H40M', 'PT49M', 'PT2H17M', 'PT6H9M',\n",
       "       'PT1680H', 'PT9H15M', 'PT31H', 'PT50H30M', 'PT2H7M', 'PT216H',\n",
       "       'PT1H28M', 'PT3H50M', 'PT54M', 'PT1920H', 'PT4H9M', 'PT2H27M',\n",
       "       'PT1440H', 'PT35H', 'PT1H19M', 'PT1H1M', 'PT50H35M', 'PT10H48M',\n",
       "       'PT52M', 'PT19H', 'PT10H30M', 'PT1H4M', 'PT60H', 'PT8760H',\n",
       "       'PT2H31M', 'PT65H', 'PT6H35M', 'PT1H7M', 'PT58M', 'PT312H',\n",
       "       'PT5H21M', 'PT10H19M', 'PT1H13M', 'PT75H', 'PT47M', 'PT3H23M',\n",
       "       'PT41M', 'PT84H', 'PT135H', 'PT12H15M', 'PT48H30M', 'PT8H20M',\n",
       "       'PT24H5M', 'PT24H15M', 'PT1H42M', 'PT8H25M', 'PT12H10M', 'PT2H34M',\n",
       "       'PT8H45M', 'PT12H24M', 'PT48H40M', 'PT57M', 'PT20400H', 'PT22H45M',\n",
       "       'PT100H', 'PT10H20M', 'PT1H36M', 'PT250H', 'PT70H', 'PT38H',\n",
       "       'PT7H5M', 'PT5H5M', 'PT1H21M', 'PT80H', 'PT5H50M'], dtype=object)"
      ]
     },
     "execution_count": 18,
     "metadata": {},
     "output_type": "execute_result"
    }
   ],
   "source": [
    "#uniques in \"Preptime\" column \n",
    "recipes_converted['PrepTime'].unique()"
   ]
  },
  {
   "cell_type": "code",
   "execution_count": 19,
   "id": "5ff49c60-a88e-4872-94bc-b82844b393f3",
   "metadata": {},
   "outputs": [
    {
     "data": {
      "text/plain": [
       "array(['PT24H', 'PT25M', 'PT5M', 'PT20M', 'PT30M', 'PT2H', 'PT3M',\n",
       "       'PT50M', None, 'PT1H', 'PT2H14M', 'PT10M', 'PT15M', 'PT2H38M',\n",
       "       'PT43M', 'PT35M', 'PT55M', 'PT3H', 'PT45M', 'PT2H37M', 'PT2H27M',\n",
       "       'PT23M', 'PT1H45M', 'PT6M', 'PT40M', 'PT1H52M', 'PT4H15M', 'PT6H',\n",
       "       'PT22M', 'PT1H10M', 'PT1H55M', 'PT1H5M', 'PT3H30M', 'PT8H40M',\n",
       "       'PT8H', 'PT42M', 'PT7M', 'PT1H35M', 'PT48H3M', 'PT1H41M',\n",
       "       'PT1H30M', 'PT32M', 'PT6H40M', 'PT4H30M', 'PT48M', 'PT8M',\n",
       "       'PT6H50M', 'PT12M', 'PT19M', 'PT36M', 'PT46M', 'PT27M', 'PT1H15M',\n",
       "       'PT4H4M', 'PT2H13M', 'PT4H7M', 'PT24H5M', 'PT1H40M', 'PT6H10M',\n",
       "       'PT11M', 'PT2H20M', 'PT44M', 'PT2H15M', 'PT39M', 'PT12H', 'PT51M',\n",
       "       'PT4M', 'PT21M', 'PT1H20M', 'PT1H25M', 'PT2H10M', 'PT1M',\n",
       "       'PT2H30M', 'PT38M', 'PT1H6M', 'PT9M', 'PT18M', 'PT1H1M', 'PT1H27M',\n",
       "       'PT1H54M', 'PT4H10M', 'PT24H29M', 'PT1H7M', 'PT33M', 'PT1H38M',\n",
       "       'PT13M', 'PT3H8M', 'PT3H45M', 'PT2H50M', 'PT4H', 'PT54M', 'PT37M',\n",
       "       'PT9H16M', 'PT2H51M', 'PT4H50M', 'PT1H50M', 'PT16M', 'PT2H16M',\n",
       "       'PT3H20M', 'PT13H50M', 'PT34M', 'PT1H17M', 'PT52M', 'PT2H6M',\n",
       "       'PT11H40M', 'PT5H', 'PT2M', 'PT24M', 'PT10H', 'PT26H15M',\n",
       "       'PT2H35M', 'PT7H', 'PT6H30M', 'PT9H', 'PT3H5M', 'PT336H', 'PT15H',\n",
       "       'PT49M', 'PT288H', 'PT14M', 'PT4H20M', 'PT168H', 'PT53M',\n",
       "       'PT1H47M', 'PT47M', 'PT2H45M', 'PT5H30M', 'PT2H25M', 'PT72H',\n",
       "       'PT26M', 'PT2H2M', 'PT3H15M', 'PT8H10M', 'PT3H40M', 'PT5H10M',\n",
       "       'PT4H32M', 'PT17M', 'PT72H5M', 'PT53H', 'PT58M', 'PT24H20M',\n",
       "       'PT48H', 'PT56H', 'PT5H20M', 'PT9H13M', 'PT8H30M', 'PT48H15M',\n",
       "       'PT28M', 'PT2H1M', 'PT2H55M', 'PT50H9M', 'PT2H5M', 'PT4H40M',\n",
       "       'PT3H23M', 'PT4H5M', 'PT4H45M', 'PT9H20M', 'PT1H3M', 'PT13H30M',\n",
       "       'PT13H', 'PT14H', 'PT240H5M', 'PT56H5M', 'PT48H10M', 'PT41M',\n",
       "       'PT24H35M', 'PT28H50M', 'PT2H40M', 'PT1H49M', 'PT13H45M', 'PT90H',\n",
       "       'PT3H10M', 'PT3H50M', 'PT2H23M', 'PT48H5M', 'PT24H15M', 'PT8H20M',\n",
       "       'PT1H2M', 'PT24H25M', 'PT2H17M', 'PT1H12M', 'PT1H31M', 'PT5H42M',\n",
       "       'PT9H30M', 'PT4H2M', 'PT31M', 'PT10H30M', 'PT5H8M', 'PT96H5M',\n",
       "       'PT27H4M', 'PT8H3M', 'PT1H22M', 'PT2H44M', 'PT9H15M', 'PT7H6M',\n",
       "       'PT48H40M', 'PT26H', 'PT11H', 'PT9H35M', 'PT16H', 'PT240H',\n",
       "       'PT1H42M', 'PT720H', 'PT25H', 'PT3H25M', 'PT3H35M', 'PT60H',\n",
       "       'PT72H20M', 'PT1H23M', 'PT1H8M', 'PT504H', 'PT1H4M', 'PT96H',\n",
       "       'PT1H16M', 'PT1H33M', 'PT1H36M', 'PT1H14M', 'PT1H19M', 'PT192H',\n",
       "       'PT57M', 'PT725760H', 'PT20H', 'PT7H30M', 'PT18H', 'PT56M',\n",
       "       'PT3H6M', 'PT1H18M', 'PT36H', 'PT28H', 'PT11H46M', 'PT144H',\n",
       "       'PT1H13M', 'PT40H', 'PT1H9M', 'PT8H25M', 'PT27H', 'PT29M',\n",
       "       'PT4H6M', 'PT5H50M', 'PT1H28M', 'PT120H', 'PT2H18M', 'PT2H3M',\n",
       "       'PT1H34M', 'PT1008H', 'PT7H15M', 'PT1440H', 'PT12H30M', 'PT17H',\n",
       "       'PT59M', 'PT8H15M', 'PT360H', 'PT1H53M', 'PT6H15M', 'PT4H14M',\n",
       "       'PT8H18M', 'PT1H24M', 'PT2H12M', 'PT2160H', 'PT45H', 'PT3H12M',\n",
       "       'PT4H27M', 'PT1H32M', 'PT480H', 'PT600H', 'PT1H21M', 'PT7H10M',\n",
       "       'PT6H6M', 'PT1H26M', 'PT4H18M', 'PT3H24M', 'PT483H45M', 'PT22H',\n",
       "       'PT576H', 'PT50H', 'PT21H', 'PT1H39M', 'PT8H24M', 'PT960H',\n",
       "       'PT3H3M', 'PT2880H', 'PT30H', 'PT4H35M', 'PT1H56M', 'PT2H33M',\n",
       "       'PT2H34M', 'PT2H8M', 'PT2H39M', 'PT23H', 'PT3H18M', 'PT24H40M',\n",
       "       'PT5H40M', 'PT24H30M', 'PT264H', 'PT25H30M', 'PT12H45M', 'PT6H45M',\n",
       "       'PT6H4M', 'PT216H', 'PT1H29M', 'PT19H', 'PT432H', 'PT2H9M',\n",
       "       'PT7H25M', 'PT2H42M', 'PT12H4M', 'PT5H15M', 'PT10H15M', 'PT3H55M',\n",
       "       'PT1080H', 'PT10H50M', 'PT4H1M', 'PT8H45M', 'PT18H30M', 'PT35H',\n",
       "       'PT1H37M', 'PT672H', 'PT12H15M', 'PT840H', 'PT2208H', 'PT6H20M',\n",
       "       'PT5H45M', 'PT384H', 'PT91H', 'PT108H', 'PT26H30M', 'PT6H5M',\n",
       "       'PT3H48M', 'PT9H45M', 'PT55H', 'PT75H', 'PT696H', 'PT189312H',\n",
       "       'PT4320H', 'PT1H48M', 'PT6H8M', 'PT1H11M', 'PT80H', 'PT1296H',\n",
       "       'PT8H9M', 'PT25H20M', 'PT13H20M', 'PT3H16M', 'PT2H26M', 'PT31H',\n",
       "       'PT5H5M', 'PT2H11M', 'PT1320H', 'PT11H30M', 'PT89H', 'PT4H26M',\n",
       "       'PT190H', 'PT12H20M', 'PT7H5M', 'PT5H25M', 'PT1200H', 'PT92H35M',\n",
       "       'PT18H40M', 'PT300H', 'PT76H', 'PT4H12M', 'PT888H', 'PT8H27M',\n",
       "       'PT6H35M', 'PT3H1M', 'PT31H30M', 'PT8760H', 'PT2H4M', 'PT105H',\n",
       "       'PT70H', 'PT1H46M', 'PT5H1M', 'PT5H12M', 'PT4H25M', 'PT2H28M',\n",
       "       'PT1H43M', 'PT16H30M', 'PT8H6M', 'PT6H25M', 'PT7H40M', 'PT7H45M',\n",
       "       'PT3H53M', 'PT2H24M', 'PT7H50M', 'PT8H5M', 'PT11H15M', 'PT2H48M',\n",
       "       'PT4800H', 'PT10H25M', 'PT54H50M', 'PT24H45M', 'PT25H10M',\n",
       "       'PT12H35M', 'PT17H40M', 'PT14H15M', 'PT5H35M', 'PT21H30M',\n",
       "       'PT12H50M', 'PT13H40M', 'PT16H45M', 'PT9H50M', 'PT27H45M',\n",
       "       'PT13H10M', 'PT102H15M', 'PT26H50M', 'PT107H35M', 'PT24H10M',\n",
       "       'PT101H5M', 'PT59H', 'PT50H45M', 'PT15H11M'], dtype=object)"
      ]
     },
     "execution_count": 19,
     "metadata": {},
     "output_type": "execute_result"
    }
   ],
   "source": [
    "recipes_converted['CookTime'].unique()"
   ]
  },
  {
   "cell_type": "markdown",
   "id": "eeecf610-6dbe-4cda-92f5-3b5ca33d62be",
   "metadata": {},
   "source": [
    "I'm noticing some time data = \"PT0S\" in \"PrepTime\" column which indicate 0 seconde but is not taking in account as null values. Let's count them in the \"Cooktime\" and \"TotalTime\" columns "
   ]
  },
  {
   "cell_type": "code",
   "execution_count": 20,
   "id": "a65fc469-7f82-4476-9e5b-f11fe583a01b",
   "metadata": {},
   "outputs": [
    {
     "name": "stdout",
     "output_type": "stream",
     "text": [
      "9805\n"
     ]
    }
   ],
   "source": [
    "#number of \"PT0S\" in \"PrepTime\" column\n",
    "print(recipes_converted['PrepTime'].value_counts().get('PT0S', 0))"
   ]
  },
  {
   "cell_type": "code",
   "execution_count": 21,
   "id": "8aebebc7-46ba-4c5c-8c96-aa6996da0b55",
   "metadata": {},
   "outputs": [
    {
     "name": "stdout",
     "output_type": "stream",
     "text": [
      "0\n"
     ]
    }
   ],
   "source": [
    "#number of \"PT0S\" in \"CookTime\" column\n",
    "print(recipes_converted['CookTime'].value_counts().get('PT0S', 0))"
   ]
  },
  {
   "cell_type": "code",
   "execution_count": 22,
   "id": "8bedccc0-9c84-47f8-a14b-4cdfad5ba04c",
   "metadata": {},
   "outputs": [
    {
     "name": "stdout",
     "output_type": "stream",
     "text": [
      "1484\n"
     ]
    }
   ],
   "source": [
    "#number of \"PT0S\" in \"TotalTime\" column\n",
    "print(recipes_converted['TotalTime'].value_counts().get('PT0S', 0))"
   ]
  },
  {
   "cell_type": "code",
   "execution_count": 23,
   "id": "98c6db05-3154-45ec-bf13-8bcde561dfad",
   "metadata": {},
   "outputs": [],
   "source": [
    "#filtering out the \"TotalTime\" == \"PT0S\"as it is unlikely that any recipes will have a totaltime of zero seconds\n",
    "recipes_noNull = recipes_converted[recipes_converted['TotalTime'] != 'PT0S']"
   ]
  },
  {
   "cell_type": "code",
   "execution_count": 24,
   "id": "564a5ba0-52ff-4c4c-9d30-f40e2066f860",
   "metadata": {},
   "outputs": [
    {
     "name": "stdout",
     "output_type": "stream",
     "text": [
      "8321\n"
     ]
    }
   ],
   "source": [
    "#there are still 8321 recipes with \"PT0S\" as \"PrepTime\"\n",
    "print(recipes_noNull['PrepTime'].value_counts().get('PT0S', 0))"
   ]
  },
  {
   "cell_type": "code",
   "execution_count": 25,
   "id": "ecba8680-a708-49aa-a54c-e2f0c99888d0",
   "metadata": {},
   "outputs": [
    {
     "data": {
      "text/plain": [
       "50770"
      ]
     },
     "execution_count": 25,
     "metadata": {},
     "output_type": "execute_result"
    }
   ],
   "source": [
    "#there are still 50770 recipes with null values in cooktime column\n",
    "null_counts = recipes_noNull['CookTime'].isnull().sum()\n",
    "null_counts\n",
    "#let's look if those null values are real or just missing"
   ]
  },
  {
   "cell_type": "code",
   "execution_count": 26,
   "id": "b116859b-e056-4d9b-b497-be46043333bd",
   "metadata": {},
   "outputs": [],
   "source": [
    "#We will drop the cooktime and preptime column to simplify the dataset and we will keep the Total time as it is informative enough for the users. \n",
    "recipes_noNull= recipes_noNull.drop(columns = ['CookTime', 'PrepTime'])"
   ]
  },
  {
   "cell_type": "markdown",
   "id": "dfe3213c-416d-4407-bde0-b8c32adef31c",
   "metadata": {},
   "source": [
    "3- cleaning of the recipe duration data"
   ]
  },
  {
   "cell_type": "code",
   "execution_count": 29,
   "id": "75d8f4f1-b33b-43e5-a68b-8fc4b1be3774",
   "metadata": {},
   "outputs": [
    {
     "name": "stdout",
     "output_type": "stream",
     "text": [
      "\n",
      "DataFrame with TotalTime in Minutes:\n",
      "0         1485.0\n",
      "1          265.0\n",
      "2           35.0\n",
      "3         1460.0\n",
      "4           50.0\n",
      "           ...  \n",
      "522509      10.0\n",
      "522510     200.0\n",
      "522512      95.0\n",
      "522513     210.0\n",
      "522514     240.0\n",
      "Name: TotalTimeMinutes, Length: 337638, dtype: float64\n"
     ]
    }
   ],
   "source": [
    "#converting the time from ISO 8601 duraiton into minutes and creating a new column with total prep time in minute\n",
    "def convert_to_minutes(duration):\n",
    "    try:\n",
    "        duration_parsed = isodate.parse_duration(duration)\n",
    "        # Convert duration to total seconds, then to minutes\n",
    "        total_minutes = duration_parsed.total_seconds() / 60\n",
    "        return total_minutes\n",
    "    except isodate.isoerror.ISO8601Error:\n",
    "        return None\n",
    "\n",
    "# Apply the conversion function to the TotalTime column--> creates a new column \"TotalTimeMinutes\" for future ploting and manipulation\n",
    "recipes_noNull['TotalTimeMinutes'] = recipes_noNull['TotalTime'].apply(convert_to_minutes)\n",
    "\n",
    "print(\"\\nDataFrame with TotalTime in Minutes:\")\n",
    "print(recipes_noNull['TotalTimeMinutes'])"
   ]
  },
  {
   "cell_type": "code",
   "execution_count": 30,
   "id": "114d595e-ca31-4656-994a-5c6e45944fa2",
   "metadata": {},
   "outputs": [
    {
     "data": {
      "text/plain": [
       "46093     43552800.0\n",
       "276285    11394720.0\n",
       "498934     1512000.0\n",
       "431970     1051200.0\n",
       "518040      525660.0\n",
       "             ...    \n",
       "417601           1.0\n",
       "197815           1.0\n",
       "435711           1.0\n",
       "267289           1.0\n",
       "225767           NaN\n",
       "Name: TotalTimeMinutes, Length: 337638, dtype: float64"
      ]
     },
     "execution_count": 30,
     "metadata": {},
     "output_type": "execute_result"
    }
   ],
   "source": [
    "recipes_noNull['TotalTimeMinutes'].sort_values(ascending= False)"
   ]
  },
  {
   "cell_type": "code",
   "execution_count": 33,
   "id": "25307fa5-aff0-4b11-8e1f-5a43496c79c6",
   "metadata": {},
   "outputs": [
    {
     "data": {
      "text/plain": [
       "1"
      ]
     },
     "execution_count": 33,
     "metadata": {},
     "output_type": "execute_result"
    }
   ],
   "source": [
    "#how many NaN values is there?\n",
    "null_counts = recipes_noNull['TotalTimeMinutes'].isnull().sum()\n",
    "null_counts"
   ]
  },
  {
   "cell_type": "code",
   "execution_count": 35,
   "id": "687d7330-0b95-4269-b555-cd489b53d26d",
   "metadata": {},
   "outputs": [],
   "source": [
    "#drop NaN values from recipes_noNull['TotalTimeMinutes']\n",
    "recipes_noNull= recipes_noNull.dropna(subset=['TotalTimeMinutes'])"
   ]
  },
  {
   "cell_type": "markdown",
   "id": "21f43325-3de5-4cbf-990d-4df67745606b",
   "metadata": {},
   "source": [
    "There are recipes with very high total time. For example the maximum total time in minute is 43552800 which is equivalent to 82 years!\n",
    "Let's look at the distribution of the Totaltime data"
   ]
  },
  {
   "cell_type": "code",
   "execution_count": 36,
   "id": "a64ab96a-8e46-4848-8238-fb894e287aa3",
   "metadata": {},
   "outputs": [
    {
     "name": "stderr",
     "output_type": "stream",
     "text": [
      "/opt/anaconda3/lib/python3.11/site-packages/seaborn/_oldcore.py:1119: FutureWarning: use_inf_as_na option is deprecated and will be removed in a future version. Convert inf values to NaN before operating instead.\n",
      "  with pd.option_context('mode.use_inf_as_na', True):\n",
      "/opt/anaconda3/lib/python3.11/site-packages/seaborn/_oldcore.py:1119: FutureWarning: use_inf_as_na option is deprecated and will be removed in a future version. Convert inf values to NaN before operating instead.\n",
      "  with pd.option_context('mode.use_inf_as_na', True):\n"
     ]
    },
    {
     "data": {
      "image/png": "[encoded data removed]",
      "text/plain": [
       "<Figure size 800x600 with 2 Axes>"
      ]
     },
     "metadata": {},
     "output_type": "display_data"
    }
   ],
   "source": [
    "#ploting the distribution values \n",
    "recipes_noNull['TotalTimeMinutes'] = recipes_noNull['TotalTimeMinutes'].astype(int)\n",
    "\n",
    "plt.figure(figsize=(8, 6))\n",
    "\n",
    "plt.subplot(1, 2, 1)\n",
    "bin_edges1 = list(range(1, 43552800, 500000))\n",
    "sns.histplot(recipes_noNull['TotalTimeMinutes'], bins=bin_edges1, kde=False, edgecolor='black')\n",
    "plt.xlabel('Total Time in Minutes')\n",
    "plt.ylabel('Frequency')\n",
    "plt.title('Duration distribution max=4.3e6minute')\n",
    "\n",
    "\n",
    "plt.subplot(1, 2, 2)\n",
    "bin_edges2 = list(range(1, 3000, 100))\n",
    "sns.histplot(recipes_noNull['TotalTimeMinutes'], bins=bin_edges2, kde=False, edgecolor='black')\n",
    "plt.xlabel('Total Time in Minutes')\n",
    "plt.ylabel('Frequency')\n",
    "plt.title('Duration distribution max=3000minute')\n",
    "\n",
    "\n",
    "plt.tight_layout()\n",
    "plt.show()"
   ]
  },
  {
   "cell_type": "markdown",
   "id": "dd9c6553-d121-4b9e-ab44-bd8b03fb06ed",
   "metadata": {},
   "source": [
    "It seems that the majority of the recipe are under 3000 minutes (equivalent to 50H and 2.08 days)\n",
    "We can drop all the recipes that are over 3000min "
   ]
  },
  {
   "cell_type": "code",
   "execution_count": 37,
   "id": "838704fa-1703-478f-9785-4f2f7da2aaeb",
   "metadata": {},
   "outputs": [
    {
     "data": {
      "text/plain": [
       "625"
      ]
     },
     "execution_count": 37,
     "metadata": {},
     "output_type": "execute_result"
    }
   ],
   "source": [
    "#There are only 2707 recipes above 1000min \n",
    "(recipes_noNull['TotalTimeMinutes']> 3000).sum()"
   ]
  },
  {
   "cell_type": "code",
   "execution_count": 38,
   "id": "3a1945fc-2e2c-49ab-91fc-5d7833071ceb",
   "metadata": {},
   "outputs": [],
   "source": [
    "#filtering recipes with duration over 1000min\n",
    "recipes_duration_filtered = recipes_noNull[recipes_noNull['TotalTimeMinutes']< 3000]"
   ]
  },
  {
   "cell_type": "code",
   "execution_count": 39,
   "id": "d80eb708-5970-49db-bb4c-3f8abea23f6c",
   "metadata": {},
   "outputs": [
    {
     "name": "stdout",
     "output_type": "stream",
     "text": [
      "<class 'pandas.core.frame.DataFrame'>\n",
      "Index: 336999 entries, 0 to 522514\n",
      "Data columns (total 23 columns):\n",
      " #   Column                      Non-Null Count   Dtype              \n",
      "---  ------                      --------------   -----              \n",
      " 0   RecipeId                    336999 non-null  float64            \n",
      " 1   Name                        336999 non-null  object             \n",
      " 2   AuthorId                    336999 non-null  int64              \n",
      " 3   AuthorName                  336999 non-null  object             \n",
      " 4   TotalTime                   336999 non-null  object             \n",
      " 5   DatePublished               336999 non-null  datetime64[ns, UTC]\n",
      " 6   Description                 336999 non-null  object             \n",
      " 7   RecipeCategory              336999 non-null  object             \n",
      " 8   Keywords                    336999 non-null  object             \n",
      " 9   RecipeIngredientQuantities  336999 non-null  object             \n",
      " 10  RecipeIngredientParts       336999 non-null  object             \n",
      " 11  Calories                    336999 non-null  float64            \n",
      " 12  FatContent                  336999 non-null  float64            \n",
      " 13  SaturatedFatContent         336999 non-null  float64            \n",
      " 14  CholesterolContent          336999 non-null  float64            \n",
      " 15  SodiumContent               336999 non-null  float64            \n",
      " 16  CarbohydrateContent         336999 non-null  float64            \n",
      " 17  FiberContent                336999 non-null  float64            \n",
      " 18  SugarContent                336999 non-null  float64            \n",
      " 19  ProteinContent              336999 non-null  float64            \n",
      " 20  RecipeServings              336999 non-null  float64            \n",
      " 21  RecipeInstructions          336999 non-null  object             \n",
      " 22  TotalTimeMinutes            336999 non-null  int64              \n",
      "dtypes: datetime64[ns, UTC](1), float64(11), int64(2), object(9)\n",
      "memory usage: 61.7+ MB\n"
     ]
    }
   ],
   "source": [
    "recipes_duration_filtered.info()"
   ]
  },
  {
   "cell_type": "markdown",
   "id": "b149d842-a09e-429c-bfeb-09c25f55ab41",
   "metadata": {},
   "source": [
    "4- Handling the duplicates"
   ]
  },
  {
   "cell_type": "code",
   "execution_count": 40,
   "id": "e9ffb7a6-2a48-40f0-b236-e9b95bf9062b",
   "metadata": {},
   "outputs": [
    {
     "name": "stdout",
     "output_type": "stream",
     "text": [
      "Exact duplicates:\n",
      "Empty DataFrame\n",
      "Columns: [RecipeId, Name, AuthorId, AuthorName, TotalTime, DatePublished, Description, RecipeCategory, Keywords, RecipeIngredientQuantities, RecipeIngredientParts, Calories, FatContent, SaturatedFatContent, CholesterolContent, SodiumContent, CarbohydrateContent, FiberContent, SugarContent, ProteinContent, RecipeServings, RecipeInstructions, TotalTimeMinutes]\n",
      "Index: []\n",
      "\n",
      "[0 rows x 23 columns]\n"
     ]
    }
   ],
   "source": [
    "#looking for exact duplicated rows in recipes \n",
    "exact_duplicates = recipes_duration_filtered[recipes_duration_filtered.duplicated()]\n",
    "print(\"Exact duplicates:\")\n",
    "print(exact_duplicates)\n"
   ]
  },
  {
   "cell_type": "markdown",
   "id": "3979ec45-c5be-4f91-b527-d2e58e010671",
   "metadata": {},
   "source": [
    "there is no exact duplicates in the recipes "
   ]
  },
  {
   "cell_type": "code",
   "execution_count": 41,
   "id": "0d015679-dfb0-4126-a469-65182fa68822",
   "metadata": {},
   "outputs": [
    {
     "name": "stdout",
     "output_type": "stream",
     "text": [
      "No duplicates in column 'RecipeId'\n",
      "Duplicates in column 'Name':\n",
      "Duplicates in column 'AuthorId':\n",
      "Duplicates in column 'AuthorName':\n",
      "Duplicates in column 'TotalTime':\n",
      "Duplicates in column 'DatePublished':\n",
      "Duplicates in column 'Description':\n",
      "Duplicates in column 'RecipeCategory':\n",
      "Duplicates in column 'Keywords':\n",
      "Duplicates in column 'RecipeIngredientQuantities':\n",
      "Duplicates in column 'RecipeIngredientParts':\n",
      "Duplicates in column 'Calories':\n",
      "Duplicates in column 'FatContent':\n",
      "Duplicates in column 'SaturatedFatContent':\n",
      "Duplicates in column 'CholesterolContent':\n",
      "Duplicates in column 'SodiumContent':\n",
      "Duplicates in column 'CarbohydrateContent':\n",
      "Duplicates in column 'FiberContent':\n",
      "Duplicates in column 'SugarContent':\n",
      "Duplicates in column 'ProteinContent':\n",
      "Duplicates in column 'RecipeServings':\n",
      "Duplicates in column 'RecipeInstructions':\n",
      "Duplicates in column 'TotalTimeMinutes':\n"
     ]
    }
   ],
   "source": [
    "# Loop through each column and check for duplicate values \n",
    "for column in recipes_duration_filtered.columns:\n",
    "    # Check for duplicates in the column\n",
    "    duplicates = recipes_duration_filtered[column].duplicated()\n",
    "    \n",
    "    # Print the column name and the rows that are duplicates\n",
    "    if duplicates.any():\n",
    "        print(f\"Duplicates in column '{column}':\")\n",
    "        \n",
    "    else:\n",
    "        print(f\"No duplicates in column '{column}'\")"
   ]
  },
  {
   "cell_type": "markdown",
   "id": "7212b3f0-50f2-40b9-8d93-9ac224e29eed",
   "metadata": {},
   "source": [
    "It's good to see there is no duplication of the Recipe ID\n",
    "Let's investigate duplication in the values or text of the other columns"
   ]
  },
  {
   "cell_type": "code",
   "execution_count": 42,
   "id": "13e2fcc6-e9f5-4367-b0fc-80768bd8c4f4",
   "metadata": {},
   "outputs": [
    {
     "name": "stdout",
     "output_type": "stream",
     "text": [
      "        RecipeId                                               Name  \\\n",
      "127958  134437.0  Copycat Wendy&rsquo;s Spicy Chicken Fillet San...   \n",
      "172776  180738.0                      Greek-Style Chicken Casserole   \n",
      "172777  180739.0                      Greek-Style Chicken Casserole   \n",
      "212104  221240.0            Copycat Red Lobster Nantucket Baked Cod   \n",
      "212688  221841.0                                          Beef Stew   \n",
      "...          ...                                                ...   \n",
      "521790  540638.0                              Greek Meatball Kabobs   \n",
      "522036  540896.0                              Hubby's Ham Casserole   \n",
      "522037  540897.0                              Hubby's Ham Casserole   \n",
      "522038  540898.0                        Butter Pecan Banana Muffins   \n",
      "522039  540899.0                        Butter Pecan Banana Muffins   \n",
      "\n",
      "          AuthorId         AuthorName TotalTime             DatePublished  \\\n",
      "127958  2001112113  Jonathan Melendez     PT50M 2019-02-22 18:59:00+00:00   \n",
      "172776       93446            Irmgard   PT1H10M 2006-08-07 21:12:00+00:00   \n",
      "172777       93446            Irmgard   PT1H10M 2006-08-07 21:12:00+00:00   \n",
      "212104  2001112113  Jonathan Melendez     PT16M 2019-02-22 18:53:00+00:00   \n",
      "212688      319796           Jane Gib      PT3H 2007-04-10 16:53:00+00:00   \n",
      "...            ...                ...       ...                       ...   \n",
      "521790     1436160           GibbyLou     PT50M 2020-07-03 21:27:00+00:00   \n",
      "522036  2000498330            Sassy J     PT45M 2020-09-01 20:59:00+00:00   \n",
      "522037  2000498330            Sassy J     PT45M 2020-09-01 20:59:00+00:00   \n",
      "522038     1827868              jarp4     PT28M 2020-09-01 20:59:00+00:00   \n",
      "522039     1827868              jarp4     PT28M 2020-09-01 20:59:00+00:00   \n",
      "\n",
      "                                              Description  \\\n",
      "127958  Make and share this Copycat Wendy&rsquo;s Spic...   \n",
      "172776  This makes a wonderful meal served with a gree...   \n",
      "172777  This makes a wonderful meal served with a gree...   \n",
      "212104  Make and share this Copycat Red Lobster Nantuc...   \n",
      "212688  Make and share this Beef Stew recipe from Food...   \n",
      "...                                                   ...   \n",
      "521790  Make and share this Greek Meatball Kabobs reci...   \n",
      "522036  Make and share this Hubby's Ham Casserole reci...   \n",
      "522037  Make and share this Hubby's Ham Casserole reci...   \n",
      "522038  Make and share this Butter Pecan Banana Muffin...   \n",
      "522039  Make and share this Butter Pecan Banana Muffin...   \n",
      "\n",
      "             RecipeCategory  \\\n",
      "127958         Lunch/Snacks   \n",
      "172776  Chicken Thigh & Leg   \n",
      "172777  Chicken Thigh & Leg   \n",
      "212104       Very Low Carbs   \n",
      "212688            < 4 Hours   \n",
      "...                     ...   \n",
      "521790            Vegetable   \n",
      "522036                  Ham   \n",
      "522037                  Ham   \n",
      "522038               Breads   \n",
      "522039               Breads   \n",
      "\n",
      "                                                 Keywords  \\\n",
      "127958                (Chicken, Poultry, Meat, < 60 Mins)   \n",
      "172776  (Chicken, Poultry, Vegetable, Meat, Greek, Eur...   \n",
      "172777  (Chicken, Poultry, Vegetable, Meat, Greek, Eur...   \n",
      "212104                                       (< 30 Mins,)   \n",
      "212688                                            (Easy,)   \n",
      "...                                                   ...   \n",
      "521790    (Meat, Southwest Asia (middle East), < 60 Mins)   \n",
      "522036           (Pork, Meat, Weeknight, < 60 Mins, Easy)   \n",
      "522037           (Pork, Meat, Weeknight, < 60 Mins, Easy)   \n",
      "522038  (Breakfast, Brunch, < 30 Mins, Easy, From Scra...   \n",
      "522039  (Breakfast, Brunch, < 30 Mins, Easy, From Scra...   \n",
      "\n",
      "                               RecipeIngredientQuantities  ...  \\\n",
      "127958  (4, 1⁄2, 1, 4, 1 1⁄2, 1, 1, 1, 1, 1, 4 -6, 4, ...  ...   \n",
      "172776  (4, 2, 2, 1, 1, 1, 1⁄4, 1⁄4, 1⁄4, 1⁄4, 1, 1, 1...  ...   \n",
      "172777  (4, 2, 2, 1, 1, 1, 1⁄4, 1⁄4, 1⁄4, 1⁄4, 1, 1, 1...  ...   \n",
      "212104             (4, 4, 2, 1⁄2, 1⁄2, 1⁄4, 1⁄8, 8, 3, 2)  ...   \n",
      "212688                        (26, 3, 2, 2, 1, 2, 1⁄4, 3)  ...   \n",
      "...                                                   ...  ...   \n",
      "521790     (1, 1⁄4, 1, 2, 1⁄2, 1, 1, 1, 2, 1⁄2, 1⁄2, 1⁄4)  ...   \n",
      "522036                          (16, 3, 1, 3⁄4, 3⁄4, 1⁄4)  ...   \n",
      "522037                          (16, 3, 1, 3⁄4, 3⁄4, 1⁄4)  ...   \n",
      "522038  (1, 1⁄2, 1 1⁄3, 1, 1, 1⁄2, 1, 3⁄4, 1⁄2, 1⁄4, 1...  ...   \n",
      "522039  (1, 1⁄2, 1 1⁄3, 1, 1, 1⁄2, 1, 3⁄4, 1⁄2, 1⁄4, 1...  ...   \n",
      "\n",
      "       SaturatedFatContent  CholesterolContent  SodiumContent  \\\n",
      "127958                22.2               102.9          784.8   \n",
      "172776                15.5               189.3         1302.6   \n",
      "172777                15.5               189.3         1302.6   \n",
      "212104                 2.9               102.6          486.6   \n",
      "212688                72.5               243.2         4759.1   \n",
      "...                    ...                 ...            ...   \n",
      "521790                 8.8                83.8          311.1   \n",
      "522036                 9.5                90.1          540.6   \n",
      "522037                 9.5                90.1          540.6   \n",
      "522038                 1.7                17.2          253.0   \n",
      "522039                 1.7                17.2          253.0   \n",
      "\n",
      "        CarbohydrateContent  FiberContent  SugarContent  ProteinContent  \\\n",
      "127958                 41.9           2.4           3.9            38.0   \n",
      "172776                 35.2           4.5          10.5            44.4   \n",
      "172777                 35.2           4.5          10.5            44.4   \n",
      "212104                 10.7           3.2           6.7            44.9   \n",
      "212688                 45.2           6.5           5.3            25.5   \n",
      "...                     ...           ...           ...             ...   \n",
      "521790                  5.6           1.8           3.6            23.4   \n",
      "522036                 47.5           1.9           2.5            33.0   \n",
      "522037                 47.5           1.9           2.5            33.0   \n",
      "522038                 28.9           1.6          15.8             3.3   \n",
      "522039                 28.9           1.6          15.8             3.3   \n",
      "\n",
      "        RecipeServings                                 RecipeInstructions  \\\n",
      "127958             4.0  (In a large bowl, combine the chicken, jalapeñ...   \n",
      "172776             4.0  (Separate the chicken legs at the joints; wipe...   \n",
      "172777             4.0  (Separate the chicken legs at the joints; wipe...   \n",
      "212104             4.0  (Preheat oven to 425 degrees F., Drizzle 2 tab...   \n",
      "212688             3.0  (Place all ingredients in a baking dish or cas...   \n",
      "...                ...                                                ...   \n",
      "521790             4.0  (Spray broiler pan rack with nonstick cooking ...   \n",
      "522036             6.0  (Combine all ingredients except bread crumbs i...   \n",
      "522037             6.0  (Combine all ingredients except bread crumbs i...   \n",
      "522038            12.0  (Heat oven to 375 degrees. Coat a standard 12-...   \n",
      "522039            12.0  (Heat oven to 375 degrees. Coat a standard 12-...   \n",
      "\n",
      "        TotalTimeMinutes  \n",
      "127958                50  \n",
      "172776                70  \n",
      "172777                70  \n",
      "212104                16  \n",
      "212688               180  \n",
      "...                  ...  \n",
      "521790                50  \n",
      "522036                45  \n",
      "522037                45  \n",
      "522038                28  \n",
      "522039                28  \n",
      "\n",
      "[144 rows x 23 columns]\n"
     ]
    }
   ],
   "source": [
    "#if not exact duplicates do we see duplicates for several columns? \n",
    "#Dupication in Recipe Name and Authors could stem from updated recipes that should not be considered as duplicate.\n",
    "#Date of publication is also a good indication for duplicates. Different dates is more likely to be an update of the recipe.\n",
    "#therefore to identify real duplications we can look for duplicates in the description and RecipeInstructions together with Name, AuthorId and DatePublished.\n",
    "duplicate_rows = recipes_duration_filtered[recipes_duration_filtered.duplicated(subset=['Name', 'AuthorId', 'DatePublished', 'Description', 'RecipeInstructions'], keep=False)]\n",
    "print(duplicate_rows)"
   ]
  },
  {
   "cell_type": "code",
   "execution_count": 43,
   "id": "b8151518-a7db-4f3d-a1fd-88567d9b8c05",
   "metadata": {},
   "outputs": [],
   "source": [
    "#Drop the duplicated rows\n",
    "recipes_deduplicated = recipes_duration_filtered.drop_duplicates(subset=['Name', 'AuthorId', 'DatePublished', 'Description', 'RecipeInstructions'], keep='first')"
   ]
  },
  {
   "cell_type": "code",
   "execution_count": 44,
   "id": "7c7eeb5f-d79a-48ec-8deb-43ac36e4b199",
   "metadata": {},
   "outputs": [
    {
     "name": "stdout",
     "output_type": "stream",
     "text": [
      "Empty DataFrame\n",
      "Columns: [RecipeId, Name, AuthorId, AuthorName, TotalTime, DatePublished, Description, RecipeCategory, Keywords, RecipeIngredientQuantities, RecipeIngredientParts, Calories, FatContent, SaturatedFatContent, CholesterolContent, SodiumContent, CarbohydrateContent, FiberContent, SugarContent, ProteinContent, RecipeServings, RecipeInstructions, TotalTimeMinutes]\n",
      "Index: []\n",
      "\n",
      "[0 rows x 23 columns]\n"
     ]
    }
   ],
   "source": [
    "#Check if it worked\n",
    "duplicate_rows = recipes_deduplicated[recipes_deduplicated.duplicated(subset=['Name', 'AuthorId', 'DatePublished', 'Description', 'RecipeInstructions'], keep=False)]\n",
    "print(duplicate_rows)"
   ]
  },
  {
   "cell_type": "code",
   "execution_count": 45,
   "id": "dbaf05bb-01f9-49c5-ad07-1ebf9bc9c596",
   "metadata": {},
   "outputs": [
    {
     "name": "stdout",
     "output_type": "stream",
     "text": [
      "<class 'pandas.core.frame.DataFrame'>\n",
      "Index: 336927 entries, 0 to 522514\n",
      "Data columns (total 23 columns):\n",
      " #   Column                      Non-Null Count   Dtype              \n",
      "---  ------                      --------------   -----              \n",
      " 0   RecipeId                    336927 non-null  float64            \n",
      " 1   Name                        336927 non-null  object             \n",
      " 2   AuthorId                    336927 non-null  int64              \n",
      " 3   AuthorName                  336927 non-null  object             \n",
      " 4   TotalTime                   336927 non-null  object             \n",
      " 5   DatePublished               336927 non-null  datetime64[ns, UTC]\n",
      " 6   Description                 336927 non-null  object             \n",
      " 7   RecipeCategory              336927 non-null  object             \n",
      " 8   Keywords                    336927 non-null  object             \n",
      " 9   RecipeIngredientQuantities  336927 non-null  object             \n",
      " 10  RecipeIngredientParts       336927 non-null  object             \n",
      " 11  Calories                    336927 non-null  float64            \n",
      " 12  FatContent                  336927 non-null  float64            \n",
      " 13  SaturatedFatContent         336927 non-null  float64            \n",
      " 14  CholesterolContent          336927 non-null  float64            \n",
      " 15  SodiumContent               336927 non-null  float64            \n",
      " 16  CarbohydrateContent         336927 non-null  float64            \n",
      " 17  FiberContent                336927 non-null  float64            \n",
      " 18  SugarContent                336927 non-null  float64            \n",
      " 19  ProteinContent              336927 non-null  float64            \n",
      " 20  RecipeServings              336927 non-null  float64            \n",
      " 21  RecipeInstructions          336927 non-null  object             \n",
      " 22  TotalTimeMinutes            336927 non-null  int64              \n",
      "dtypes: datetime64[ns, UTC](1), float64(11), int64(2), object(9)\n",
      "memory usage: 61.7+ MB\n"
     ]
    }
   ],
   "source": [
    "recipes_deduplicated.info()"
   ]
  },
  {
   "cell_type": "markdown",
   "id": "0733814a-1b34-45e0-a793-cb59af850b0a",
   "metadata": {},
   "source": [
    "III- Creation of new data"
   ]
  },
  {
   "cell_type": "markdown",
   "id": "efd61d0d-5d4e-4022-bb27-0daf6f08bb5f",
   "metadata": {},
   "source": [
    "1- Description length"
   ]
  },
  {
   "cell_type": "markdown",
   "id": "ed6d70b3-7cae-44d0-a092-56d69493eb90",
   "metadata": {},
   "source": [
    "The description columnn is an addition details to the Recipy instruction. I m adding a column that gives the length of the description in order to determine if it could play a role in the rating and preferences for the authors"
   ]
  },
  {
   "cell_type": "code",
   "execution_count": 46,
   "id": "3724fcd0-3af0-41a0-958a-c4a8aa34745f",
   "metadata": {},
   "outputs": [
    {
     "name": "stderr",
     "output_type": "stream",
     "text": [
      "/var/folders/dt/t3ds7b0j66d_kpdgqfq1qtcm0000gn/T/ipykernel_15474/1025929994.py:2: SettingWithCopyWarning: \n",
      "A value is trying to be set on a copy of a slice from a DataFrame.\n",
      "Try using .loc[row_indexer,col_indexer] = value instead\n",
      "\n",
      "See the caveats in the documentation: https://pandas.pydata.org/pandas-docs/stable/user_guide/indexing.html#returning-a-view-versus-a-copy\n",
      "  recipes_deduplicated['description_length']= recipes_deduplicated['Description'].str.len()\n"
     ]
    },
    {
     "data": {
      "text/plain": [
       "0          75\n",
       "1          49\n",
       "2         350\n",
       "3         104\n",
       "4          54\n",
       "         ... \n",
       "522509    150\n",
       "522510    130\n",
       "522512     72\n",
       "522513    434\n",
       "522514     63\n",
       "Name: description_length, Length: 336927, dtype: int64"
      ]
     },
     "execution_count": 46,
     "metadata": {},
     "output_type": "execute_result"
    }
   ],
   "source": [
    "#creation of lenhth of description of the recipe\n",
    "recipes_deduplicated['description_length']= recipes_deduplicated['Description'].str.len()\n",
    "recipes_deduplicated['description_length']"
   ]
  },
  {
   "cell_type": "markdown",
   "id": "a976ea83-fe89-4e93-b44d-a44c4893e110",
   "metadata": {},
   "source": [
    "2- Generation of the ratings and reviews columns"
   ]
  },
  {
   "cell_type": "markdown",
   "id": "0cdb74b3-2a25-4562-adb0-73bdadbae5c9",
   "metadata": {},
   "source": [
    "Step1: overview and cleaning of the reviews datafreame\n",
    "Step2: merge recipes_deduplicated with reviews on RecipeId"
   ]
  },
  {
   "cell_type": "code",
   "execution_count": 47,
   "id": "921413dc-fe78-47cf-94f2-45921bd9beab",
   "metadata": {},
   "outputs": [
    {
     "name": "stdout",
     "output_type": "stream",
     "text": [
      "<class 'pandas.core.frame.DataFrame'>\n",
      "RangeIndex: 1401982 entries, 0 to 1401981\n",
      "Data columns (total 8 columns):\n",
      " #   Column         Non-Null Count    Dtype              \n",
      "---  ------         --------------    -----              \n",
      " 0   ReviewId       1401982 non-null  int32              \n",
      " 1   RecipeId       1401982 non-null  int32              \n",
      " 2   AuthorId       1401982 non-null  int32              \n",
      " 3   AuthorName     1401982 non-null  object             \n",
      " 4   Rating         1401982 non-null  int32              \n",
      " 5   Review         1401982 non-null  object             \n",
      " 6   DateSubmitted  1401982 non-null  datetime64[us, UTC]\n",
      " 7   DateModified   1401982 non-null  datetime64[us, UTC]\n",
      "dtypes: datetime64[us, UTC](2), int32(4), object(2)\n",
      "memory usage: 64.2+ MB\n"
     ]
    }
   ],
   "source": [
    "#reviews dataframe overview\n",
    "reviews.info()"
   ]
  },
  {
   "cell_type": "code",
   "execution_count": 48,
   "id": "4861d5ff-31ee-4536-a69b-4ee2907976ea",
   "metadata": {},
   "outputs": [
    {
     "data": {
      "text/plain": [
       "ReviewId         0\n",
       "RecipeId         0\n",
       "AuthorId         0\n",
       "AuthorName       0\n",
       "Rating           0\n",
       "Review           0\n",
       "DateSubmitted    0\n",
       "DateModified     0\n",
       "dtype: int64"
      ]
     },
     "execution_count": 48,
     "metadata": {},
     "output_type": "execute_result"
    }
   ],
   "source": [
    "#looking for null values\n",
    "null_counts_reviews = reviews.isnull().sum()\n",
    "null_counts_reviews"
   ]
  },
  {
   "cell_type": "code",
   "execution_count": 49,
   "id": "96d00ac6-7f33-4680-9bbf-c39c8b2af7db",
   "metadata": {},
   "outputs": [
    {
     "name": "stdout",
     "output_type": "stream",
     "text": [
      "Exact duplicates:\n",
      "Empty DataFrame\n",
      "Columns: [ReviewId, RecipeId, AuthorId, AuthorName, Rating, Review, DateSubmitted, DateModified]\n",
      "Index: []\n"
     ]
    }
   ],
   "source": [
    "#looking for exact duplicated rows in recipes\n",
    "duplicates = reviews[reviews.duplicated()]\n",
    "print(\"Exact duplicates:\")\n",
    "print(duplicates)\n",
    "\n",
    "#there are no exact duplicated rows"
   ]
  },
  {
   "cell_type": "code",
   "execution_count": 117,
   "id": "c03b6d5f-d216-4d8e-858e-9617b9af569d",
   "metadata": {},
   "outputs": [
    {
     "name": "stdout",
     "output_type": "stream",
     "text": [
      "No duplicates in column 'ReviewId'\n",
      "Duplicates in column 'RecipeId':\n",
      "Duplicates in column 'AuthorId':\n",
      "Duplicates in column 'AuthorName':\n",
      "Duplicates in column 'Rating':\n",
      "Duplicates in column 'Review':\n",
      "Duplicates in column 'DateSubmitted':\n",
      "Duplicates in column 'DateModified':\n"
     ]
    }
   ],
   "source": [
    "# Loop through each column and check for duplicates in each column\n",
    "for column in reviews.columns:\n",
    "    # Check for duplicates in the column\n",
    "    duplicates = reviews[column].duplicated()\n",
    "    \n",
    "    # Print the column name and the rows that are duplicates\n",
    "    if duplicates.any():\n",
    "        print(f\"Duplicates in column '{column}':\")\n",
    "   \n",
    "    else:\n",
    "        print(f\"No duplicates in column '{column}'\")"
   ]
  },
  {
   "cell_type": "code",
   "execution_count": 50,
   "id": "9d268339-5f7a-4cc7-b660-e18965c08f8c",
   "metadata": {},
   "outputs": [
    {
     "name": "stdout",
     "output_type": "stream",
     "text": [
      "         ReviewId  RecipeId    AuthorId           AuthorName  Rating  \\\n",
      "22             48      3338        2536  Warangkana Krosuwan       5   \n",
      "109           181      5158        3775              B Dawdy       3   \n",
      "151           234       480        4036             Gary W G       5   \n",
      "195           288       545        4268      Cherie Plaisted       5   \n",
      "323           471      4776        6123         pamela krage       5   \n",
      "...           ...       ...         ...                  ...     ...   \n",
      "1401493   2089823    533195      128473            Baby Kato       5   \n",
      "1401608   2089941    478436      128473            Baby Kato       5   \n",
      "1401883   2090236    167508  2002899374             Karen J.       5   \n",
      "1401900   2090255    214598  2002370708         49blessed R.       5   \n",
      "1401942   2090301    339905       35251                lmkga       5   \n",
      "\n",
      "                   Review             DateSubmitted              DateModified  \n",
      "22                   \\r\\n 2000-09-12 22:49:52+00:00 2000-09-12 22:49:52+00:00  \n",
      "109                    Ok 2000-12-11 10:58:41+00:00 2000-12-11 10:58:41+00:00  \n",
      "151          very good!!! 2000-12-27 13:40:38+00:00 2000-12-27 13:40:38+00:00  \n",
      "195           Outstanding 2001-01-16 11:26:42+00:00 2001-01-16 11:26:42+00:00  \n",
      "323                great! 2001-02-28 14:42:36+00:00 2001-02-28 14:42:36+00:00  \n",
      "...                   ...                       ...                       ...  \n",
      "1401493             Yummy 2020-12-14 17:05:50+00:00 2020-12-14 17:05:50+00:00  \n",
      "1401608         Excellent 2020-12-18 02:17:30+00:00 2020-12-18 02:17:30+00:00  \n",
      "1401883      Delicious!!! 2020-12-25 15:06:04+00:00 2020-12-25 15:06:04+00:00  \n",
      "1401900      DELICIOUS!!! 2020-12-25 19:55:55+00:00 2020-12-25 19:55:55+00:00  \n",
      "1401942  Easy and delish. 2020-12-27 00:00:56+00:00 2020-12-27 00:00:56+00:00  \n",
      "\n",
      "[11472 rows x 8 columns]\n"
     ]
    }
   ],
   "source": [
    "#Duplicates in Recipe ID is expected as several users will rate the same recipe but duplication in the review itself may be real duplicates.\n",
    "#check for duplicates in reviews \n",
    "duplicate_rows = reviews[reviews.duplicated(subset=['Review'], keep=False)]\n",
    "print(duplicate_rows)"
   ]
  },
  {
   "cell_type": "markdown",
   "id": "4ae89893-a30b-446a-841b-94582e2e1634",
   "metadata": {},
   "source": [
    "short exclamation words are not true duyplicates many users could use the same words.\n",
    "All rows will be kept"
   ]
  },
  {
   "cell_type": "markdown",
   "id": "39f30242-37af-4313-940b-2ebebc06f325",
   "metadata": {},
   "source": [
    "Merge of the 2 tables"
   ]
  },
  {
   "cell_type": "markdown",
   "id": "20420bee-9d37-448f-9700-2ed3e0454afa",
   "metadata": {},
   "source": [
    "In order to match users to recipes and generate the average rating for each recipe we will merge the recipes_deduplicated dataframe and the reviews dataframe."
   ]
  },
  {
   "cell_type": "code",
   "execution_count": 51,
   "id": "f3a5250d-6ece-43f8-88bf-701bb90660ea",
   "metadata": {},
   "outputs": [
    {
     "data": {
      "text/plain": [
       "172299"
      ]
     },
     "execution_count": 51,
     "metadata": {},
     "output_type": "execute_result"
    }
   ],
   "source": [
    "overlap_count = recipes_deduplicated['RecipeId'].isin(reviews['RecipeId']).sum()\n",
    "overlap_count"
   ]
  },
  {
   "cell_type": "code",
   "execution_count": 52,
   "id": "887ddedc-b347-44d1-bae8-69ec9a5f8e3a",
   "metadata": {},
   "outputs": [
    {
     "data": {
      "text/plain": [
       "292340"
      ]
     },
     "execution_count": 52,
     "metadata": {},
     "output_type": "execute_result"
    }
   ],
   "source": [
    "overlap_count_name = recipes_deduplicated['AuthorName'].isin(reviews['AuthorName']).sum()\n",
    "overlap_count_name"
   ]
  },
  {
   "cell_type": "code",
   "execution_count": 53,
   "id": "46973833-e5be-4e89-b979-f3db49d99a50",
   "metadata": {},
   "outputs": [
    {
     "data": {
      "text/plain": [
       "164628"
      ]
     },
     "execution_count": 53,
     "metadata": {},
     "output_type": "execute_result"
    }
   ],
   "source": [
    "not_overlap_count = (~recipes_deduplicated['RecipeId'].isin(reviews['RecipeId'])).sum()\n",
    "not_overlap_count"
   ]
  },
  {
   "cell_type": "markdown",
   "id": "192c4d58-8089-4c26-99a3-79fc0ae1861e",
   "metadata": {},
   "source": [
    "We will able to generate average rating values for 172299 recipes by merging the 2 dataframes with a inner join on RecipeId.\n",
    "Each of the recipe will be also paired with the different users, their ratings and reviews. "
   ]
  },
  {
   "cell_type": "code",
   "execution_count": 57,
   "id": "59a44773-5729-4d4e-83fb-e722aeed8a0d",
   "metadata": {},
   "outputs": [],
   "source": [
    "merge_recipe_review = pd.merge(recipes_deduplicated, reviews, on='RecipeId')"
   ]
  },
  {
   "cell_type": "code",
   "execution_count": 59,
   "id": "4470ff7b-1cfb-43cf-ad01-4660e6aa53c5",
   "metadata": {},
   "outputs": [
    {
     "name": "stdout",
     "output_type": "stream",
     "text": [
      "<class 'pandas.core.frame.DataFrame'>\n",
      "RangeIndex: 864122 entries, 0 to 864121\n",
      "Data columns (total 31 columns):\n",
      " #   Column                      Non-Null Count   Dtype              \n",
      "---  ------                      --------------   -----              \n",
      " 0   RecipeId                    864122 non-null  float64            \n",
      " 1   Name                        864122 non-null  object             \n",
      " 2   AuthorId_x                  864122 non-null  int64              \n",
      " 3   AuthorName_x                864122 non-null  object             \n",
      " 4   TotalTime                   864122 non-null  object             \n",
      " 5   DatePublished               864122 non-null  datetime64[ns, UTC]\n",
      " 6   Description                 864122 non-null  object             \n",
      " 7   RecipeCategory              864122 non-null  object             \n",
      " 8   Keywords                    864122 non-null  object             \n",
      " 9   RecipeIngredientQuantities  864122 non-null  object             \n",
      " 10  RecipeIngredientParts       864122 non-null  object             \n",
      " 11  Calories                    864122 non-null  float64            \n",
      " 12  FatContent                  864122 non-null  float64            \n",
      " 13  SaturatedFatContent         864122 non-null  float64            \n",
      " 14  CholesterolContent          864122 non-null  float64            \n",
      " 15  SodiumContent               864122 non-null  float64            \n",
      " 16  CarbohydrateContent         864122 non-null  float64            \n",
      " 17  FiberContent                864122 non-null  float64            \n",
      " 18  SugarContent                864122 non-null  float64            \n",
      " 19  ProteinContent              864122 non-null  float64            \n",
      " 20  RecipeServings              864122 non-null  float64            \n",
      " 21  RecipeInstructions          864122 non-null  object             \n",
      " 22  TotalTimeMinutes            864122 non-null  int64              \n",
      " 23  description_length          864122 non-null  int64              \n",
      " 24  ReviewId                    864122 non-null  int32              \n",
      " 25  AuthorId_y                  864122 non-null  int32              \n",
      " 26  AuthorName_y                864122 non-null  object             \n",
      " 27  Rating                      864122 non-null  int32              \n",
      " 28  Review                      864122 non-null  object             \n",
      " 29  DateSubmitted               864122 non-null  datetime64[us, UTC]\n",
      " 30  DateModified                864122 non-null  datetime64[us, UTC]\n",
      "dtypes: datetime64[ns, UTC](1), datetime64[us, UTC](2), float64(11), int32(3), int64(3), object(11)\n",
      "memory usage: 194.5+ MB\n"
     ]
    }
   ],
   "source": [
    "merge_recipe_review.info()"
   ]
  },
  {
   "cell_type": "code",
   "execution_count": 60,
   "id": "3b5402b7-36e1-4f24-8474-5b00adf577c5",
   "metadata": {},
   "outputs": [
    {
     "data": {
      "text/html": [
       "<div>\n",
       "<style scoped>\n",
       "    .dataframe tbody tr th:only-of-type {\n",
       "        vertical-align: middle;\n",
       "    }\n",
       "\n",
       "    .dataframe tbody tr th {\n",
       "        vertical-align: top;\n",
       "    }\n",
       "\n",
       "    .dataframe thead th {\n",
       "        text-align: right;\n",
       "    }\n",
       "</style>\n",
       "<table border=\"1\" class=\"dataframe\">\n",
       "  <thead>\n",
       "    <tr style=\"text-align: right;\">\n",
       "      <th></th>\n",
       "      <th>RecipeId</th>\n",
       "      <th>Name</th>\n",
       "      <th>AuthorId_x</th>\n",
       "      <th>AuthorName_x</th>\n",
       "      <th>TotalTime</th>\n",
       "      <th>DatePublished</th>\n",
       "      <th>Description</th>\n",
       "      <th>RecipeCategory</th>\n",
       "      <th>Keywords</th>\n",
       "      <th>RecipeIngredientQuantities</th>\n",
       "      <th>...</th>\n",
       "      <th>RecipeInstructions</th>\n",
       "      <th>TotalTimeMinutes</th>\n",
       "      <th>description_length</th>\n",
       "      <th>ReviewId</th>\n",
       "      <th>AuthorId_y</th>\n",
       "      <th>AuthorName_y</th>\n",
       "      <th>Rating</th>\n",
       "      <th>Review</th>\n",
       "      <th>DateSubmitted</th>\n",
       "      <th>DateModified</th>\n",
       "    </tr>\n",
       "  </thead>\n",
       "  <tbody>\n",
       "    <tr>\n",
       "      <th>0</th>\n",
       "      <td>38.0</td>\n",
       "      <td>Low-Fat Berry Blue Frozen Dessert</td>\n",
       "      <td>1533</td>\n",
       "      <td>Dancer</td>\n",
       "      <td>PT24H45M</td>\n",
       "      <td>1999-08-09 21:46:00+00:00</td>\n",
       "      <td>Make and share this Low-Fat Berry Blue Frozen ...</td>\n",
       "      <td>Frozen Desserts</td>\n",
       "      <td>(Dessert, Low Protein, Low Cholesterol, Health...</td>\n",
       "      <td>(4, 1⁄4, 1, 1)</td>\n",
       "      <td>...</td>\n",
       "      <td>(Toss 2 cups berries with sugar., Let stand fo...</td>\n",
       "      <td>1485</td>\n",
       "      <td>75</td>\n",
       "      <td>579149</td>\n",
       "      <td>596506</td>\n",
       "      <td>allisonsmommy</td>\n",
       "      <td>5</td>\n",
       "      <td>Yummy, yummy, yummy! I am a big fan of fruit a...</td>\n",
       "      <td>2008-02-13 00:26:49+00:00</td>\n",
       "      <td>2008-02-13 00:26:49+00:00</td>\n",
       "    </tr>\n",
       "    <tr>\n",
       "      <th>1</th>\n",
       "      <td>38.0</td>\n",
       "      <td>Low-Fat Berry Blue Frozen Dessert</td>\n",
       "      <td>1533</td>\n",
       "      <td>Dancer</td>\n",
       "      <td>PT24H45M</td>\n",
       "      <td>1999-08-09 21:46:00+00:00</td>\n",
       "      <td>Make and share this Low-Fat Berry Blue Frozen ...</td>\n",
       "      <td>Frozen Desserts</td>\n",
       "      <td>(Dessert, Low Protein, Low Cholesterol, Health...</td>\n",
       "      <td>(4, 1⁄4, 1, 1)</td>\n",
       "      <td>...</td>\n",
       "      <td>(Toss 2 cups berries with sugar., Let stand fo...</td>\n",
       "      <td>1485</td>\n",
       "      <td>75</td>\n",
       "      <td>789264</td>\n",
       "      <td>1060485</td>\n",
       "      <td>allyop135</td>\n",
       "      <td>4</td>\n",
       "      <td>very good!! the directions were alittle weird ...</td>\n",
       "      <td>2009-01-15 20:02:30+00:00</td>\n",
       "      <td>2009-01-15 20:02:30+00:00</td>\n",
       "    </tr>\n",
       "    <tr>\n",
       "      <th>2</th>\n",
       "      <td>38.0</td>\n",
       "      <td>Low-Fat Berry Blue Frozen Dessert</td>\n",
       "      <td>1533</td>\n",
       "      <td>Dancer</td>\n",
       "      <td>PT24H45M</td>\n",
       "      <td>1999-08-09 21:46:00+00:00</td>\n",
       "      <td>Make and share this Low-Fat Berry Blue Frozen ...</td>\n",
       "      <td>Frozen Desserts</td>\n",
       "      <td>(Dessert, Low Protein, Low Cholesterol, Health...</td>\n",
       "      <td>(4, 1⁄4, 1, 1)</td>\n",
       "      <td>...</td>\n",
       "      <td>(Toss 2 cups berries with sugar., Let stand fo...</td>\n",
       "      <td>1485</td>\n",
       "      <td>75</td>\n",
       "      <td>1448544</td>\n",
       "      <td>1802956262</td>\n",
       "      <td>ionnym</td>\n",
       "      <td>4</td>\n",
       "      <td>This does taste great! I think the recipe need...</td>\n",
       "      <td>2014-07-22 21:23:02+00:00</td>\n",
       "      <td>2014-07-22 21:23:02+00:00</td>\n",
       "    </tr>\n",
       "    <tr>\n",
       "      <th>3</th>\n",
       "      <td>38.0</td>\n",
       "      <td>Low-Fat Berry Blue Frozen Dessert</td>\n",
       "      <td>1533</td>\n",
       "      <td>Dancer</td>\n",
       "      <td>PT24H45M</td>\n",
       "      <td>1999-08-09 21:46:00+00:00</td>\n",
       "      <td>Make and share this Low-Fat Berry Blue Frozen ...</td>\n",
       "      <td>Frozen Desserts</td>\n",
       "      <td>(Dessert, Low Protein, Low Cholesterol, Health...</td>\n",
       "      <td>(4, 1⁄4, 1, 1)</td>\n",
       "      <td>...</td>\n",
       "      <td>(Toss 2 cups berries with sugar., Let stand fo...</td>\n",
       "      <td>1485</td>\n",
       "      <td>75</td>\n",
       "      <td>1450744</td>\n",
       "      <td>2123645</td>\n",
       "      <td>DeliciousAsItLooks</td>\n",
       "      <td>4</td>\n",
       "      <td>Tasty and refreshing! I love the creamy flavor...</td>\n",
       "      <td>2014-08-14 20:51:35+00:00</td>\n",
       "      <td>2014-08-14 20:51:35+00:00</td>\n",
       "    </tr>\n",
       "    <tr>\n",
       "      <th>4</th>\n",
       "      <td>39.0</td>\n",
       "      <td>Biryani</td>\n",
       "      <td>1567</td>\n",
       "      <td>elly9812</td>\n",
       "      <td>PT4H25M</td>\n",
       "      <td>1999-08-29 13:12:00+00:00</td>\n",
       "      <td>Make and share this Biryani recipe from Food.com.</td>\n",
       "      <td>Chicken Breast</td>\n",
       "      <td>(Chicken Thigh &amp; Leg, Chicken, Poultry, Meat, ...</td>\n",
       "      <td>(1, 4, 2, 2, 8, 1⁄4, 8, 1⁄2, 1, 1, 1⁄4, 1⁄4, 1...</td>\n",
       "      <td>...</td>\n",
       "      <td>(Soak saffron in warm milk for 5 minutes and p...</td>\n",
       "      <td>265</td>\n",
       "      <td>49</td>\n",
       "      <td>361851</td>\n",
       "      <td>393254</td>\n",
       "      <td>cassiopeia94</td>\n",
       "      <td>3</td>\n",
       "      <td>I have an Indian friend who made this dish for...</td>\n",
       "      <td>2007-01-20 14:00:09+00:00</td>\n",
       "      <td>2007-01-20 14:00:09+00:00</td>\n",
       "    </tr>\n",
       "  </tbody>\n",
       "</table>\n",
       "<p>5 rows × 31 columns</p>\n",
       "</div>"
      ],
      "text/plain": [
       "   RecipeId                               Name  AuthorId_x AuthorName_x  \\\n",
       "0      38.0  Low-Fat Berry Blue Frozen Dessert        1533       Dancer   \n",
       "1      38.0  Low-Fat Berry Blue Frozen Dessert        1533       Dancer   \n",
       "2      38.0  Low-Fat Berry Blue Frozen Dessert        1533       Dancer   \n",
       "3      38.0  Low-Fat Berry Blue Frozen Dessert        1533       Dancer   \n",
       "4      39.0                            Biryani        1567     elly9812   \n",
       "\n",
       "  TotalTime             DatePublished  \\\n",
       "0  PT24H45M 1999-08-09 21:46:00+00:00   \n",
       "1  PT24H45M 1999-08-09 21:46:00+00:00   \n",
       "2  PT24H45M 1999-08-09 21:46:00+00:00   \n",
       "3  PT24H45M 1999-08-09 21:46:00+00:00   \n",
       "4   PT4H25M 1999-08-29 13:12:00+00:00   \n",
       "\n",
       "                                         Description   RecipeCategory  \\\n",
       "0  Make and share this Low-Fat Berry Blue Frozen ...  Frozen Desserts   \n",
       "1  Make and share this Low-Fat Berry Blue Frozen ...  Frozen Desserts   \n",
       "2  Make and share this Low-Fat Berry Blue Frozen ...  Frozen Desserts   \n",
       "3  Make and share this Low-Fat Berry Blue Frozen ...  Frozen Desserts   \n",
       "4  Make and share this Biryani recipe from Food.com.   Chicken Breast   \n",
       "\n",
       "                                            Keywords  \\\n",
       "0  (Dessert, Low Protein, Low Cholesterol, Health...   \n",
       "1  (Dessert, Low Protein, Low Cholesterol, Health...   \n",
       "2  (Dessert, Low Protein, Low Cholesterol, Health...   \n",
       "3  (Dessert, Low Protein, Low Cholesterol, Health...   \n",
       "4  (Chicken Thigh & Leg, Chicken, Poultry, Meat, ...   \n",
       "\n",
       "                          RecipeIngredientQuantities  ...  \\\n",
       "0                                     (4, 1⁄4, 1, 1)  ...   \n",
       "1                                     (4, 1⁄4, 1, 1)  ...   \n",
       "2                                     (4, 1⁄4, 1, 1)  ...   \n",
       "3                                     (4, 1⁄4, 1, 1)  ...   \n",
       "4  (1, 4, 2, 2, 8, 1⁄4, 8, 1⁄2, 1, 1, 1⁄4, 1⁄4, 1...  ...   \n",
       "\n",
       "                                  RecipeInstructions  TotalTimeMinutes  \\\n",
       "0  (Toss 2 cups berries with sugar., Let stand fo...              1485   \n",
       "1  (Toss 2 cups berries with sugar., Let stand fo...              1485   \n",
       "2  (Toss 2 cups berries with sugar., Let stand fo...              1485   \n",
       "3  (Toss 2 cups berries with sugar., Let stand fo...              1485   \n",
       "4  (Soak saffron in warm milk for 5 minutes and p...               265   \n",
       "\n",
       "   description_length  ReviewId  AuthorId_y        AuthorName_y  Rating  \\\n",
       "0                  75    579149      596506       allisonsmommy       5   \n",
       "1                  75    789264     1060485           allyop135       4   \n",
       "2                  75   1448544  1802956262              ionnym       4   \n",
       "3                  75   1450744     2123645  DeliciousAsItLooks       4   \n",
       "4                  49    361851      393254        cassiopeia94       3   \n",
       "\n",
       "                                              Review  \\\n",
       "0  Yummy, yummy, yummy! I am a big fan of fruit a...   \n",
       "1  very good!! the directions were alittle weird ...   \n",
       "2  This does taste great! I think the recipe need...   \n",
       "3  Tasty and refreshing! I love the creamy flavor...   \n",
       "4  I have an Indian friend who made this dish for...   \n",
       "\n",
       "              DateSubmitted              DateModified  \n",
       "0 2008-02-13 00:26:49+00:00 2008-02-13 00:26:49+00:00  \n",
       "1 2009-01-15 20:02:30+00:00 2009-01-15 20:02:30+00:00  \n",
       "2 2014-07-22 21:23:02+00:00 2014-07-22 21:23:02+00:00  \n",
       "3 2014-08-14 20:51:35+00:00 2014-08-14 20:51:35+00:00  \n",
       "4 2007-01-20 14:00:09+00:00 2007-01-20 14:00:09+00:00  \n",
       "\n",
       "[5 rows x 31 columns]"
      ]
     },
     "execution_count": 60,
     "metadata": {},
     "output_type": "execute_result"
    }
   ],
   "source": [
    "merge_recipe_review.head()"
   ]
  },
  {
   "cell_type": "code",
   "execution_count": 62,
   "id": "bf37a067-c112-4b33-b8aa-f701df0fcf01",
   "metadata": {},
   "outputs": [],
   "source": [
    "merge_recipe_review['average_rating'] = merge_recipe_review.groupby('RecipeId')['Rating'].transform('mean')"
   ]
  },
  {
   "cell_type": "code",
   "execution_count": 63,
   "id": "0081d01d-cd9b-436b-8d04-7baeb9cf1a54",
   "metadata": {},
   "outputs": [
    {
     "data": {
      "text/html": [
       "<div>\n",
       "<style scoped>\n",
       "    .dataframe tbody tr th:only-of-type {\n",
       "        vertical-align: middle;\n",
       "    }\n",
       "\n",
       "    .dataframe tbody tr th {\n",
       "        vertical-align: top;\n",
       "    }\n",
       "\n",
       "    .dataframe thead th {\n",
       "        text-align: right;\n",
       "    }\n",
       "</style>\n",
       "<table border=\"1\" class=\"dataframe\">\n",
       "  <thead>\n",
       "    <tr style=\"text-align: right;\">\n",
       "      <th></th>\n",
       "      <th>RecipeId</th>\n",
       "      <th>Name</th>\n",
       "      <th>AuthorId_recipe</th>\n",
       "      <th>AuthorName_recipe</th>\n",
       "      <th>TotalTime</th>\n",
       "      <th>DatePublished</th>\n",
       "      <th>Description</th>\n",
       "      <th>RecipeCategory</th>\n",
       "      <th>Keywords</th>\n",
       "      <th>RecipeIngredientQuantities</th>\n",
       "      <th>...</th>\n",
       "      <th>TotalTimeMinutes</th>\n",
       "      <th>description_length</th>\n",
       "      <th>ReviewId</th>\n",
       "      <th>AuthorId_review</th>\n",
       "      <th>AuthorName_review</th>\n",
       "      <th>Rating</th>\n",
       "      <th>Review</th>\n",
       "      <th>DateSubmitted</th>\n",
       "      <th>DateModified</th>\n",
       "      <th>average_rating</th>\n",
       "    </tr>\n",
       "  </thead>\n",
       "  <tbody>\n",
       "    <tr>\n",
       "      <th>0</th>\n",
       "      <td>38.0</td>\n",
       "      <td>Low-Fat Berry Blue Frozen Dessert</td>\n",
       "      <td>1533</td>\n",
       "      <td>Dancer</td>\n",
       "      <td>PT24H45M</td>\n",
       "      <td>1999-08-09 21:46:00+00:00</td>\n",
       "      <td>Make and share this Low-Fat Berry Blue Frozen ...</td>\n",
       "      <td>Frozen Desserts</td>\n",
       "      <td>(Dessert, Low Protein, Low Cholesterol, Health...</td>\n",
       "      <td>(4, 1⁄4, 1, 1)</td>\n",
       "      <td>...</td>\n",
       "      <td>1485</td>\n",
       "      <td>75</td>\n",
       "      <td>579149</td>\n",
       "      <td>596506</td>\n",
       "      <td>allisonsmommy</td>\n",
       "      <td>5</td>\n",
       "      <td>Yummy, yummy, yummy! I am a big fan of fruit a...</td>\n",
       "      <td>2008-02-13 00:26:49+00:00</td>\n",
       "      <td>2008-02-13 00:26:49+00:00</td>\n",
       "      <td>4.25</td>\n",
       "    </tr>\n",
       "    <tr>\n",
       "      <th>1</th>\n",
       "      <td>38.0</td>\n",
       "      <td>Low-Fat Berry Blue Frozen Dessert</td>\n",
       "      <td>1533</td>\n",
       "      <td>Dancer</td>\n",
       "      <td>PT24H45M</td>\n",
       "      <td>1999-08-09 21:46:00+00:00</td>\n",
       "      <td>Make and share this Low-Fat Berry Blue Frozen ...</td>\n",
       "      <td>Frozen Desserts</td>\n",
       "      <td>(Dessert, Low Protein, Low Cholesterol, Health...</td>\n",
       "      <td>(4, 1⁄4, 1, 1)</td>\n",
       "      <td>...</td>\n",
       "      <td>1485</td>\n",
       "      <td>75</td>\n",
       "      <td>789264</td>\n",
       "      <td>1060485</td>\n",
       "      <td>allyop135</td>\n",
       "      <td>4</td>\n",
       "      <td>very good!! the directions were alittle weird ...</td>\n",
       "      <td>2009-01-15 20:02:30+00:00</td>\n",
       "      <td>2009-01-15 20:02:30+00:00</td>\n",
       "      <td>4.25</td>\n",
       "    </tr>\n",
       "    <tr>\n",
       "      <th>2</th>\n",
       "      <td>38.0</td>\n",
       "      <td>Low-Fat Berry Blue Frozen Dessert</td>\n",
       "      <td>1533</td>\n",
       "      <td>Dancer</td>\n",
       "      <td>PT24H45M</td>\n",
       "      <td>1999-08-09 21:46:00+00:00</td>\n",
       "      <td>Make and share this Low-Fat Berry Blue Frozen ...</td>\n",
       "      <td>Frozen Desserts</td>\n",
       "      <td>(Dessert, Low Protein, Low Cholesterol, Health...</td>\n",
       "      <td>(4, 1⁄4, 1, 1)</td>\n",
       "      <td>...</td>\n",
       "      <td>1485</td>\n",
       "      <td>75</td>\n",
       "      <td>1448544</td>\n",
       "      <td>1802956262</td>\n",
       "      <td>ionnym</td>\n",
       "      <td>4</td>\n",
       "      <td>This does taste great! I think the recipe need...</td>\n",
       "      <td>2014-07-22 21:23:02+00:00</td>\n",
       "      <td>2014-07-22 21:23:02+00:00</td>\n",
       "      <td>4.25</td>\n",
       "    </tr>\n",
       "    <tr>\n",
       "      <th>3</th>\n",
       "      <td>38.0</td>\n",
       "      <td>Low-Fat Berry Blue Frozen Dessert</td>\n",
       "      <td>1533</td>\n",
       "      <td>Dancer</td>\n",
       "      <td>PT24H45M</td>\n",
       "      <td>1999-08-09 21:46:00+00:00</td>\n",
       "      <td>Make and share this Low-Fat Berry Blue Frozen ...</td>\n",
       "      <td>Frozen Desserts</td>\n",
       "      <td>(Dessert, Low Protein, Low Cholesterol, Health...</td>\n",
       "      <td>(4, 1⁄4, 1, 1)</td>\n",
       "      <td>...</td>\n",
       "      <td>1485</td>\n",
       "      <td>75</td>\n",
       "      <td>1450744</td>\n",
       "      <td>2123645</td>\n",
       "      <td>DeliciousAsItLooks</td>\n",
       "      <td>4</td>\n",
       "      <td>Tasty and refreshing! I love the creamy flavor...</td>\n",
       "      <td>2014-08-14 20:51:35+00:00</td>\n",
       "      <td>2014-08-14 20:51:35+00:00</td>\n",
       "      <td>4.25</td>\n",
       "    </tr>\n",
       "    <tr>\n",
       "      <th>4</th>\n",
       "      <td>39.0</td>\n",
       "      <td>Biryani</td>\n",
       "      <td>1567</td>\n",
       "      <td>elly9812</td>\n",
       "      <td>PT4H25M</td>\n",
       "      <td>1999-08-29 13:12:00+00:00</td>\n",
       "      <td>Make and share this Biryani recipe from Food.com.</td>\n",
       "      <td>Chicken Breast</td>\n",
       "      <td>(Chicken Thigh &amp; Leg, Chicken, Poultry, Meat, ...</td>\n",
       "      <td>(1, 4, 2, 2, 8, 1⁄4, 8, 1⁄2, 1, 1, 1⁄4, 1⁄4, 1...</td>\n",
       "      <td>...</td>\n",
       "      <td>265</td>\n",
       "      <td>49</td>\n",
       "      <td>361851</td>\n",
       "      <td>393254</td>\n",
       "      <td>cassiopeia94</td>\n",
       "      <td>3</td>\n",
       "      <td>I have an Indian friend who made this dish for...</td>\n",
       "      <td>2007-01-20 14:00:09+00:00</td>\n",
       "      <td>2007-01-20 14:00:09+00:00</td>\n",
       "      <td>3.00</td>\n",
       "    </tr>\n",
       "  </tbody>\n",
       "</table>\n",
       "<p>5 rows × 32 columns</p>\n",
       "</div>"
      ],
      "text/plain": [
       "   RecipeId                               Name  AuthorId_recipe  \\\n",
       "0      38.0  Low-Fat Berry Blue Frozen Dessert             1533   \n",
       "1      38.0  Low-Fat Berry Blue Frozen Dessert             1533   \n",
       "2      38.0  Low-Fat Berry Blue Frozen Dessert             1533   \n",
       "3      38.0  Low-Fat Berry Blue Frozen Dessert             1533   \n",
       "4      39.0                            Biryani             1567   \n",
       "\n",
       "  AuthorName_recipe TotalTime             DatePublished  \\\n",
       "0            Dancer  PT24H45M 1999-08-09 21:46:00+00:00   \n",
       "1            Dancer  PT24H45M 1999-08-09 21:46:00+00:00   \n",
       "2            Dancer  PT24H45M 1999-08-09 21:46:00+00:00   \n",
       "3            Dancer  PT24H45M 1999-08-09 21:46:00+00:00   \n",
       "4          elly9812   PT4H25M 1999-08-29 13:12:00+00:00   \n",
       "\n",
       "                                         Description   RecipeCategory  \\\n",
       "0  Make and share this Low-Fat Berry Blue Frozen ...  Frozen Desserts   \n",
       "1  Make and share this Low-Fat Berry Blue Frozen ...  Frozen Desserts   \n",
       "2  Make and share this Low-Fat Berry Blue Frozen ...  Frozen Desserts   \n",
       "3  Make and share this Low-Fat Berry Blue Frozen ...  Frozen Desserts   \n",
       "4  Make and share this Biryani recipe from Food.com.   Chicken Breast   \n",
       "\n",
       "                                            Keywords  \\\n",
       "0  (Dessert, Low Protein, Low Cholesterol, Health...   \n",
       "1  (Dessert, Low Protein, Low Cholesterol, Health...   \n",
       "2  (Dessert, Low Protein, Low Cholesterol, Health...   \n",
       "3  (Dessert, Low Protein, Low Cholesterol, Health...   \n",
       "4  (Chicken Thigh & Leg, Chicken, Poultry, Meat, ...   \n",
       "\n",
       "                          RecipeIngredientQuantities  ... TotalTimeMinutes  \\\n",
       "0                                     (4, 1⁄4, 1, 1)  ...             1485   \n",
       "1                                     (4, 1⁄4, 1, 1)  ...             1485   \n",
       "2                                     (4, 1⁄4, 1, 1)  ...             1485   \n",
       "3                                     (4, 1⁄4, 1, 1)  ...             1485   \n",
       "4  (1, 4, 2, 2, 8, 1⁄4, 8, 1⁄2, 1, 1, 1⁄4, 1⁄4, 1...  ...              265   \n",
       "\n",
       "   description_length  ReviewId  AuthorId_review   AuthorName_review  Rating  \\\n",
       "0                  75    579149           596506       allisonsmommy       5   \n",
       "1                  75    789264          1060485           allyop135       4   \n",
       "2                  75   1448544       1802956262              ionnym       4   \n",
       "3                  75   1450744          2123645  DeliciousAsItLooks       4   \n",
       "4                  49    361851           393254        cassiopeia94       3   \n",
       "\n",
       "                                              Review  \\\n",
       "0  Yummy, yummy, yummy! I am a big fan of fruit a...   \n",
       "1  very good!! the directions were alittle weird ...   \n",
       "2  This does taste great! I think the recipe need...   \n",
       "3  Tasty and refreshing! I love the creamy flavor...   \n",
       "4  I have an Indian friend who made this dish for...   \n",
       "\n",
       "              DateSubmitted              DateModified  average_rating  \n",
       "0 2008-02-13 00:26:49+00:00 2008-02-13 00:26:49+00:00            4.25  \n",
       "1 2009-01-15 20:02:30+00:00 2009-01-15 20:02:30+00:00            4.25  \n",
       "2 2014-07-22 21:23:02+00:00 2014-07-22 21:23:02+00:00            4.25  \n",
       "3 2014-08-14 20:51:35+00:00 2014-08-14 20:51:35+00:00            4.25  \n",
       "4 2007-01-20 14:00:09+00:00 2007-01-20 14:00:09+00:00            3.00  \n",
       "\n",
       "[5 rows x 32 columns]"
      ]
     },
     "execution_count": 63,
     "metadata": {},
     "output_type": "execute_result"
    }
   ],
   "source": [
    "#rename columns \n",
    "merge_recipe_review.rename(columns={'AuthorId_x': 'AuthorId_recipe', 'AuthorName_x': 'AuthorName_recipe', 'AuthorId_y': 'AuthorId_review', 'AuthorName_y': 'AuthorName_review'}, inplace=True)\n",
    "merge_recipe_review.head()"
   ]
  },
  {
   "cell_type": "code",
   "execution_count": 64,
   "id": "b84e418b-43b8-4618-a053-9a645a0b641d",
   "metadata": {},
   "outputs": [
    {
     "data": {
      "text/html": [
       "<div>\n",
       "<style scoped>\n",
       "    .dataframe tbody tr th:only-of-type {\n",
       "        vertical-align: middle;\n",
       "    }\n",
       "\n",
       "    .dataframe tbody tr th {\n",
       "        vertical-align: top;\n",
       "    }\n",
       "\n",
       "    .dataframe thead th {\n",
       "        text-align: right;\n",
       "    }\n",
       "</style>\n",
       "<table border=\"1\" class=\"dataframe\">\n",
       "  <thead>\n",
       "    <tr style=\"text-align: right;\">\n",
       "      <th></th>\n",
       "      <th>RecipeId</th>\n",
       "      <th>Name</th>\n",
       "      <th>AuthorId_x</th>\n",
       "      <th>AuthorName_x</th>\n",
       "      <th>TotalTime</th>\n",
       "      <th>DatePublished</th>\n",
       "      <th>Description</th>\n",
       "      <th>RecipeCategory</th>\n",
       "      <th>Keywords</th>\n",
       "      <th>RecipeIngredientQuantities</th>\n",
       "      <th>...</th>\n",
       "      <th>description_length</th>\n",
       "      <th>ReviewId</th>\n",
       "      <th>AuthorId_y</th>\n",
       "      <th>AuthorName_y</th>\n",
       "      <th>Rating</th>\n",
       "      <th>Review</th>\n",
       "      <th>DateSubmitted</th>\n",
       "      <th>DateModified</th>\n",
       "      <th>average_rating</th>\n",
       "      <th>rating_count</th>\n",
       "    </tr>\n",
       "  </thead>\n",
       "  <tbody>\n",
       "    <tr>\n",
       "      <th>0</th>\n",
       "      <td>38.0</td>\n",
       "      <td>Low-Fat Berry Blue Frozen Dessert</td>\n",
       "      <td>1533</td>\n",
       "      <td>Dancer</td>\n",
       "      <td>PT24H45M</td>\n",
       "      <td>1999-08-09 21:46:00+00:00</td>\n",
       "      <td>Make and share this Low-Fat Berry Blue Frozen ...</td>\n",
       "      <td>Frozen Desserts</td>\n",
       "      <td>(Dessert, Low Protein, Low Cholesterol, Health...</td>\n",
       "      <td>(4, 1⁄4, 1, 1)</td>\n",
       "      <td>...</td>\n",
       "      <td>75</td>\n",
       "      <td>579149</td>\n",
       "      <td>596506</td>\n",
       "      <td>allisonsmommy</td>\n",
       "      <td>5</td>\n",
       "      <td>Yummy, yummy, yummy! I am a big fan of fruit a...</td>\n",
       "      <td>2008-02-13 00:26:49+00:00</td>\n",
       "      <td>2008-02-13 00:26:49+00:00</td>\n",
       "      <td>4.25</td>\n",
       "      <td>4</td>\n",
       "    </tr>\n",
       "    <tr>\n",
       "      <th>1</th>\n",
       "      <td>38.0</td>\n",
       "      <td>Low-Fat Berry Blue Frozen Dessert</td>\n",
       "      <td>1533</td>\n",
       "      <td>Dancer</td>\n",
       "      <td>PT24H45M</td>\n",
       "      <td>1999-08-09 21:46:00+00:00</td>\n",
       "      <td>Make and share this Low-Fat Berry Blue Frozen ...</td>\n",
       "      <td>Frozen Desserts</td>\n",
       "      <td>(Dessert, Low Protein, Low Cholesterol, Health...</td>\n",
       "      <td>(4, 1⁄4, 1, 1)</td>\n",
       "      <td>...</td>\n",
       "      <td>75</td>\n",
       "      <td>789264</td>\n",
       "      <td>1060485</td>\n",
       "      <td>allyop135</td>\n",
       "      <td>4</td>\n",
       "      <td>very good!! the directions were alittle weird ...</td>\n",
       "      <td>2009-01-15 20:02:30+00:00</td>\n",
       "      <td>2009-01-15 20:02:30+00:00</td>\n",
       "      <td>4.25</td>\n",
       "      <td>4</td>\n",
       "    </tr>\n",
       "    <tr>\n",
       "      <th>2</th>\n",
       "      <td>38.0</td>\n",
       "      <td>Low-Fat Berry Blue Frozen Dessert</td>\n",
       "      <td>1533</td>\n",
       "      <td>Dancer</td>\n",
       "      <td>PT24H45M</td>\n",
       "      <td>1999-08-09 21:46:00+00:00</td>\n",
       "      <td>Make and share this Low-Fat Berry Blue Frozen ...</td>\n",
       "      <td>Frozen Desserts</td>\n",
       "      <td>(Dessert, Low Protein, Low Cholesterol, Health...</td>\n",
       "      <td>(4, 1⁄4, 1, 1)</td>\n",
       "      <td>...</td>\n",
       "      <td>75</td>\n",
       "      <td>1448544</td>\n",
       "      <td>1802956262</td>\n",
       "      <td>ionnym</td>\n",
       "      <td>4</td>\n",
       "      <td>This does taste great! I think the recipe need...</td>\n",
       "      <td>2014-07-22 21:23:02+00:00</td>\n",
       "      <td>2014-07-22 21:23:02+00:00</td>\n",
       "      <td>4.25</td>\n",
       "      <td>4</td>\n",
       "    </tr>\n",
       "    <tr>\n",
       "      <th>3</th>\n",
       "      <td>38.0</td>\n",
       "      <td>Low-Fat Berry Blue Frozen Dessert</td>\n",
       "      <td>1533</td>\n",
       "      <td>Dancer</td>\n",
       "      <td>PT24H45M</td>\n",
       "      <td>1999-08-09 21:46:00+00:00</td>\n",
       "      <td>Make and share this Low-Fat Berry Blue Frozen ...</td>\n",
       "      <td>Frozen Desserts</td>\n",
       "      <td>(Dessert, Low Protein, Low Cholesterol, Health...</td>\n",
       "      <td>(4, 1⁄4, 1, 1)</td>\n",
       "      <td>...</td>\n",
       "      <td>75</td>\n",
       "      <td>1450744</td>\n",
       "      <td>2123645</td>\n",
       "      <td>DeliciousAsItLooks</td>\n",
       "      <td>4</td>\n",
       "      <td>Tasty and refreshing! I love the creamy flavor...</td>\n",
       "      <td>2014-08-14 20:51:35+00:00</td>\n",
       "      <td>2014-08-14 20:51:35+00:00</td>\n",
       "      <td>4.25</td>\n",
       "      <td>4</td>\n",
       "    </tr>\n",
       "    <tr>\n",
       "      <th>4</th>\n",
       "      <td>39.0</td>\n",
       "      <td>Biryani</td>\n",
       "      <td>1567</td>\n",
       "      <td>elly9812</td>\n",
       "      <td>PT4H25M</td>\n",
       "      <td>1999-08-29 13:12:00+00:00</td>\n",
       "      <td>Make and share this Biryani recipe from Food.com.</td>\n",
       "      <td>Chicken Breast</td>\n",
       "      <td>(Chicken Thigh &amp; Leg, Chicken, Poultry, Meat, ...</td>\n",
       "      <td>(1, 4, 2, 2, 8, 1⁄4, 8, 1⁄2, 1, 1, 1⁄4, 1⁄4, 1...</td>\n",
       "      <td>...</td>\n",
       "      <td>49</td>\n",
       "      <td>361851</td>\n",
       "      <td>393254</td>\n",
       "      <td>cassiopeia94</td>\n",
       "      <td>3</td>\n",
       "      <td>I have an Indian friend who made this dish for...</td>\n",
       "      <td>2007-01-20 14:00:09+00:00</td>\n",
       "      <td>2007-01-20 14:00:09+00:00</td>\n",
       "      <td>3.00</td>\n",
       "      <td>1</td>\n",
       "    </tr>\n",
       "  </tbody>\n",
       "</table>\n",
       "<p>5 rows × 33 columns</p>\n",
       "</div>"
      ],
      "text/plain": [
       "   RecipeId                               Name  AuthorId_x AuthorName_x  \\\n",
       "0      38.0  Low-Fat Berry Blue Frozen Dessert        1533       Dancer   \n",
       "1      38.0  Low-Fat Berry Blue Frozen Dessert        1533       Dancer   \n",
       "2      38.0  Low-Fat Berry Blue Frozen Dessert        1533       Dancer   \n",
       "3      38.0  Low-Fat Berry Blue Frozen Dessert        1533       Dancer   \n",
       "4      39.0                            Biryani        1567     elly9812   \n",
       "\n",
       "  TotalTime             DatePublished  \\\n",
       "0  PT24H45M 1999-08-09 21:46:00+00:00   \n",
       "1  PT24H45M 1999-08-09 21:46:00+00:00   \n",
       "2  PT24H45M 1999-08-09 21:46:00+00:00   \n",
       "3  PT24H45M 1999-08-09 21:46:00+00:00   \n",
       "4   PT4H25M 1999-08-29 13:12:00+00:00   \n",
       "\n",
       "                                         Description   RecipeCategory  \\\n",
       "0  Make and share this Low-Fat Berry Blue Frozen ...  Frozen Desserts   \n",
       "1  Make and share this Low-Fat Berry Blue Frozen ...  Frozen Desserts   \n",
       "2  Make and share this Low-Fat Berry Blue Frozen ...  Frozen Desserts   \n",
       "3  Make and share this Low-Fat Berry Blue Frozen ...  Frozen Desserts   \n",
       "4  Make and share this Biryani recipe from Food.com.   Chicken Breast   \n",
       "\n",
       "                                            Keywords  \\\n",
       "0  (Dessert, Low Protein, Low Cholesterol, Health...   \n",
       "1  (Dessert, Low Protein, Low Cholesterol, Health...   \n",
       "2  (Dessert, Low Protein, Low Cholesterol, Health...   \n",
       "3  (Dessert, Low Protein, Low Cholesterol, Health...   \n",
       "4  (Chicken Thigh & Leg, Chicken, Poultry, Meat, ...   \n",
       "\n",
       "                          RecipeIngredientQuantities  ... description_length  \\\n",
       "0                                     (4, 1⁄4, 1, 1)  ...                 75   \n",
       "1                                     (4, 1⁄4, 1, 1)  ...                 75   \n",
       "2                                     (4, 1⁄4, 1, 1)  ...                 75   \n",
       "3                                     (4, 1⁄4, 1, 1)  ...                 75   \n",
       "4  (1, 4, 2, 2, 8, 1⁄4, 8, 1⁄2, 1, 1, 1⁄4, 1⁄4, 1...  ...                 49   \n",
       "\n",
       "   ReviewId  AuthorId_y        AuthorName_y  Rating  \\\n",
       "0    579149      596506       allisonsmommy       5   \n",
       "1    789264     1060485           allyop135       4   \n",
       "2   1448544  1802956262              ionnym       4   \n",
       "3   1450744     2123645  DeliciousAsItLooks       4   \n",
       "4    361851      393254        cassiopeia94       3   \n",
       "\n",
       "                                              Review  \\\n",
       "0  Yummy, yummy, yummy! I am a big fan of fruit a...   \n",
       "1  very good!! the directions were alittle weird ...   \n",
       "2  This does taste great! I think the recipe need...   \n",
       "3  Tasty and refreshing! I love the creamy flavor...   \n",
       "4  I have an Indian friend who made this dish for...   \n",
       "\n",
       "              DateSubmitted              DateModified  average_rating  \\\n",
       "0 2008-02-13 00:26:49+00:00 2008-02-13 00:26:49+00:00            4.25   \n",
       "1 2009-01-15 20:02:30+00:00 2009-01-15 20:02:30+00:00            4.25   \n",
       "2 2014-07-22 21:23:02+00:00 2014-07-22 21:23:02+00:00            4.25   \n",
       "3 2014-08-14 20:51:35+00:00 2014-08-14 20:51:35+00:00            4.25   \n",
       "4 2007-01-20 14:00:09+00:00 2007-01-20 14:00:09+00:00            3.00   \n",
       "\n",
       "   rating_count  \n",
       "0             4  \n",
       "1             4  \n",
       "2             4  \n",
       "3             4  \n",
       "4             1  \n",
       "\n",
       "[5 rows x 33 columns]"
      ]
     },
     "execution_count": 64,
     "metadata": {},
     "output_type": "execute_result"
    }
   ],
   "source": [
    "merged_df['rating_count'] = merged_df.groupby('RecipeId')['Rating'].transform('count')\n",
    "merged_df.head()"
   ]
  },
  {
   "cell_type": "code",
   "execution_count": 66,
   "id": "632813cb-57c5-4cb0-94a6-345ef3939935",
   "metadata": {},
   "outputs": [
    {
     "data": {
      "text/plain": [
       "RecipeId                      0\n",
       "Name                          0\n",
       "AuthorId_recipe               0\n",
       "AuthorName_recipe             0\n",
       "TotalTime                     0\n",
       "DatePublished                 0\n",
       "Description                   0\n",
       "RecipeCategory                0\n",
       "Keywords                      0\n",
       "RecipeIngredientQuantities    0\n",
       "RecipeIngredientParts         0\n",
       "Calories                      0\n",
       "FatContent                    0\n",
       "SaturatedFatContent           0\n",
       "CholesterolContent            0\n",
       "SodiumContent                 0\n",
       "CarbohydrateContent           0\n",
       "FiberContent                  0\n",
       "SugarContent                  0\n",
       "ProteinContent                0\n",
       "RecipeServings                0\n",
       "RecipeInstructions            0\n",
       "TotalTimeMinutes              0\n",
       "description_length            0\n",
       "ReviewId                      0\n",
       "AuthorId_review               0\n",
       "AuthorName_review             0\n",
       "Rating                        0\n",
       "Review                        0\n",
       "DateSubmitted                 0\n",
       "DateModified                  0\n",
       "average_rating                0\n",
       "dtype: int64"
      ]
     },
     "execution_count": 66,
     "metadata": {},
     "output_type": "execute_result"
    }
   ],
   "source": [
    "#looking for NaN data.\n",
    "nulls = merge_recipe_review.isnull().sum()\n",
    "nulls"
   ]
  },
  {
   "cell_type": "code",
   "execution_count": 69,
   "id": "b3fb47aa-e348-49a3-b60f-e8305b68998c",
   "metadata": {},
   "outputs": [
    {
     "data": {
      "image/png": "[encoded data removed]",
      "text/plain": [
       "<Figure size 800x600 with 1 Axes>"
      ]
     },
     "metadata": {},
     "output_type": "display_data"
    }
   ],
   "source": [
    "#Distribution of averge ratings among the recipes\n",
    "\n",
    "plt.figure(figsize=(8, 6))\n",
    "plt.hist(merge_recipe_review['average_rating'], bins=range(1, 7, 1), edgecolor='black', align='left')\n",
    "plt.xlabel('Rating')\n",
    "plt.ylabel('Frequency')\n",
    "plt.title('Distribution of Recipe Average Ratings')\n",
    "plt.xticks(range(1, 6))\n",
    "plt.show()\n"
   ]
  },
  {
   "cell_type": "markdown",
   "id": "f582d196-bac5-4b74-ad42-dd3f18cb03c0",
   "metadata": {},
   "source": [
    "Summary and next step\n",
    "\n",
    "I-Data wrangling:\n",
    "        - overview of the dataframes\n",
    "        - identification and drop null data\n",
    "        - identificaiton and drop duplicates\n",
    "        - creation of new data:\n",
    "                    - length of description \n",
    "                    - Recipe Total time in minutes\n",
    "                    - Merging recipes and reviews and creating average ratings and assign users to recipes\n",
    "\n",
    "\n",
    "\n",
    "II- Main questions that can be addressed using the final \"merge_recipe_review\" Dataframe\n",
    "1- Can we predict the average rating according? \n",
    "2- Can we use our dataset to suggest recipe to users?\n"
   ]
  },
  {
   "cell_type": "code",
   "execution_count": null,
   "id": "78b8871c-920c-46a1-945d-bea96b153f6e",
   "metadata": {},
   "outputs": [],
   "source": []
  }
 ],
 "metadata": {
  "kernelspec": {
   "display_name": "Python 3 (ipykernel)",
   "language": "python",
   "name": "python3"
  },
  "language_info": {
   "codemirror_mode": {
    "name": "ipython",
    "version": 3
   },
   "file_extension": ".py",
   "mimetype": "text/x-python",
   "name": "python",
   "nbconvert_exporter": "python",
   "pygments_lexer": "ipython3",
   "version": "3.11.7"
  }
 },
 "nbformat": 4,
 "nbformat_minor": 5
}
